{
 "cells": [
  {
   "cell_type": "code",
   "execution_count": 8,
   "metadata": {},
   "outputs": [],
   "source": [
    "import os\n",
    "os.chdir(\"/applications/mamp/htdocs/new_site/image/background\")"
   ]
  },
  {
   "cell_type": "code",
   "execution_count": 19,
   "metadata": {},
   "outputs": [
    {
     "name": "stdout",
     "output_type": "stream",
     "text": [
      "['pexels-pixabay-277273.jpg', 'pexels-emilia-czarnota-5705697.jpg', 'pexels-lisa-3978830.jpg', 'pexels-mark-stebnicki-2893525.jpg', 'pexels-engin-akyurt-3084219.jpg', 'resized', 'pexels-connor-danylenko-3113649.jpg', 'pexels-kindel-media-7456538.jpg', 'pexels-kindel-media-7456539.jpg', 'pexels-artem-beliaikin-1253193.jpg', 'pexels-eric-bvd-5705759.jpg', 'pexels-marco-antonio-victorino-2283061.jpg', 'pexels-kindel-media-7456548.jpg', 'pexels-yulia-rozanova-3004798.jpg', 'pexels-marco-antonio-victorino-2288692.jpg', 'pexels-markus-winkler-5609917.jpg', 'pexels-mark-stebnicki-2898762.jpg', 'pexels-marco-antonio-victorino-2288683.jpg', 'pexels-pineapple-supply-co-189264.jpg', 'pexels-mark-stebnicki-2893540.jpg', 'pexels-marco-antonio-victorino-2363347.jpg', 'pexels-marco-antonio-victorino-2363345.jpg', 'pexels-taryn-elliott-5334886.jpg', 'pexels-kindel-media-7457478.jpg', 'pexels-pixabay-39479.jpg', 'pexels-mark-stebnicki-2893635.jpg', 'pexels-kindel-media-7456540.jpg', 'pexels-mark-stebnicki-2893639.jpg', 'pexels-jacqueline-smith-5704350.jpg', 'pexels-kindel-media-7456543.jpg', 'pexels-kindel-media-7457476.jpg', 'pexels-renato-nascimento-5606739.jpg', 'pexels-marta-dzedyshko-2067574.jpg', 'pexels-bastian-riccardi-5913092.jpg', 'pexels-lisa-718143.jpg', 'pexels-kindel-media-7457465.jpg', 'pexels-kindel-media-7456550.jpg', 'pexels-kindel-media-7457173.jpg', 'pexels-dids-4294567.jpg', 'pexels-daniel-dan-7542900.jpg', 'pexels-mark-stebnicki-2893882.jpg', 'pexels-nataliya-vaitkevich-5425892.jpg', 'pexels-couleur-2661790.jpg', 'pexels-ready-made-3873893.jpg', 'pexels-kindel-media-7456525.jpg', 'pexels-monicore-2880693.jpg', 'pexels-daniel-dan-7542907.jpg', 'pexels-ellie-burgin-3375263.jpg', 'pexels-kostas-anastassiu-4024739.jpg']\n"
     ]
    }
   ],
   "source": [
    "print(os.listdir())"
   ]
  },
  {
   "cell_type": "code",
   "execution_count": 22,
   "metadata": {},
   "outputs": [],
   "source": [
    "from PIL import Image\n",
    "\n",
    "max_dim = 3000\n",
    "max_res = 72\n",
    "images = [f for f in os.listdir() if os.path.isfile(f)]\n",
    "\n",
    "for i in range(len(images)):\n",
    "    img = Image.open(images[i])\n",
    "    w = img.size[0]\n",
    "    h = img.size[1]\n",
    "\n",
    "    if (w > max_dim):\n",
    "        multiple = 1200/w\n",
    "        w *= multiple\n",
    "        h *= multiple\n",
    "\n",
    "    if (h > max_dim):\n",
    "        multiple *= 1200/h\n",
    "        w *= multiple\n",
    "        h *= multiple\n",
    "    \n",
    "    img = img.resize((round(w),round(h)), Image.ANTIALIAS)\n",
    "    img.save(\"resized/\"+str(i)+\".jpg\",'JPEG',quality=max_res) \n"
   ]
  },
  {
   "cell_type": "code",
   "execution_count": 13,
   "metadata": {},
   "outputs": [
    {
     "name": "stdout",
     "output_type": "stream",
     "text": [
      "(100, 100)\n"
     ]
    }
   ],
   "source": []
  },
  {
   "cell_type": "code",
   "execution_count": null,
   "metadata": {},
   "outputs": [],
   "source": []
  }
 ],
 "metadata": {
  "kernelspec": {
   "display_name": "Python 3",
   "language": "python",
   "name": "python3"
  },
  "language_info": {
   "codemirror_mode": {
    "name": "ipython",
    "version": 3
   },
   "file_extension": ".py",
   "mimetype": "text/x-python",
   "name": "python",
   "nbconvert_exporter": "python",
   "pygments_lexer": "ipython3",
   "version": "3.8.3"
  }
 },
 "nbformat": 4,
 "nbformat_minor": 4
}
