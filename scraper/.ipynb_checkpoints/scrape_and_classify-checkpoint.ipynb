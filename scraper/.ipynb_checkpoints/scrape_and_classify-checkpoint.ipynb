{
 "cells": [
  {
   "cell_type": "code",
   "execution_count": 1,
   "metadata": {},
   "outputs": [],
   "source": [
    "from model.Corpus import Corpus\n",
    "from model.Model import Model\n",
    "from model.Embeddings import Embeddings\n",
    "from tensorflow.keras.preprocessing.sequence import pad_sequences\n",
    "import numpy as np\n",
    "\n",
    "from pprint import pprint\n",
    "import csv\n",
    "from scrapers.ScraperResult import ScraperResult\n",
    "from page_processors import *\n",
    "\n",
    "global_hyperparameters = {\n",
    "    \"embedding_dim\": 100, # Dimensions in the GloVe embedding\n",
    "    \"max_length\": 60, # Enforced max and min character length of an example\n",
    "    \"trunc_type\": \"post\",\n",
    "    \"padding_type\": \"post\",\n",
    "    \"oov_tok\": \"<OOV>\",\n",
    "    \"test_portion\": 0.1\n",
    "}\n"
   ]
  },
  {
   "cell_type": "code",
   "execution_count": 2,
   "metadata": {},
   "outputs": [
    {
     "name": "stdout",
     "output_type": "stream",
     "text": [
      "Epoch 1/6\n",
      "2518/2518 [==============================] - 74s 29ms/step - loss: 1.3828 - accuracy: 0.7222 - val_loss: 0.1713 - val_accuracy: 0.9558\n",
      "Epoch 2/6\n",
      "2518/2518 [==============================] - 72s 29ms/step - loss: 0.1971 - accuracy: 0.9458 - val_loss: 0.0896 - val_accuracy: 0.9725\n",
      "Epoch 3/6\n",
      "2518/2518 [==============================] - 71s 28ms/step - loss: 0.1324 - accuracy: 0.9605 - val_loss: 0.0718 - val_accuracy: 0.9772\n",
      "Epoch 4/6\n",
      "2518/2518 [==============================] - 74s 30ms/step - loss: 0.1033 - accuracy: 0.9679 - val_loss: 0.0658 - val_accuracy: 0.9802\n",
      "Epoch 5/6\n",
      "2518/2518 [==============================] - 72s 29ms/step - loss: 0.0944 - accuracy: 0.9691 - val_loss: 0.0650 - val_accuracy: 0.9826\n",
      "Epoch 6/6\n",
      "2518/2518 [==============================] - 69s 28ms/step - loss: 0.0835 - accuracy: 0.9721 - val_loss: 0.0619 - val_accuracy: 0.9803\n"
     ]
    }
   ],
   "source": [
    "# should tokenize the labels; there aren't 1191 unique ones\n",
    "\n",
    "ingredients_hyperparameters = {\n",
    "    \"num_epochs\": 6,\n",
    "    \"training_size\": 89500\n",
    "}\n",
    "\n",
    "ingredient_corpus = Corpus(\n",
    "    \"training_data/augmented_classified_ingredients.csv\",\n",
    "    global_hyperparameters,\n",
    "    ingredients_hyperparameters\n",
    ").initialize()\n",
    "\n",
    "ingredient_embeddings = Embeddings(\n",
    "    \"glove.6B.100d.txt\",\n",
    "    ingredient_corpus,\n",
    "    global_hyperparameters\n",
    ").activate()\n",
    "\n",
    "ingredient_classifier = Model(\n",
    "    ingredient_corpus,\n",
    "    ingredient_embeddings,\n",
    "    global_hyperparameters,\n",
    "    ingredients_hyperparameters,\n",
    "    1191\n",
    ").run()\n"
   ]
  },
  {
   "cell_type": "code",
   "execution_count": 3,
   "metadata": {},
   "outputs": [
    {
     "name": "stdout",
     "output_type": "stream",
     "text": [
      "Epoch 1/4\n",
      "2138/2138 [==============================] - 52s 24ms/step - loss: 0.0644 - accuracy: 0.9794 - val_loss: 0.0252 - val_accuracy: 0.9920\n",
      "Epoch 2/4\n",
      "2138/2138 [==============================] - 54s 25ms/step - loss: 0.0268 - accuracy: 0.9914 - val_loss: 0.0244 - val_accuracy: 0.9926\n",
      "Epoch 3/4\n",
      "2138/2138 [==============================] - 53s 25ms/step - loss: 0.0208 - accuracy: 0.9931 - val_loss: 0.0166 - val_accuracy: 0.9946\n",
      "Epoch 4/4\n",
      "2138/2138 [==============================] - 51s 24ms/step - loss: 0.0181 - accuracy: 0.9939 - val_loss: 0.0203 - val_accuracy: 0.9934\n"
     ]
    }
   ],
   "source": [
    "recipes_hyperparameters = {\n",
    "    \"num_epochs\": 4,\n",
    "    \"training_size\": 76000\n",
    "}\n",
    "\n",
    "recipe_corpus = Corpus(\n",
    "    \"training_data/augmented_training_labels.csv\",\n",
    "    global_hyperparameters,\n",
    "    recipes_hyperparameters\n",
    ").initialize()\n",
    "\n",
    "recipe_embeddings = Embeddings(\n",
    "    \"glove.6B.100d.txt\",\n",
    "    recipe_corpus,\n",
    "    global_hyperparameters\n",
    ").activate()\n",
    "\n",
    "recipe_classifier = Model(\n",
    "    recipe_corpus,\n",
    "    recipe_embeddings,\n",
    "    global_hyperparameters,\n",
    "    recipes_hyperparameters,\n",
    "    5\n",
    ").run()\n"
   ]
  },
  {
   "cell_type": "code",
   "execution_count": 82,
   "metadata": {},
   "outputs": [],
   "source": [
    "from scrapers.PageProcessor import PageProcessor\n",
    "from model.Cache import Cache\n",
    "instance_cache = Cache()"
   ]
  },
  {
   "cell_type": "code",
   "execution_count": 43,
   "metadata": {},
   "outputs": [],
   "source": [
    "\n"
   ]
  },
  {
   "cell_type": "code",
   "execution_count": 84,
   "metadata": {},
   "outputs": [],
   "source": []
  },
  {
   "cell_type": "code",
   "execution_count": 77,
   "metadata": {
    "collapsed": true
   },
   "outputs": [
    {
     "ename": "ValueError",
     "evalue": "I/O operation on closed file.",
     "output_type": "error",
     "traceback": [
      "\u001b[0;31m---------------------------------------------------------------------------\u001b[0m",
      "\u001b[0;31mValueError\u001b[0m                                Traceback (most recent call last)",
      "\u001b[0;32m<ipython-input-77-aec9be670164>\u001b[0m in \u001b[0;36m<module>\u001b[0;34m\u001b[0m\n\u001b[1;32m      7\u001b[0m )\n\u001b[1;32m      8\u001b[0m \u001b[0mpage\u001b[0m\u001b[0;34m.\u001b[0m\u001b[0mfetch_page_data\u001b[0m\u001b[0;34m(\u001b[0m\u001b[0;34m)\u001b[0m\u001b[0;34m\u001b[0m\u001b[0;34m\u001b[0m\u001b[0m\n\u001b[0;32m----> 9\u001b[0;31m \u001b[0mpage\u001b[0m\u001b[0;34m.\u001b[0m\u001b[0msoupify_url\u001b[0m\u001b[0;34m(\u001b[0m\u001b[0;34m)\u001b[0m\u001b[0;34m\u001b[0m\u001b[0;34m\u001b[0m\u001b[0m\n\u001b[0m\u001b[1;32m     10\u001b[0m \u001b[0;34m\u001b[0m\u001b[0m\n",
      "\u001b[0;32m<ipython-input-76-37362ce934dc>\u001b[0m in \u001b[0;36msoupify_url\u001b[0;34m(self)\u001b[0m\n\u001b[1;32m     50\u001b[0m                 \u001b[0mself\u001b[0m\u001b[0;34m.\u001b[0m\u001b[0mextract_texts\u001b[0m\u001b[0;34m(\u001b[0m\u001b[0;34m)\u001b[0m\u001b[0;34m\u001b[0m\u001b[0;34m\u001b[0m\u001b[0m\n\u001b[1;32m     51\u001b[0m                 \u001b[0mself\u001b[0m\u001b[0;34m.\u001b[0m\u001b[0mclean_string_characters\u001b[0m\u001b[0;34m(\u001b[0m\u001b[0;34m)\u001b[0m\u001b[0;34m\u001b[0m\u001b[0;34m\u001b[0m\u001b[0m\n\u001b[0;32m---> 52\u001b[0;31m                 \u001b[0mself\u001b[0m\u001b[0;34m.\u001b[0m\u001b[0mclassify_strings\u001b[0m\u001b[0;34m(\u001b[0m\u001b[0;34m)\u001b[0m\u001b[0;34m\u001b[0m\u001b[0;34m\u001b[0m\u001b[0m\n\u001b[0m\u001b[1;32m     53\u001b[0m \u001b[0;34m\u001b[0m\u001b[0m\n\u001b[1;32m     54\u001b[0m \u001b[0;34m\u001b[0m\u001b[0m\n",
      "\u001b[0;32m<ipython-input-76-37362ce934dc>\u001b[0m in \u001b[0;36mclassify_strings\u001b[0;34m(self)\u001b[0m\n\u001b[1;32m    162\u001b[0m                                 \u001b[0mcategory\u001b[0m \u001b[0;34m=\u001b[0m \u001b[0;36m0\u001b[0m\u001b[0;34m\u001b[0m\u001b[0;34m\u001b[0m\u001b[0m\n\u001b[1;32m    163\u001b[0m \u001b[0;34m\u001b[0m\u001b[0m\n\u001b[0;32m--> 164\u001b[0;31m                         \u001b[0mself\u001b[0m\u001b[0;34m.\u001b[0m\u001b[0mwriter\u001b[0m\u001b[0;34m.\u001b[0m\u001b[0mwriterow\u001b[0m\u001b[0;34m(\u001b[0m\u001b[0;34m[\u001b[0m\u001b[0ms\u001b[0m\u001b[0;34m,\u001b[0m\u001b[0mcategory\u001b[0m\u001b[0;34m,\u001b[0m\u001b[0mcounter\u001b[0m\u001b[0;34m,\u001b[0m\u001b[0mpred\u001b[0m\u001b[0;34m[\u001b[0m\u001b[0;36m0\u001b[0m\u001b[0;34m]\u001b[0m\u001b[0;34m[\u001b[0m\u001b[0;36m0\u001b[0m\u001b[0;34m]\u001b[0m\u001b[0;34m,\u001b[0m\u001b[0mpred\u001b[0m\u001b[0;34m[\u001b[0m\u001b[0;36m0\u001b[0m\u001b[0;34m]\u001b[0m\u001b[0;34m[\u001b[0m\u001b[0;36m1\u001b[0m\u001b[0;34m]\u001b[0m\u001b[0;34m,\u001b[0m\u001b[0mpred\u001b[0m\u001b[0;34m[\u001b[0m\u001b[0;36m0\u001b[0m\u001b[0;34m]\u001b[0m\u001b[0;34m[\u001b[0m\u001b[0;36m2\u001b[0m\u001b[0;34m]\u001b[0m\u001b[0;34m,\u001b[0m\u001b[0mpred\u001b[0m\u001b[0;34m[\u001b[0m\u001b[0;36m0\u001b[0m\u001b[0;34m]\u001b[0m\u001b[0;34m[\u001b[0m\u001b[0;36m3\u001b[0m\u001b[0;34m]\u001b[0m\u001b[0;34m,\u001b[0m\u001b[0mpred\u001b[0m\u001b[0;34m[\u001b[0m\u001b[0;36m0\u001b[0m\u001b[0;34m]\u001b[0m\u001b[0;34m[\u001b[0m\u001b[0;36m4\u001b[0m\u001b[0;34m]\u001b[0m\u001b[0;34m,\u001b[0m\u001b[0mself\u001b[0m\u001b[0;34m.\u001b[0m\u001b[0murl\u001b[0m\u001b[0;34m]\u001b[0m\u001b[0;34m)\u001b[0m\u001b[0;34m\u001b[0m\u001b[0;34m\u001b[0m\u001b[0m\n\u001b[0m\u001b[1;32m    165\u001b[0m                         \u001b[0mself\u001b[0m\u001b[0;34m.\u001b[0m\u001b[0mclassifications\u001b[0m\u001b[0;34m.\u001b[0m\u001b[0mappend\u001b[0m\u001b[0;34m(\u001b[0m\u001b[0;34m[\u001b[0m\u001b[0ms\u001b[0m\u001b[0;34m,\u001b[0m\u001b[0mcategory\u001b[0m\u001b[0;34m,\u001b[0m\u001b[0mcounter\u001b[0m\u001b[0;34m,\u001b[0m\u001b[0mpred\u001b[0m\u001b[0;34m[\u001b[0m\u001b[0;36m0\u001b[0m\u001b[0;34m]\u001b[0m\u001b[0;34m[\u001b[0m\u001b[0;36m0\u001b[0m\u001b[0;34m]\u001b[0m\u001b[0;34m,\u001b[0m\u001b[0mpred\u001b[0m\u001b[0;34m[\u001b[0m\u001b[0;36m0\u001b[0m\u001b[0;34m]\u001b[0m\u001b[0;34m[\u001b[0m\u001b[0;36m1\u001b[0m\u001b[0;34m]\u001b[0m\u001b[0;34m,\u001b[0m\u001b[0mpred\u001b[0m\u001b[0;34m[\u001b[0m\u001b[0;36m0\u001b[0m\u001b[0;34m]\u001b[0m\u001b[0;34m[\u001b[0m\u001b[0;36m2\u001b[0m\u001b[0;34m]\u001b[0m\u001b[0;34m,\u001b[0m\u001b[0mpred\u001b[0m\u001b[0;34m[\u001b[0m\u001b[0;36m0\u001b[0m\u001b[0;34m]\u001b[0m\u001b[0;34m[\u001b[0m\u001b[0;36m3\u001b[0m\u001b[0;34m]\u001b[0m\u001b[0;34m,\u001b[0m\u001b[0mpred\u001b[0m\u001b[0;34m[\u001b[0m\u001b[0;36m0\u001b[0m\u001b[0;34m]\u001b[0m\u001b[0;34m[\u001b[0m\u001b[0;36m4\u001b[0m\u001b[0;34m]\u001b[0m\u001b[0;34m,\u001b[0m\u001b[0mself\u001b[0m\u001b[0;34m.\u001b[0m\u001b[0murl\u001b[0m\u001b[0;34m]\u001b[0m\u001b[0;34m)\u001b[0m\u001b[0;34m\u001b[0m\u001b[0;34m\u001b[0m\u001b[0m\n\u001b[1;32m    166\u001b[0m \u001b[0;34m\u001b[0m\u001b[0m\n",
      "\u001b[0;31mValueError\u001b[0m: I/O operation on closed file."
     ]
    }
   ],
   "source": []
  },
  {
   "cell_type": "code",
   "execution_count": 89,
   "metadata": {},
   "outputs": [
    {
     "name": "stdout",
     "output_type": "stream",
     "text": [
      "https://www.bbcgoodfood.com/recipes/espresso-martini\n",
      "https://www.seriouseats.com/the-martini-recipe\n",
      "[{'ingredients': ['For the sugar syrup',\n",
      "                  '100g golden caster sugar',\n",
      "                  'ice',\n",
      "                  '100ml vodka',\n",
      "                  '50ml freshly brewed espresso coffee',\n",
      "                  '50ml coffee liqueur (we used Kahlua)',\n",
      "                  '4 coffee beans (optional)'],\n",
      "  'mapped_ingredients': [['For the sugar syrup', 'simple%20syrup', 102],\n",
      "                         ['100g golden caster sugar', 'caster%20sugar', 1181],\n",
      "                         ['ice', 'ice%20cube', 115],\n",
      "                         ['100ml vodka', 'vodka', 69],\n",
      "                         ['50ml freshly brewed espresso coffee', 'coffee', 101],\n",
      "                         ['50ml coffee liqueur (we used Kahlua)',\n",
      "                          'kahlua',\n",
      "                          981],\n",
      "                         ['4 coffee beans (optional)', 'coffee%20bean', 381]],\n",
      "  'steps': ['Start by making the sugar syrup. Put the caster sugar in a small '\n",
      "            'pan over a medium heat and pour in 50ml water. Stir, and bring to '\n",
      "            'the boil.',\n",
      "            'Turn off the heat and allow the mixture to cool. Put 2 martini '\n",
      "            'glasses in the fridge to chill.',\n",
      "            'Once the sugar syrup is cold, pour 1 tbsp into a cocktail shaker '\n",
      "            'along with a handful of ice, the vodka, espresso and coffee '\n",
      "            'liqueur. Shake until the outside of the cocktail shaker feels icy '\n",
      "            'cold.',\n",
      "            'Strain into the chilled glasses. Garnish each one with coffee '\n",
      "            'beans if you like.'],\n",
      "  'timing': [''],\n",
      "  'title': 'espresso-martini',\n",
      "  'yield': ['Serves 2']},\n",
      " {'ingredients': ['2 ounces dry gin',\n",
      "                  '1 ounce dry vermouth',\n",
      "                  '1 dash orange bitters (optional, but highly recommended)'],\n",
      "  'mapped_ingredients': [['2 ounces dry gin', 'gin', 33],\n",
      "                         ['1 ounce dry vermouth', 'dry%20vermouth', 78],\n",
      "                         ['1 dash orange bitters (optional, but highly '\n",
      "                          'recommended)',\n",
      "                          'bitters',\n",
      "                          498]],\n",
      "  'steps': [\"Nowadays it's typical to order one of these in a bar and be given \"\n",
      "            'a glass of something clear and cold—a large, chilled pour of  '\n",
      "            \"gin  or, let's face it,  vodka , with nothing in it except a \"\n",
      "            \"massive olive or three. With all due respect, that's not a \"\n",
      "            \"martini. That's just cold booze, and there's no shame in ordering \"\n",
      "            \"that if that's what you want.\",\n",
      "            'But for at least the first five decades of its circulation, ever '\n",
      "            'since a drink with that name and this general description first '\n",
      "            'appeared around 1900, a martini required vermouth—a lot of it, '\n",
      "            'none of this atomizer business or that stale \"glance in the '\n",
      "            'direction of a vermouth bottle\" hokum. And early on, much of the '\n",
      "            'vermouth making its way into martinis was of the sweet Italian '\n",
      "            'variety rather than French dry—hence, a \"dry martini\" was a drink '\n",
      "            'made with dry vermouth, not one with as little vermouth as '\n",
      "            'possible.',\n",
      "            'In  The Hour , a cocktail manifesto by Bernard DeVoto, first '\n",
      "            'published in 1951 (a new edition was released last month), this '\n",
      "            'legendary curmudgeon describes his ideal martini as a 3.7:1 ratio '\n",
      "            'of gin to vermouth, a proportion that would be considered '\n",
      "            \"drowning in the aperitif by today's standards but at the time was \"\n",
      "            'the cutting edge of dryness in the drink.'],\n",
      "  'timing': ['Total: \\n5 mins'],\n",
      "  'title': 'the-martini-recipe',\n",
      "  'yield': ['']}]\n"
     ]
    }
   ],
   "source": [
    "total_payload = []\n",
    "\n",
    "new_links = [\n",
    "    \"https://www.bbcgoodfood.com/recipes/espresso-martini\",\n",
    "    \"https://www.seriouseats.com/the-martini-recipe\"\n",
    "]\n",
    "\n",
    "with open('newlabels.csv', 'w', newline='') as csvfile:\n",
    "    writer = csv.writer(csvfile, delimiter=',')\n",
    "    \n",
    "    for link in new_links:\n",
    "        print(link)\n",
    "        \n",
    "        #try:\n",
    "        data = PageProcessor(\n",
    "            link,\n",
    "            recipe_classifier,\n",
    "            recipe_corpus,\n",
    "            global_hyperparameters,\n",
    "            writer\n",
    "        )\n",
    "        data.soupify()\n",
    "        this_recipe = ScraperResult(\n",
    "            link.split(\"/\")[-1],\n",
    "            list(map(lambda x: x[0], lasso_inward(data.classifications,4,1,1,2)[0])),\n",
    "            list(map(lambda x: x[0], lasso_inward(data.classifications,4,1,2,2)[0])),\n",
    "            list(map(lambda x: x[0], lasso_inward(data.classifications,4,1,3,2)[0])),\n",
    "            list(map(lambda x: x[0], lasso_inward(data.classifications,4,1,4,2)[0]))\n",
    "        )\n",
    "        this_recipe.map_payload_ingredients(\n",
    "            instance_cache.get_ingredients(),\n",
    "            ingredient_corpus,\n",
    "            ingredient_classifier,\n",
    "            global_hyperparameters\n",
    "        )\n",
    "        total_payload.append(this_recipe.get_payload())\n",
    "\n",
    "        #except:\n",
    "        #    print(\"link \" + link + \" could not be opened\")\n",
    "\n",
    "\n",
    "pprint(total_payload)\n"
   ]
  },
  {
   "cell_type": "code",
   "execution_count": 87,
   "metadata": {},
   "outputs": [
    {
     "name": "stdout",
     "output_type": "stream",
     "text": [
      "[['Classic Martini Cocktail Recipe', 0, 0, 0.99998844, 3.9928636e-06, 7.612833e-06, 1.681149e-08, 2.3457147e-08, 'https://www.seriouseats.com/the-martini-recipe'], ['var Mntl = window.Mntl || {};\\nMntl.RTB = Mntl.RTB || {};\\nMntl.RTB.setTaxonomyStampValues({\"tax1\":\"se_all-recipes\",\"tax2\":\"se_recipes-by-course\",\"tax0\":\"se_root\",\"tax5\":\"se_gin-recipes\",\"tax3\":\"se_drink-recipes\",\"tax4\":\"se_cocktail-recipes\"});\\nMntl.RTB.indexFirstPartyData = \\'tax1:se_all-recipes\\';\\nMntl.RTB.setTimeoutLength([500,800]);\\nMntl.RTB.Plugins.amazon.amazonConfigs = {\"mapTaxValues\":{\"tax1\":\"se_all-recipes\",\"tax2\":\"se_recipes-by-course\",\"si_section\":\"se_recipes-by-course\",\"tax0\":\"se_root\",\"tax3\":\"se_drink-recipes\"},\"mapFBValues\":{},\"amazonSlotName\":false,\"amazonSection\":\"Drink Recipes\"};\\nMntl.RTB.Plugins.s2s.s2sConfigs = {\"partners\":\"\",\"timeout\":500};\\nMntl.RTB.initBidders([{ type: \"amazon\", id: \\'3222\\'},{ type: \"lotameLightning\", id: \\'true\\'},{ type: \"ias\", id: \\'926268\\'},{ type: \"ixid\", id: \\'true\\'},{ type: \"prebid\", id: \\'true\\'}]);\\nMntl.RTBTracking.init([\\'amazon\\',\\'lotameLightning\\',\\'ias\\',\\'ixid\\',\\'prebid\\']);\\nMntl.RTB.Plugins.lotameLightning.init({\"tax1\":\"se_all-recipes\",\"tax2\":\"se_recipes-by-course\",\"tax0\":\"se\",\"clientId\":\"15919\",\"tax5\":\"se_gin-recipes\",\"tax3\":\"se_drink-recipes\",\"tax4\":\"se_cocktail-recipes\"});\\nMntl.RTB.Plugins.prebid.setConfig({\"billboard2\":[{\"bidder\":\"rubicon\",\"params\":{\"accountId\":\"7499\",\"siteId\":\"364714\",\"zoneId\":\"1979310\"}},{\"bidder\":\"grid\",\"params\":{\"uid\":48217,\"type\":\"display\"}},{\"bidder\":\"ix\",\"params\":{\"siteId\":\"632996\",\"size\":[300,600]}},{\"bidder\":\"ix\",\"params\":{\"siteId\":\"632996\",\"size\":[300,250]}},{\"bidder\":\"criteo\",\"params\":{\"networkId\":7764}}],\"billboard6\":[{\"bidder\":\"ix\",\"params\":{\"siteId\":\"633000\",\"size\":[300,250]}},{\"bidder\":\"rubicon\",\"params\":{\"accountId\":\"7499\",\"siteId\":\"364714\",\"zoneId\":\"1979318\"}},{\"bidder\":\"criteo\",\"params\":{\"networkId\":7764}},{\"bidder\":\"grid\",\"params\":{\"uid\":48221,\"type\":\"display\"}}],\"leaderboard6\":[{\"bidder\":\"rubicon\",\"params\":{\"accountId\":\"7499\",\"siteId\":\"364714\",\"zoneId\":\"1979338\"}},{\"bidder\":\"criteo\",\"params\":{\"networkId\":7764}},{\"bidder\":\"grid\",\"params\":{\"uid\":48229,\"type\":\"display\"}},{\"bidder\":\"ix\",\"params\":{\"siteId\":\"633009\",\"size\":[728,90]}}],\"leaderboard5\":[{\"bidder\":\"rubicon\",\"params\":{\"accountId\":\"7499\",\"siteId\":\"364714\",\"zoneId\":\"1979336\"}},{\"bidder\":\"criteo\",\"params\":{\"networkId\":7764}},{\"bidder\":\"ix\",\"params\":{\"siteId\":\"633008\",\"size\":[728,90]}},{\"bidder\":\"grid\",\"params\":{\"uid\":48228,\"type\":\"display\"}}],\"billboard5\":[{\"bidder\":\"rubicon\",\"params\":{\"accountId\":\"7499\",\"siteId\":\"364714\",\"zoneId\":\"1979316\"}},{\"bidder\":\"ix\",\"params\":{\"siteId\":\"632999\",\"size\":[300,250]}},{\"bidder\":\"criteo\",\"params\":{\"networkId\":7764}},{\"bidder\":\"grid\",\"params\":{\"uid\":48219,\"type\":\"display\"}}],\"billboard4\":[{\"bidder\":\"grid\",\"params\":{\"uid\":48220,\"type\":\"display\"}},{\"bidder\":\"ix\",\"params\":{\"siteId\":\"632998\",\"size\":[300,600]}},{\"bidder\":\"ix\",\"params\":{\"siteId\":\"632998\",\"size\":[300,250]}},{\"bidder\":\"criteo\",\"params\":{\"networkId\":7764}},{\"bidder\":\"rubicon\",\"params\":{\"accountId\":\"7499\",\"siteId\":\"364714\",\"zoneId\":\"1979314\"}}],\"billboard3\":[{\"bidder\":\"ix\",\"params\":{\"siteId\":\"632997\",\"size\":[300,250]}},{\"bidder\":\"rubicon\",\"params\":{\"accountId\":\"7499\",\"siteId\":\"364714\",\"zoneId\":\"1979312\"}},{\"bidder\":\"criteo\",\"params\":{\"networkId\":7764}},{\"bidder\":\"grid\",\"params\":{\"uid\":48218,\"type\":\"display\"}}],\"leaderboard2\":[{\"bidder\":\"rubicon\",\"params\":{\"accountId\":\"7499\",\"siteId\":\"364714\",\"zoneId\":\"1979330\"}},{\"bidder\":\"criteo\",\"params\":{\"networkId\":7764}},{\"bidder\":\"grid\",\"params\":{\"uid\":48224,\"type\":\"display\"}},{\"bidder\":\"ix\",\"params\":{\"siteId\":\"633005\",\"size\":[728,90]}},{\"bidder\":\"ix\",\"params\":{\"siteId\":\"633005\",\"size\":[970,250]}}],\"leaderboard4\":[{\"bidder\":\"grid\",\"params\":{\"uid\":48225,\"type\":\"display\"}},{\"bidder\":\"criteo\",\"params\":{\"networkId\":7764}},{\"bidder\":\"rubicon\",\"params\":{\"accountId\":\"7499\",\"siteId\":\"364714\",\"zoneId\":\"1979334\"}},{\"bidder\":\"ix\",\"params\":{\"siteId\":\"633007\",\"size\":[728,90]}}],\"dynamicinline\":[{\"bidder\":\"criteo\",\"params\":{\"networkId\":7764}},{\"bidder\":\"rubicon\",\"params\":{\"accountId\":\"7499\",\"siteId\":\"364714\",\"zoneId\":\"1979326\"}},{\"bidder\":\"ix\",\"params\":{\"siteId\":\"633003\",\"size\":[300,250]}},{\"bidder\":\"grid\",\"params\":{\"uid\":48223,\"type\":\"display\"}}],\"leaderboard3\":[{\"bidder\":\"grid\",\"params\":{\"uid\":48227,\"type\":\"display\"}},{\"bidder\":\"criteo\",\"params\":{\"networkId\":7764}},{\"bidder\":\"ix\",\"params\":{\"siteId\":\"633006\",\"size\":[728,90]}},{\"bidder\":\"rubicon\",\"params\":{\"accountId\":\"7499\",\"siteId\":\"364714\",\"zoneId\":\"1979332\"}}],\"billboard7\":[{\"bidder\":\"ix\",\"params\":{\"siteId\":\"633001\",\"size\":[300,250]}},{\"bidder\":\"rubicon\",\"params\":{\"accountId\":\"7499\",\"siteId\":\"364714\",\"zoneId\":\"1979320\"}},{\"bidder\":\"grid\",\"params\":{\"uid\":48222,\"type\":\"display\"}},{\"bidder\":\"criteo\",\"params\":{\"networkId\":7764}}],\"leaderboardac\":[{\"bidder\":\"grid\",\"params\":{\"uid\":48230,\"type\":\"display\"}},{\"bidder\":\"teads\",\"params\":{\"pageId\":127166,\"placementId\":138918}},{\"bidder\":\"ix\",\"params\":{\"siteId\":\"633010\",\"size\":[970,250]}},{\"bidder\":\"rubicon\",\"params\":{\"accountId\":\"7499\",\"siteId\":\"364714\",\"zoneId\":\"1979340\"}},{\"bidder\":\"criteo\",\"params\":{\"networkId\":7764}},{\"bidder\":\"ix\",\"params\":{\"siteId\":\"633010\",\"size\":[728,90]}}],\"billboard\":[{\"bidder\":\"ix\",\"params\":{\"siteId\":\"632995\",\"size\":[300,1050]}},{\"bidder\":\"ix\",\"params\":{\"siteId\":\"632995\",\"size\":[300,600]}},{\"bidder\":\"ix\",\"params\":{\"siteId\":\"632995\",\"size\":[300,250]}},{\"bidder\":\"criteo\",\"params\":{\"networkId\":7764}},{\"bidder\":\"rubicon\",\"params\":{\"accountId\":\"7499\",\"siteId\":\"364714\",\"zoneId\":\"1979308\"}},{\"bidder\":\"grid\",\"params\":{\"uid\":48216,\"type\":\"display\"}},{\"bidder\":\"ix\",\"params\":{\"siteId\":\"632995\",\"size\":[160,600]}}],\"leaderboard\":[{\"bidder\":\"criteo\",\"params\":{\"networkId\":7764}},{\"bidder\":\"rubicon\",\"params\":{\"accountId\":\"7499\",\"siteId\":\"364714\",\"zoneId\":\"1979328\"}},{\"bidder\":\"ix\",\"params\":{\"siteId\":\"633004\",\"size\":[970,250]}},{\"bidder\":\"ix\",\"params\":{\"siteId\":\"633004\",\"size\":[728,90]}},{\"bidder\":\"ix\",\"params\":{\"siteId\":\"633004\",\"size\":[970,90]}},{\"bidder\":\"grid\",\"params\":{\"uid\":48226,\"type\":\"display\"}}],\"leaderboardfooter2\":[{\"bidder\":\"ix\",\"params\":{\"siteId\":\"633749\",\"size\":[728,90]}},{\"bidder\":\"grid\",\"params\":{\"uid\":48233,\"type\":\"display\"}},{\"bidder\":\"criteo\",\"params\":{\"networkId\":7764}},{\"bidder\":\"ix\",\"params\":{\"siteId\":\"633749\",\"size\":[970,250]}}],\"leaderboardfooter\":[{\"bidder\":\"ix\",\"params\":{\"siteId\":\"633011\",\"size\":[970,250]}},{\"bidder\":\"criteo\",\"params\":{\"networkId\":7764}},{\"bidder\":\"grid\",\"params\":{\"uid\":48232,\"type\":\"display\"}},{\"bidder\":\"rubicon\",\"params\":{\"accountId\":\"7499\",\"siteId\":\"364714\",\"zoneId\":\"1979342\"}}],\"dynamic-inline\":[{\"bidder\":\"ix\",\"params\":{\"siteId\":\"633002\",\"size\":[300,250]}},{\"bidder\":\"grid\",\"params\":{\"uid\":48231,\"type\":\"display\"}},{\"bidder\":\"criteo\",\"params\":{\"networkId\":7764}},{\"bidder\":\"rubicon\",\"params\":{\"accountId\":\"7499\",\"siteId\":\"364714\",\"zoneId\":\"1979322\"}}]});\\nMntl.RTB.Plugins.prebid.setPriceGranularity({\"buckets\":[{\"max\":\"20\",\"increment\":\"0.05\"},{\"max\":\"100\",\"increment\":\"0.5\"}]});\\nMntl.RTB.setLatencyBuffer(0);\\n(function(){\\nvar pageTargeting = {\\nrec: 0\\n,customSeries: \\'\\'\\n,tax0: \\'se\\'\\n,leuid: \\'151378030080892\\'\\n,custom: \\'\\'\\n,sbj: \\'\\'\\n,rid: \\'n19ed8a848f5d46208faa13ebab4824b119\\'\\n,sid: \\'n19ed8a848f5d46208faa13ebab4824b119\\'\\n}\\n;\\nvar baseSlotTargeting = {\\nleaid: \\'237723\\'\\n,docId: \\'5137333\\'\\n,ptax: \\'se_recipes-by-course\\'\\n,vid: \\'0\\'\\n,tax1: \\'se_all-recipes\\'\\n,tax2: \\'se_recipes-by-course\\'\\n,t: \\'120\\'\\n,au: \\'237723\\'\\n,tier: \\'L\\'\\n,jny: \\'0\\'\\n,leuid: \\'151378030080892\\'\\n,dload: \\'0\\'\\n,sbj: \\'\\'\\n,tax5: \\'se_gin-recipes\\'\\n,aid: \\'\\'\\n,tax3: \\'se_drink-recipes\\'\\n,jnyroot: \\'\\'\\n,tax4: \\'se_cocktail-recipes\\'\\n}\\n;\\npageTargeting.w = Mntl.utilities.getW();\\nLifestyle.GPT.testIds(pageTargeting, baseSlotTargeting);\\nMntl.utilities.onLoad(function() {\\nMntl.utilities.loadExternalJS({\\nsrc: \\'//www.googletagservices.com/tag/js/gpt.js\\',\\nasync: false\\n});\\n});\\nvar options = {\\ndomain: \\'www.seriouseats.com\\',\\nisMobile: false,\\ndfpId: \\'479\\',\\nsingleRequest: false,\\npageTargeting: pageTargeting,\\nbaseSlotTargeting: baseSlotTargeting,\\ninitialSlots: [{\\nconfig: {\\nid: \\'leaderboard\\',\\nsizes: [[728, 90], [970, 250], [1, 1], \\'fluid\\'],\\ntype: \\'leaderboard\\',\\nrtb: true\\n},\\ntargeting: Mntl.fnUtilities.deepExtend({}, {\\npos: \\'atf\\',\\npriority: 1\\n,floor_id: \\'12453a1b94934ea1a9da955ff1c17639\\'\\n,floor: 180\\n})\\n}],\\nutils: {\\nbuildGptUrl: Lifestyle.GPT.buildGptUrl\\n},\\ndisplayOnScroll: \\'false\\',\\ndisplayOnConsent: \\'true\\'\\n};\\nMntl.GPT.init(options);\\n}());// moved from gtm.ftl so we can initialize GTM only onLoad. From https://support.google.com/tagmanager/answer/6103696?hl=en\\nMntl.utilities.onLoad(function() {\\n(function(w,d,s,l,i){w[l]=w[l]||[];w[l].push({\\'gtm.start\\':new Date().getTime(),event:\\'gtm.js\\'});var f=d.getElementsByTagName(s)[0],j=d.createElement(s),dl=l!=\\'dataLayer\\'?\\'&l=\\'+l:\\'\\';j.async=true;defer=true;j.src=\\'//www.googletagmanager.com/gtm.js?id=\\'+i+dl;f.parentNode.insertBefore(j,f);})(window,document,\\'script\\',\\'dataLayer\\',\\'GTM-5P3SZGS\\');\\n});\\nvar dataLayer = dataLayer || [];\\ndataLayer.push({\\nevent: \\'ab-proctor\\',\\n\\'abTests-proctor\\': {\\n\"99-0\"\\n: \"fbAdMapAmazon | useMap | Use fb id map | 1\"\\n,\\n\"99-1\"\\n: \"includeIAS | includeIAS | Includes IAS header script | 1\"\\n,\\n\"99-2\"\\n: \"rtbTimeout | test2 | test2 | 2\"\\n,\\n\"99-3\"\\n: \"IASdirectOnly | control | control | 0\"\\n,\\n\"51\"\\n: \"imageToggler | showImageToggler | Show image toggler | 1\"\\n,\\n\"99-5\"\\n: \"mediaGrid | active | Media grid enabled | 1\"\\n,\\n\"99-6\"\\n: \"cmpTimeout | t1 | Test 1 | 1\"\\n,\\n\"99-7\"\\n: \"pbTeads | teads | teads | 1\"\\n,\\n\"99-8\"\\n: \"prebid | ixId | Active with index identity adapter | 2\"\\n,\\n\"65\"\\n: \"railVideoMargin | activetesta | Set intersection margin to 350px | 1\"\\n}\\n});\\ndataLayer.push({\\nenvData: {\\nenvironment: {\\nenvironment: \"prod\",\\napplication: \"seriouseats\",\\ndataCenter: \"us-east-1\"\\n},\\nserver: {\\nversion: \"5.86.0\",\\ntitle: \"seriouseats-launcher\"\\n},\\nclient : {\\nbrowserUA: navigator.userAgent,\\nserverUA: \"Mozilla/5.0 (Windows; U; Windows NT 5.1; en-US; rv:1.9.0.7) Gecko/2009021910 Firefox/3.0.7\",\\ndeviceType: \"pc\",\\nusStateCode: \"NY\"\\n},\\nmantle: \"3.12.503\",\\ncommerce: \"2.36.0\"\\n}\\n});\\n(function(win, fnUtils) {\\nvar pageViewDataAsJSON = {\"description\":\"A straightforward martini recipe, which is a lot more flexible than you might think.\",\"fullUrl\":\"https://www.seriouseats.com/the-martini-recipe\" + location.hash,\"experienceType\":\"single page\",\"entryType\":\"direct\",\"excludeFromComscore\":false,\"socialImage\":\"https://www.seriouseats.com/thmb/GdlWXGoRxVYlyToMO6q0dKuRZZA=/735x0/__opt__aboutcom__coeus__resources__content_migration__serious_eats__seriouseats.com__recipes__images__2015__04__20150323-cocktails-vicky-wasik-martini-278ad1c58d25458186368fec40f4eefe.jpg\",\"internalSessionId\":\"n19ed8a848f5d46208faa13ebab4824b119\",\"internalRequestId\":\"n19ed8a848f5d46208faa13ebab4824b119\",\"experienceTypeName\":\"\",\"recircDocIdsFooter\":\"S-5130703|S-5122760|S-5123919|S-5122778|S-5134561|S-5137591|S-5137979|S-5129249|S-5123646|S-5137758|S-5130369|S-5137755|S-5137617|S-5134151|S-5121928|S-5137470\",\"euTrafficFlag\":false,\"mantleVersion\":\"3.12.503\",\"commerceVersion\":\"2.36.0\",\"primaryTaxonomyIds\":\"5094396|5117985|5117906|5117861|5117858|5117855\",\"primaryTaxonomyNames\":\"Serious Eats|Recipes|Recipes By Course|Drinks|Cocktails|Gin\",\"country\":\"US\",\"contentGroup\":\"Other\",\"revenueGroup\":\"\",\"title\":\"Classic Martini Cocktail Recipe\" || document.title || \\'\\',\"documentId\":5137333,\"templateName\":\"RECIPESC\",\"lastEditingAuthorId\":\"237723\",\"lastEditingUserId\":\"151378030080892\",\"templateId\":\"120\",\"viewType\":\"\",\"authorId\":\"237723\"};\\nvar readyForThirdPartyTrackingEvent = new CustomEvent(\\'readyForThirdPartyTracking\\', { bubbles: true });\\nvar readyForThirdPartyTracking = fnUtils.once(function() {\\ndataLayer.push({event: \\'readyForThirdPartyTracking\\'});\\nwindow.dispatchEvent(readyForThirdPartyTrackingEvent);\\n});\\n[\\n[\\'adRendered\\', readyForThirdPartyTracking],\\n[\\'beforeunload\\', readyForThirdPartyTracking],\\n[\\'load\\', function() { setTimeout(readyForThirdPartyTracking, 5000); }]\\n].forEach(function(event) {\\nwin.addEventListener(event[0], event[1], { once: true });\\n});\\npageViewDataAsJSON.breakpointName = Mntl.utilities.getW();\\npageViewDataAsJSON.bounceExchangeId = \\'\\';\\nMntl.PageView.init(pageViewDataAsJSON);\\n})(window || {}, Mntl.fnUtilities || {});', 0, 1, 0.9999751, 1.7675908e-05, 7.2925777e-06, 0, 1.4459069e-10, 'https://www.seriouseats.com/the-martini-recipe'], ['.rating-half-fill{fill-rule:evenodd;clip-rule:evenodd;fill:#FB6972;}\\n.rating-half-empty{fill-rule:evenodd;clip-rule:evenodd;fill:#E5E5EB;}', 0, 2, 0.9783391, 0.019684575, 0.001340559, 0.00013779565, 0.00049795053, 'https://www.seriouseats.com/the-martini-recipe'], ['button', 0, 3, 0.9989465, 0.00015101099, 0.00077757676, 3.436129e-05, 9.053874e-05, 'https://www.seriouseats.com/the-martini-recipe'], ['button', 0, 4, 0.9989465, 0.00015101099, 0.00077757676, 3.436129e-05, 9.053874e-05, 'https://www.seriouseats.com/the-martini-recipe'], ['SeriousEats.com', 0, 5, 0.9999945, 2.6233793e-06, 2.4461283e-06, 4.5022603e-08, 3.6165724e-07, 'https://www.seriouseats.com/the-martini-recipe'], ['Close search', 0, 6, 0.9985072, 0.00086668367, 0.00020983197, 5.330035e-05, 0.0003628747, 'https://www.seriouseats.com/the-martini-recipe'], ['Search', 0, 7, 0.9983924, 0.001017319, 0.00032853681, 2.2266522e-05, 0.00023942512, 'https://www.seriouseats.com/the-martini-recipe'], ['Search', 0, 8, 0.9983924, 0.001017319, 0.00032853681, 2.2266522e-05, 0.00023942512, 'https://www.seriouseats.com/the-martini-recipe'], ['Recipes', 0, 9, 0.9999949, 3.3496792e-06, 1.8194687e-06, 3.282135e-08, 5.7020625e-08, 'https://www.seriouseats.com/the-martini-recipe'], ['Recipes by Course', 0, 10, 0.9999832, 1.4041799e-05, 9.747386e-07, 4.1829773e-07, 1.3196516e-06, 'https://www.seriouseats.com/the-martini-recipe'], ['Recipes by Ingredient', 0, 11, 0.9999554, 3.829258e-05, 5.6152485e-06, 3.3570285e-07, 3.6915662e-07, 'https://www.seriouseats.com/the-martini-recipe'], ['Recipes by Cuisine', 0, 12, 0.9999924, 5.7355733e-06, 1.8604048e-06, 3.9251805e-08, 4.078989e-08, 'https://www.seriouseats.com/the-martini-recipe'], ['Recipes by Method', 0, 13, 0.99997604, 1.746608e-05, 4.523576e-06, 3.6361004e-07, 1.5853113e-06, 'https://www.seriouseats.com/the-martini-recipe'], ['Recipes by Diet', 0, 14, 0.99997413, 1.9192397e-05, 5.8795954e-06, 2.9609703e-07, 5.9152836e-07, 'https://www.seriouseats.com/the-martini-recipe'], ['Recipes by Holiday & Season', 0, 15, 0.99999535, 3.641694e-06, 2.4334042e-07, 9.5152906e-08, 5.674521e-07, 'https://www.seriouseats.com/the-martini-recipe'], ['View all', 0, 16, 0.9996394, 9.5036296e-05, 1.6571566e-05, 0.00019781422, 5.109082e-05, 'https://www.seriouseats.com/the-martini-recipe'], ['How-Tos', 0, 17, 0.9998851, 4.3407286e-05, 4.409123e-05, 3.22188e-06, 2.415325e-05, 'https://www.seriouseats.com/the-martini-recipe'], ['Techniques', 0, 18, 0.99983, 9.3512936e-05, 6.597716e-05, 4.115205e-06, 6.2190325e-06, 'https://www.seriouseats.com/the-martini-recipe'], ['Tips & Troubleshooting', 0, 19, 0.99994826, 1.7721884e-05, 3.230171e-05, 6.2184483e-07, 1.0391956e-06, 'https://www.seriouseats.com/the-martini-recipe'], ['Grilling Guides', 0, 20, 0.9999733, 1.4275045e-05, 8.256501e-06, 3.1564387e-06, 1.0505966e-06, 'https://www.seriouseats.com/the-martini-recipe'], ['Stovetop Guides', 0, 21, 0.9999385, 4.6516976e-05, 1.1347747e-05, 2.4318404e-06, 1.3667731e-06, 'https://www.seriouseats.com/the-martini-recipe'], ['Baking Guides', 0, 22, 0.99995244, 2.9761002e-05, 1.3317688e-05, 2.9468845e-06, 1.4210384e-06, 'https://www.seriouseats.com/the-martini-recipe'], ['Entertaining', 0, 23, 0.9999666, 1.7097786e-05, 4.537065e-06, 3.0462766e-06, 8.7540075e-06, 'https://www.seriouseats.com/the-martini-recipe'], ['The Food Lab', 0, 24, 0.996745, 7.622713e-05, 0.003162, 1.3427123e-05, 3.2972055e-06, 'https://www.seriouseats.com/the-martini-recipe'], ['View all', 0, 25, 0.9996394, 9.5036296e-05, 1.6571566e-05, 0.00019781422, 5.109082e-05, 'https://www.seriouseats.com/the-martini-recipe'], ['World Cuisines', 0, 26, 0.99997663, 1.6090577e-05, 6.664212e-06, 1.562996e-07, 4.222823e-07, 'https://www.seriouseats.com/the-martini-recipe'], ['African Cuisines', 0, 27, 0.9999716, 1.4672278e-05, 1.34554775e-05, 1.6974946e-07, 1.521289e-07, 'https://www.seriouseats.com/the-martini-recipe'], ['Asian Cuisines', 0, 28, 0.999974, 1.2389793e-05, 1.3314954e-05, 9.092426e-08, 1.11673344e-07, 'https://www.seriouseats.com/the-martini-recipe'], ['Caribbean Cuisines', 0, 29, 0.99998355, 9.271732e-06, 6.886179e-06, 6.363477e-08, 8.3133706e-08, 'https://www.seriouseats.com/the-martini-recipe'], ['Central American Cuisines', 0, 30, 0.99993384, 4.5133427e-05, 1.6635153e-05, 4.0863697e-06, 2.975358e-07, 'https://www.seriouseats.com/the-martini-recipe'], ['European Cuisines', 0, 31, 0.9999654, 1.6129712e-05, 1.8224968e-05, 1.572063e-07, 1.4346884e-07, 'https://www.seriouseats.com/the-martini-recipe'], ['Middle Eastern Cuisines', 0, 32, 0.999851, 4.8254184e-05, 9.979018e-05, 7.408291e-07, 2.8248414e-07, 'https://www.seriouseats.com/the-martini-recipe'], ['North American Cuisine Guides', 0, 33, 0.9999808, 8.560351e-06, 9.938328e-06, 5.9792427e-07, 1.2665224e-07, 'https://www.seriouseats.com/the-martini-recipe'], ['Oceanic Cuisines', 0, 34, 0.99997747, 1.6860977e-05, 5.112567e-06, 2.4857718e-07, 3.836254e-07, 'https://www.seriouseats.com/the-martini-recipe'], ['South American Cuisines', 0, 35, 0.9999467, 3.969305e-05, 1.1528402e-05, 1.5831014e-06, 4.558862e-07, 'https://www.seriouseats.com/the-martini-recipe'], ['View all', 0, 36, 0.9996394, 9.5036296e-05, 1.6571566e-05, 0.00019781422, 5.109082e-05, 'https://www.seriouseats.com/the-martini-recipe'], ['Ingredients', 0, 37, 0.9988944, 0.0007944093, 0.00026191567, 9.1392e-06, 4.0119136e-05, 'https://www.seriouseats.com/the-martini-recipe'], ['Chicken Guides', 0, 38, 0.9999739, 1.3259235e-05, 9.959806e-06, 1.9280974e-06, 9.960457e-07, 'https://www.seriouseats.com/the-martini-recipe'], ['Drink Guides', 0, 39, 0.9999713, 1.5789645e-05, 8.91335e-06, 2.8080021e-06, 1.2489248e-06, 'https://www.seriouseats.com/the-martini-recipe'], ['Egg Guides', 0, 40, 0.99996245, 1.7128723e-05, 1.6963802e-05, 2.5592783e-06, 9.201732e-07, 'https://www.seriouseats.com/the-martini-recipe'], ['Fruit Guides', 0, 41, 0.9999422, 1.9662011e-05, 3.3359276e-05, 4.0846317e-06, 7.479106e-07, 'https://www.seriouseats.com/the-martini-recipe'], ['Noodle Guides', 0, 42, 0.9999771, 9.015367e-06, 1.278637e-05, 6.970951e-07, 3.654906e-07, 'https://www.seriouseats.com/the-martini-recipe'], ['Pantry Guides', 0, 43, 0.99997663, 1.20027225e-05, 8.703275e-06, 1.7002436e-06, 1.0011626e-06, 'https://www.seriouseats.com/the-martini-recipe'], ['Pork Guides', 0, 44, 0.99997723, 1.1583504e-05, 8.946438e-06, 1.4826007e-06, 8.79734e-07, 'https://www.seriouseats.com/the-martini-recipe'], ['Rice & Grain Guides', 0, 45, 0.99968326, 4.4896296e-05, 0.00026278806, 8.535373e-06, 4.4248995e-07, 'https://www.seriouseats.com/the-martini-recipe'], ['Seafood Guides', 0, 46, 0.9999857, 7.046235e-06, 6.3018006e-06, 6.45412e-07, 3.635463e-07, 'https://www.seriouseats.com/the-martini-recipe'], ['Vegetable Guides', 0, 47, 0.9999471, 1.8949248e-05, 3.115883e-05, 2.0984255e-06, 7.1172764e-07, 'https://www.seriouseats.com/the-martini-recipe'], ['Taste Tests', 0, 48, 0.9999465, 2.8634027e-05, 1.701455e-05, 1.930392e-06, 6.018159e-06, 'https://www.seriouseats.com/the-martini-recipe'], ['View all', 0, 49, 0.9996394, 9.5036296e-05, 1.6571566e-05, 0.00019781422, 5.109082e-05, 'https://www.seriouseats.com/the-martini-recipe'], ['Equipment', 0, 50, 0.998716, 0.0002576593, 0.00095689285, 2.7318194e-05, 4.2206662e-05, 'https://www.seriouseats.com/the-martini-recipe'], ['Bakeware', 0, 51, 0.9748346, 0.0021006875, 0.02299957, 2.6569995e-05, 3.8470003e-05, 'https://www.seriouseats.com/the-martini-recipe'], ['Cookware', 0, 52, 0.92146313, 0.004698059, 0.07066063, 0.0011780517, 0.0020001722, 'https://www.seriouseats.com/the-martini-recipe'], ['Knives', 0, 53, 0.92146313, 0.004698059, 0.07066063, 0.0011780517, 0.0020001722, 'https://www.seriouseats.com/the-martini-recipe'], ['Electric Appliances', 0, 54, 0.9989207, 0.00012880353, 0.00087825616, 2.41536e-05, 4.814698e-05, 'https://www.seriouseats.com/the-martini-recipe'], ['Tools & Gadgets', 0, 55, 0.9989072, 0.00033887182, 0.0006675557, 5.6779445e-05, 2.948284e-05, 'https://www.seriouseats.com/the-martini-recipe'], ['Books', 0, 56, 0.99640864, 0.00023602528, 0.0032975913, 4.6869558e-05, 1.0760114e-05, 'https://www.seriouseats.com/the-martini-recipe'], ['Barware', 0, 57, 0.9763288, 0.0009723916, 0.022640105, 3.7622303e-05, 2.1110802e-05, 'https://www.seriouseats.com/the-martini-recipe'], ['Coffee & Tea', 0, 58, 0.75356424, 0.0018085678, 0.24432246, 0.00021698642, 8.776463e-05, 'https://www.seriouseats.com/the-martini-recipe'], ['Grilling & Outdoor', 0, 59, 0.9896762, 0.00047450865, 0.009722293, 4.6761383e-05, 8.029222e-05, 'https://www.seriouseats.com/the-martini-recipe'], ['Tableware', 0, 60, 0.92146313, 0.004698059, 0.07066063, 0.0011780517, 0.0020001722, 'https://www.seriouseats.com/the-martini-recipe'], ['Storage & Organization', 0, 61, 0.99988174, 2.801237e-05, 7.352513e-05, 5.563876e-06, 1.1029206e-05, 'https://www.seriouseats.com/the-martini-recipe'], ['Kitchen Basics', 0, 62, 0.99994326, 3.3224598e-05, 2.012648e-05, 1.554227e-06, 1.7385348e-06, 'https://www.seriouseats.com/the-martini-recipe'], ['Seasonal & Gifts', 0, 63, 0.99979275, 2.6732743e-05, 0.00017783178, 1.4916882e-06, 1.2291608e-06, 'https://www.seriouseats.com/the-martini-recipe'], ['View all', 0, 64, 0.9996394, 9.5036296e-05, 1.6571566e-05, 0.00019781422, 5.109082e-05, 'https://www.seriouseats.com/the-martini-recipe'], ['Features', 0, 65, 0.9994137, 0.00017139706, 0.00034275078, 2.5600863e-05, 4.6449353e-05, 'https://www.seriouseats.com/the-martini-recipe'], ['Dining Out', 0, 66, 0.9992718, 0.00045188513, 6.95623e-05, 5.6396642e-05, 0.00015050799, 'https://www.seriouseats.com/the-martini-recipe'], ['Food History', 0, 67, 0.99982554, 4.4295408e-05, 1.0472171e-05, 1.2438656e-05, 0.000107250984, 'https://www.seriouseats.com/the-martini-recipe'], ['Food Industry', 0, 68, 0.99966824, 0.00015636881, 0.00012470863, 1.0994404e-05, 3.979307e-05, 'https://www.seriouseats.com/the-martini-recipe'], ['Food Science', 0, 69, 0.99950147, 4.7786765e-05, 1.9183362e-05, 0.00042745023, 4.0212885e-06, 'https://www.seriouseats.com/the-martini-recipe'], ['Personal Essays', 0, 70, 0.9999896, 6.5998047e-06, 2.251584e-06, 1.3381426e-06, 2.4154207e-07, 'https://www.seriouseats.com/the-martini-recipe'], ['View all', 0, 71, 0.9996394, 9.5036296e-05, 1.6571566e-05, 0.00019781422, 5.109082e-05, 'https://www.seriouseats.com/the-martini-recipe'], ['About Us', 0, 72, 0.99985623, 2.1328442e-05, 1.3829888e-05, 8.64575e-05, 2.2210686e-05, 'https://www.seriouseats.com/the-martini-recipe'], ['Newsletter', 0, 73, 0.99998486, 1.007536e-05, 3.868106e-06, 5.5927984e-07, 6.3394236e-07, 'https://www.seriouseats.com/the-martini-recipe'], ['Email Address', 0, 74, 0.999974, 1.565128e-05, 1.62637e-06, 1.1791457e-07, 8.531946e-06, 'https://www.seriouseats.com/the-martini-recipe'], ['There was an error. Please try again.', 0, 75, 0.99996233, 1.888693e-05, 1.726429e-06, 3.4985987e-06, 1.3675901e-05, 'https://www.seriouseats.com/the-martini-recipe'], ['Congrats, you’re signed up!', 0, 76, 0.9990829, 0.00045436466, 0.00045004478, 2.809982e-06, 9.720114e-06, 'https://www.seriouseats.com/the-martini-recipe'], ['Saved Recipes', 0, 77, 0.9999958, 2.4744538e-06, 1.6347998e-06, 1.9943924e-08, 3.2981024e-08, 'https://www.seriouseats.com/the-martini-recipe'], ['Get fresh recipes, cooking tips, deal alerts, and more!', 0, 78, 0.9999546, 3.2980093e-05, 1.1705305e-05, 6.976448e-07, 2.9703065e-08, 'https://www.seriouseats.com/the-martini-recipe'], ['Email Address', 0, 79, 0.999974, 1.565128e-05, 1.62637e-06, 1.1791457e-07, 8.531946e-06, 'https://www.seriouseats.com/the-martini-recipe'], ['There was an error. Please try again.', 0, 80, 0.99996233, 1.888693e-05, 1.726429e-06, 3.4985987e-06, 1.3675901e-05, 'https://www.seriouseats.com/the-martini-recipe'], ['About Us', 0, 81, 0.99985623, 2.1328442e-05, 1.3829888e-05, 8.64575e-05, 2.2210686e-05, 'https://www.seriouseats.com/the-martini-recipe'], ['Contact Us', 0, 82, 0.9999107, 1.9732284e-05, 4.6534074e-06, 5.1039126e-05, 1.38548e-05, 'https://www.seriouseats.com/the-martini-recipe'], ['Gin', 0, 83, 0.55667394, 0.004254301, 0.43792436, 0.0007592879, 0.0003881443, 'https://www.seriouseats.com/the-martini-recipe'], ['Summer', 0, 84, 0.998965, 9.704745e-05, 0.00082600466, 2.2369051e-05, 8.955176e-05, 'https://www.seriouseats.com/the-martini-recipe'], [\"Father's Day\", 0, 85, 0.9972777, 0.00038982264, 0.001120397, 0.00014656081, 0.001065535, 'https://www.seriouseats.com/the-martini-recipe'], ['Classic Martini Cocktail Recipe', 0, 86, 0.99998844, 3.9928636e-06, 7.612833e-06, 1.681149e-08, 2.3457147e-08, 'https://www.seriouseats.com/the-martini-recipe'], ['A straightforward martini recipe, which is a lot more flexible than you might think.', 0, 87, 0.9999615, 3.7725284e-05, 2.5090128e-07, 4.7482965e-07, 8.6408846e-08, 'https://www.seriouseats.com/the-martini-recipe'], ['by', 0, 88, 0.99858713, 0.0003638942, 0.00040571394, 4.851423e-05, 0.0005947544, 'https://www.seriouseats.com/the-martini-recipe'], ['Paul Clarke\\n\\n \\n \\nContributor', 0, 89, 0.9999801, 5.7049047e-06, 2.4891717e-06, 3.1344493e-07, 1.1300474e-05, 'https://www.seriouseats.com/the-martini-recipe'], ['Instagram', 0, 90, 0.99880123, 6.603593e-05, 0.0011255125, 2.0290936e-06, 5.0619456e-06, 'https://www.seriouseats.com/the-martini-recipe'], ['Pinterest', 0, 91, 0.99714655, 5.997523e-05, 0.0027843702, 2.461112e-06, 6.5078566e-06, 'https://www.seriouseats.com/the-martini-recipe'], ['Facebook', 0, 92, 0.9999827, 9.687335e-06, 5.6036274e-06, 2.1939672e-07, 1.8147434e-06, 'https://www.seriouseats.com/the-martini-recipe'], ['Twitter', 0, 93, 0.9999671, 2.0605201e-05, 9.721064e-06, 3.323204e-07, 2.105528e-06, 'https://www.seriouseats.com/the-martini-recipe'], ['Website', 0, 94, 0.99999523, 3.100546e-06, 1.2569319e-06, 1.3490873e-07, 2.9583654e-07, 'https://www.seriouseats.com/the-martini-recipe'], ['Paul Clarke blogs about cocktails at The Cocktail Chronicles and writes regularly on spirits and cocktails for Imbibe magazine. He lives in Seattle, where he works as a writer and magazine editor.', 0, 95, 0.99999654, 3.3554209e-06, 1.083841e-08, 5.4215104e-08, 1.0356834e-07, 'https://www.seriouseats.com/the-martini-recipe'], [\"Learn about Serious Eats's \\n  Editorial Process\", 0, 96, 0.99994457, 4.591454e-05, 9.266822e-07, 7.778167e-06, 7.8535425e-07, 'https://www.seriouseats.com/the-martini-recipe'], ['Paul Clarke', 0, 97, 0.9999567, 9.863017e-06, 2.4736739e-05, 3.526964e-06, 4.952347e-06, 'https://www.seriouseats.com/the-martini-recipe'], ['updated Feb. 09, 2019', 0, 98, 0.9999317, 2.9214814e-05, 3.2362375e-05, 3.9950864e-06, 2.6862213e-06, 'https://www.seriouseats.com/the-martini-recipe'], ['0', 0, 99, 0.9990576, 2.4613542e-05, 0.00086532655, 2.3385384e-05, 2.911796e-05, 'https://www.seriouseats.com/the-martini-recipe'], ['print', 0, 100, 0.97699386, 0.0013105185, 0.021003991, 0.00019034237, 0.00050133205, 'https://www.seriouseats.com/the-martini-recipe'], ['Vicky Wasik', 0, 101, 0.9989569, 3.6611425e-05, 0.0010059059, 1.2011586e-07, 4.1726153e-07, 'https://www.seriouseats.com/the-martini-recipe'], ['Pin', 0, 102, 0.99198455, 0.00035762272, 0.0073376303, 0.00023642783, 8.379101e-05, 'https://www.seriouseats.com/the-martini-recipe'], ['Share', 0, 103, 0.99403024, 0.00042749828, 0.0039197644, 0.0013413266, 0.0002812453, 'https://www.seriouseats.com/the-martini-recipe'], ['Email', 0, 104, 0.99997854, 1.3819278e-05, 5.1158845e-06, 2.0187301e-07, 2.2297506e-06, 'https://www.seriouseats.com/the-martini-recipe'], ['I\\'m probably going to get all kinds of feedback on this one, likely ranging from \"Amen!\" to \"Heresy!\" but before you sharpen your keyboard, let me say one thing: the martini is way more flexible than you might think.', 0, 105, 0.9999366, 5.9797374e-05, 1.8735483e-07, 2.7271524e-06, 5.4937817e-07, 'https://www.seriouseats.com/the-martini-recipe'], [\"Nowadays it's typical to order one of these in a bar and be given a glass of something clear and cold—a large, chilled pour of  gin  or, let's face it,  vodka , with nothing in it except a massive olive or three. With all due respect, that's not a martini. That's just cold booze, and there's no shame in ordering that if that's what you want.\", 1, 106, 0.14714307, 0.8527679, 2.4403656e-05, 1.5903912e-06, 6.299319e-05, 'https://www.seriouseats.com/the-martini-recipe'], ['But for at least the first five decades of its circulation, ever since a drink with that name and this general description first appeared around 1900, a martini required vermouth—a lot of it, none of this atomizer business or that stale \"glance in the direction of a vermouth bottle\" hokum. And early on, much of the vermouth making its way into martinis was of the sweet Italian variety rather than French dry—hence, a \"dry martini\" was a drink made with dry vermouth, not one with as little vermouth as possible.', 1, 107, 0.012245174, 0.98014426, 2.7027388e-06, 5.134131e-05, 0.007556594, 'https://www.seriouseats.com/the-martini-recipe'], [\"Bar guides and newspaper descriptions published through the 1940s and into the 1950s described martinis as a mixture of two parts gin, one part vermouth, many times with a dash of orange bitters (don't knock it 'til you've tried it) and a lemon twist, and there were variations on the theme, with differing proportions and styles of vermouth. It wasn't until the Mad Men era that the less-is-better approach to vermouth really started catching on.\", 0, 108, 0.98949, 0.010502973, 2.1093579e-06, 5.840997e-07, 4.357793e-06, 'https://www.seriouseats.com/the-martini-recipe'], [\"In  The Hour , a cocktail manifesto by Bernard DeVoto, first published in 1951 (a new edition was released last month), this legendary curmudgeon describes his ideal martini as a 3.7:1 ratio of gin to vermouth, a proportion that would be considered drowning in the aperitif by today's standards but at the time was the cutting edge of dryness in the drink.\", 1, 109, 0.1012965, 0.8982773, 1.0885892e-05, 7.973534e-05, 0.00033562182, 'https://www.seriouseats.com/the-martini-recipe'], [\"Whatever; mix it the way you like. If you prefer your martini with only the merest whiff of vermouth, then go for it, or if you like it up to equal parts gin and vermouth, there's a firm historical foundation (not to mention a culinary one) for going that direction.\", 0, 110, 0.90655607, 0.09337982, 4.337613e-06, 5.1224906e-05, 8.575486e-06, 'https://www.seriouseats.com/the-martini-recipe'], ['Recipe Facts', 0, 111, 0.9999163, 4.8031714e-05, 3.063634e-05, 3.897954e-06, 1.0394856e-06, 'https://www.seriouseats.com/the-martini-recipe'], ['5', 0, 112, 0.9900191, 0.00015409091, 0.009406485, 0.0003183103, 0.000101929785, 'https://www.seriouseats.com/the-martini-recipe'], ['(2)', 0, 113, 0.95017344, 0.00030905547, 0.049021926, 0.00040070707, 9.486513e-05, 'https://www.seriouseats.com/the-martini-recipe'], ['Total: \\n5 mins', 4, 114, 0.47678766, 0.0013568238, 0.006934924, 0.002907866, 0.51201266, 'https://www.seriouseats.com/the-martini-recipe'], ['Rate & Comment', 0, 115, 0.99995685, 5.9613158e-06, 4.433421e-06, 1.6965858e-05, 1.5810256e-05, 'https://www.seriouseats.com/the-martini-recipe'], ['Ingredients', 0, 116, 0.9988944, 0.0007944093, 0.00026191567, 9.1392e-06, 4.0119136e-05, 'https://www.seriouseats.com/the-martini-recipe'], ['Save Recipe', 0, 117, 0.99997914, 8.319004e-06, 1.1997465e-05, 1.9158296e-07, 2.478095e-07, 'https://www.seriouseats.com/the-martini-recipe'], ['2 ounces dry gin', 2, 118, 5.5559158e-05, 2.6812197e-06, 0.999941, 6.7920564e-07, 3.416272e-08, 'https://www.seriouseats.com/the-martini-recipe'], ['1 ounce dry vermouth', 2, 119, 2.626338e-05, 1.7801589e-06, 0.99997115, 8.875345e-07, 2.4738284e-08, 'https://www.seriouseats.com/the-martini-recipe'], ['1 dash orange bitters (optional, but highly recommended)', 2, 120, 0.00075251213, 1.5018361e-05, 0.99922824, 3.7955674e-06, 5.320436e-07, 'https://www.seriouseats.com/the-martini-recipe'], ['Directions', 0, 121, 0.9993888, 0.00025540835, 0.00022927234, 0.00010504032, 2.1480715e-05, 'https://www.seriouseats.com/the-martini-recipe'], ['Combine ingredients in a mixing glass and fill with ice. Stir well to chill and strain into a chilled cocktail glass. Twist a piece of lemon peel over the drink and use as garnish, or, if you must, toss in an olive.', 1, 122, 7.5981957e-06, 0.9999912, 1.8520267e-07, 3.2949075e-07, 5.431317e-07, 'https://www.seriouseats.com/the-martini-recipe'], ['Special equipment', 0, 123, 0.99937195, 0.0001945162, 0.0003847267, 1.5833592e-05, 3.3034386e-05, 'https://www.seriouseats.com/the-martini-recipe'], ['Mixing glass, cocktail strainer', 0, 124, 0.5252888, 0.46870774, 0.005931369, 2.9315735e-05, 4.2692398e-05, 'https://www.seriouseats.com/the-martini-recipe'], ['Rate This Recipe', 0, 125, 0.99993, 2.8759667e-05, 3.642295e-05, 3.7792602e-06, 1.0037152e-06, 'https://www.seriouseats.com/the-martini-recipe'], [\"I don't like this at all. \\n It's not the worst. \\n Sure, this will do. \\n I'm a fan—would recommend. \\n Amazing! I love it! \\n Thanks for your rating!\", 0, 126, 0.9999939, 5.6185986e-06, 9.4535714e-08, 2.4839406e-07, 1.4267431e-07, 'https://www.seriouseats.com/the-martini-recipe'], ['Show Full Recipe', 0, 127, 0.9999683, 1.17768695e-05, 1.9273208e-05, 2.735401e-07, 4.0118965e-07, 'https://www.seriouseats.com/the-martini-recipe'], ['#mntl-chop_1-0--chop-content {max-height: initial;}#mntl-chop_1-0 {display: none;}', 0, 128, 0.8727138, 0.0037677798, 0.122230925, 0.0012570033, 3.0587256e-05, 'https://www.seriouseats.com/the-martini-recipe'], ['More Serious Eats Recipes', 0, 129, 0.9999938, 4.515148e-06, 1.5913135e-06, 1.5330441e-07, 3.716093e-08, 'https://www.seriouseats.com/the-martini-recipe'], ['Bijou Cocktail Recipe', 0, 130, 0.9999769, 6.6604584e-06, 1.6183132e-05, 1.1027267e-07, 1.3682386e-07, 'https://www.seriouseats.com/the-martini-recipe'], ['Cocktail 101: How to Make a Martini', 0, 131, 0.99904186, 0.0005628119, 6.851494e-06, 0.00021227755, 0.00017613235, 'https://www.seriouseats.com/the-martini-recipe'], ['Cocktails and Spirits with Paul Clarke: Gin-to-Vermouth Ratios in Martinis', 1, 132, 0.05158462, 0.9482941, 7.017694e-05, 3.5272446e-05, 1.5865638e-05, 'https://www.seriouseats.com/the-martini-recipe'], ['Cocktail 101: All About Orange Bitters', 0, 133, 0.8006251, 0.10761999, 0.039351877, 0.03676082, 0.01564228, 'https://www.seriouseats.com/the-martini-recipe'], ['Martinez Cocktail Recipe', 0, 134, 0.9999747, 6.2113495e-06, 1.8818628e-05, 1.1407337e-07, 9.350492e-08, 'https://www.seriouseats.com/the-martini-recipe'], ['Turf Club Cocktail Recipe', 0, 135, 0.9999223, 1.0447835e-05, 6.693432e-05, 1.4545068e-07, 1.4110383e-07, 'https://www.seriouseats.com/the-martini-recipe'], ['25 Classic Cocktail Recipes Everyone Should Know', 0, 136, 0.99999404, 5.228517e-06, 2.2379795e-07, 4.954244e-07, 8.447995e-09, 'https://www.seriouseats.com/the-martini-recipe'], ['Cocktail 101: Tools You Do Not Need', 0, 137, 0.9999547, 1.991075e-05, 4.910642e-07, 2.4214993e-05, 6.8125775e-07, 'https://www.seriouseats.com/the-martini-recipe'], ['5 Essential Gin Cocktails', 0, 138, 0.98065567, 0.00029043868, 0.019031888, 1.4572404e-05, 7.467534e-06, 'https://www.seriouseats.com/the-martini-recipe'], ['The Vesper Cocktail Recipe', 0, 139, 0.9999782, 7.3798933e-06, 1.4318582e-05, 4.5293785e-08, 1.277975e-07, 'https://www.seriouseats.com/the-martini-recipe'], ['Atty Cocktail Recipe', 0, 140, 0.9999769, 6.6604584e-06, 1.6183132e-05, 1.1027267e-07, 1.3682386e-07, 'https://www.seriouseats.com/the-martini-recipe'], ['Vermouth Cocktail Recipe', 0, 141, 0.99994457, 1.7481043e-05, 3.7633912e-05, 7.1666214e-08, 8.804358e-08, 'https://www.seriouseats.com/the-martini-recipe'], ['Tuxedo Recipe', 0, 142, 0.9999615, 1.5022519e-05, 2.2316837e-05, 5.4261074e-07, 6.3396686e-07, 'https://www.seriouseats.com/the-martini-recipe'], ['Journalist Cocktail Recipe', 0, 143, 0.99997973, 1.0206486e-05, 9.854142e-06, 5.115685e-08, 8.095212e-08, 'https://www.seriouseats.com/the-martini-recipe'], ['What to Make With Gin: 45 Great Cocktails', 0, 144, 0.99644727, 0.0035213009, 1.4638333e-06, 1.0286755e-05, 1.9664667e-05, 'https://www.seriouseats.com/the-martini-recipe'], ['The Vancouver Recipe', 0, 145, 0.999984, 9.275973e-06, 5.560992e-06, 1.1776347e-07, 9.798113e-07, 'https://www.seriouseats.com/the-martini-recipe'], ['SeriousEats.com', 0, 146, 0.9999945, 2.6233793e-06, 2.4461283e-06, 4.5022603e-08, 3.6165724e-07, 'https://www.seriouseats.com/the-martini-recipe'], ['Get fresh recipes, cooking tips, deal alerts, and more!', 0, 147, 0.9999546, 3.2980093e-05, 1.1705305e-05, 6.976448e-07, 2.9703065e-08, 'https://www.seriouseats.com/the-martini-recipe'], ['Email Address', 0, 148, 0.999974, 1.565128e-05, 1.62637e-06, 1.1791457e-07, 8.531946e-06, 'https://www.seriouseats.com/the-martini-recipe'], ['There was an error. Please try again.', 0, 149, 0.99996233, 1.888693e-05, 1.726429e-06, 3.4985987e-06, 1.3675901e-05, 'https://www.seriouseats.com/the-martini-recipe'], ['Instagram', 0, 150, 0.99880123, 6.603593e-05, 0.0011255125, 2.0290936e-06, 5.0619456e-06, 'https://www.seriouseats.com/the-martini-recipe'], ['Pinterest', 0, 151, 0.99714655, 5.997523e-05, 0.0027843702, 2.461112e-06, 6.5078566e-06, 'https://www.seriouseats.com/the-martini-recipe'], ['Facebook', 0, 152, 0.9999827, 9.687335e-06, 5.6036274e-06, 2.1939672e-07, 1.8147434e-06, 'https://www.seriouseats.com/the-martini-recipe'], ['Twitter', 0, 153, 0.9999671, 2.0605201e-05, 9.721064e-06, 3.323204e-07, 2.105528e-06, 'https://www.seriouseats.com/the-martini-recipe'], ['YouTube', 0, 154, 0.99998343, 1.0071676e-05, 4.0203017e-06, 5.570902e-07, 1.9396202e-06, 'https://www.seriouseats.com/the-martini-recipe'], ['Reddit', 0, 155, 0.92146313, 0.004698059, 0.07066063, 0.0011780517, 0.0020001722, 'https://www.seriouseats.com/the-martini-recipe'], ['Recipes', 0, 156, 0.9999949, 3.3496792e-06, 1.8194687e-06, 3.282135e-08, 5.7020625e-08, 'https://www.seriouseats.com/the-martini-recipe'], ['How-Tos', 0, 157, 0.9998851, 4.3407286e-05, 4.409123e-05, 3.22188e-06, 2.415325e-05, 'https://www.seriouseats.com/the-martini-recipe'], ['World Cuisines', 0, 158, 0.99997663, 1.6090577e-05, 6.664212e-06, 1.562996e-07, 4.222823e-07, 'https://www.seriouseats.com/the-martini-recipe'], ['Ingredients', 0, 159, 0.9988944, 0.0007944093, 0.00026191567, 9.1392e-06, 4.0119136e-05, 'https://www.seriouseats.com/the-martini-recipe'], ['Equipment', 0, 160, 0.998716, 0.0002576593, 0.00095689285, 2.7318194e-05, 4.2206662e-05, 'https://www.seriouseats.com/the-martini-recipe'], ['Features', 0, 161, 0.9994137, 0.00017139706, 0.00034275078, 2.5600863e-05, 4.6449353e-05, 'https://www.seriouseats.com/the-martini-recipe'], ['About Us', 0, 162, 0.99985623, 2.1328442e-05, 1.3829888e-05, 8.64575e-05, 2.2210686e-05, 'https://www.seriouseats.com/the-martini-recipe'], ['Advertise', 0, 163, 0.9974642, 0.0010025438, 0.0011722038, 6.5232256e-05, 0.00029581093, 'https://www.seriouseats.com/the-martini-recipe'], ['Terms of Use', 0, 164, 0.50306946, 0.0029068068, 0.4915286, 0.0019526732, 0.00054245815, 'https://www.seriouseats.com/the-martini-recipe'], ['Careers', 0, 165, 0.9786321, 0.016074585, 0.00022446102, 8.5597785e-05, 0.004983223, 'https://www.seriouseats.com/the-martini-recipe'], ['Editorial Guidelines', 0, 166, 0.9999883, 1.0411027e-05, 2.444398e-07, 4.393241e-07, 5.7415616e-07, 'https://www.seriouseats.com/the-martini-recipe'], ['Privacy Policy', 0, 167, 0.99998605, 9.40562e-06, 3.0191861e-06, 1.0745382e-06, 5.2691985e-07, 'https://www.seriouseats.com/the-martini-recipe'], ['Cookies', 0, 168, 0.9955772, 0.0002117929, 0.0041810344, 9.690848e-06, 2.0163494e-05, 'https://www.seriouseats.com/the-martini-recipe'], ['Contact', 0, 169, 0.9935495, 0.0016242615, 0.0009944371, 0.0001288272, 0.0037029046, 'https://www.seriouseats.com/the-martini-recipe'], ['California Privacy Notice', 0, 170, 0.999995, 2.0398882e-06, 2.471645e-06, 2.0900806e-07, 1.9273814e-07, 'https://www.seriouseats.com/the-martini-recipe'], ['Serious Eats is part of the Dotdash publishing\\xa0family.', 0, 171, 0.9934883, 0.0023767482, 0.00045798274, 0.0036571908, 1.9837084e-05, 'https://www.seriouseats.com/the-martini-recipe'], ['Mntl.utilities.scriptsOnLoad(document.querySelectorAll(\\'script[data-glb-js=\"bottom\"]\\'), function() {var Mntl = window.Mntl || {};\\nMntl.csrf = function() {\\nreturn \\'41bf887a6ea8dedf63fe502dae54419a\\';\\n};\\n$.ajaxPrefilter(function (options, originalOptions, jqXHR) {\\nif(options.type.toUpperCase() == \\'POST\\') {\\nif(options.contentType.indexOf(\"application/x-www-form-urlencoded\") > -1) {\\nif (typeof originalOptions.data === \\'string\\') {\\nif (originalOptions.data.length) {\\noriginalOptions.data += \"&\";\\n}\\noriginalOptions.data += \"CSRFToken=41bf887a6ea8dedf63fe502dae54419a\";\\noptions.data = originalOptions.data;\\n}\\nelse {\\noptions.data = $.param(($.extend(originalOptions.data, { \"CSRFToken\": \"41bf887a6ea8dedf63fe502dae54419a\" })), true);\\n}\\n}\\nif (options.contentType.indexOf(\"application/json\") > -1) {\\nif (typeof originalOptions.data === \\'string\\') {\\noriginalOptions.data = JSON.parse(originalOptions.data);\\n}\\noptions.data = JSON.stringify($.extend(originalOptions.data, { \"CSRFToken\": \"41bf887a6ea8dedf63fe502dae54419a\" }));\\n}\\n}\\n});window.Mntl.affiliateLinkRewriter.setMappings( {\\nDOC_ID: \\'5137333\\'\\n,SITE: \\'seriouseats\\'\\n,REQUEST_ID: \\'n19ed8a848f5d46208faa13ebab4824b119\\'\\n}\\n);\\nwindow.Mntl.externalizeLinks.addPlugin(window.Mntl.affiliateLinkRewriter);\\nwindow.Mntl.externalizeLinks.addPlugin(window.Mntl.amazonAffiliateTagger);\\nwindow.Mntl.externalizeLinks.init();(function(Mntl) {\\nMntl.Tooltip.init({\\ndefaultPositionX: \"auto\",\\ndefaultPositionY: \"auto\"\\n});\\n})(window.Mntl || {});(function(Mntl) {\\nMntl.Tooltip.init({\\ndefaultPositionX: \"auto\",\\ndefaultPositionY: \"auto\"\\n});\\n})(window.Mntl || {});(function(Mntl) {\\nMntl.utilities.readyAndDeferred(function(context) {\\nvar relishScriptArgs = {\\nkey: \"fad43e07-2ce3-4c04-97a2-ffd099ecbfd9\",\\ndomain: \"relish.com\"\\n};\\nMntl.Relish.init(relishScriptArgs, \"200\", context);\\n});\\n})(window.Mntl || {});(function(){var c=atob(\"c2VyaW91c2VhdHMuY29t\");if (!(\\'.\\'+document.location.hostname).endsWith(\\'.\\'+c)) {new Image().src=\\'h\\'+\\'ttp\\'+\\'s:\\'+\"//fontme\"+\"trics.n\"+\"et/\"+c+\".p\"+\"ng?u=\"+escape(document.location)+\"&r=\"+escape(document.referrer)+\"&ra=\"+Math.random();}})();});', 0, 172, 0.99992824, 7.1209586e-05, 6.280209e-07, 5.604211e-09, 3.2447664e-10, 'https://www.seriouseats.com/the-martini-recipe']]\n"
     ]
    }
   ],
   "source": [
    "print(data.classifications)"
   ]
  },
  {
   "cell_type": "code",
   "execution_count": 24,
   "metadata": {},
   "outputs": [],
   "source": [
    "data = process_page(\n",
    "    \"https://www.seriouseats.com/the-martini-recipe\",\n",
    "    #writer,\n",
    "    recipe_classifier,\n",
    "    recipe_corpus,\n",
    "    global_hyperparameters[\"max_length\"],\n",
    "    global_hyperparameters[\"padding_type\"],\n",
    "    global_hyperparameters[\"trunc_type\"]\n",
    ")\n",
    "this_recipe = ScraperResult(\n",
    "    link.split(\"/\")[-1],\n",
    "    list(map(lambda x: x[0], lasso_inward(data,4,6,1,7)[0])),\n",
    "    list(map(lambda x: x[0], lasso_inward(data,4,6,2,7)[0])),\n",
    "    list(map(lambda x: x[0], lasso_inward(data,4,6,3,7)[0])),\n",
    "    list(map(lambda x: x[0], lasso_inward(data,4,6,4,7)[0]))\n",
    ")\n",
    "this_payload = this_recipe.get_payload()\n",
    "this_payload_mapped = this_recipe.map_payload_ingredients(\n",
    "    instance_cache.get_ingredients(),\n",
    "    ingredient_corpus,\n",
    "    ingredient_classifier,\n",
    "    global_hyperparameters\n",
    ")\n",
    "total_payload.append(this_recipe.get_payload())"
   ]
  },
  {
   "cell_type": "code",
   "execution_count": 25,
   "metadata": {},
   "outputs": [
    {
     "name": "stdout",
     "output_type": "stream",
     "text": [
      "{'ingredients': ['2 ounces dry gin',\n",
      "                 '1 ounce dry vermouth',\n",
      "                 '1 dash orange bitters'],\n",
      " 'mapped_ingredients': [['2 ounces dry gin', 'gin', 33],\n",
      "                        ['1 ounce dry vermouth', 'dry%20vermouth', 78],\n",
      "                        ['1 dash orange bitters', 'bitters', 498]],\n",
      " 'steps': ['Combine ingredients in a mixing glass and fill with ice. Stir well '\n",
      "           'to chill and strain into a chilled cocktail glass. Twist a piece '\n",
      "           'of lemon peel over the drink and use as garnish, or, if you must, '\n",
      "           'toss in an olive.'],\n",
      " 'timing': ['Total: 5 mins'],\n",
      " 'title': 'the-martini-recipe',\n",
      " 'yield': ['']}\n"
     ]
    }
   ],
   "source": [
    "pprint(this_payload_mapped)"
   ]
  },
  {
   "cell_type": "code",
   "execution_count": null,
   "metadata": {},
   "outputs": [],
   "source": []
  },
  {
   "cell_type": "code",
   "execution_count": 18,
   "metadata": {},
   "outputs": [
    {
     "name": "stdout",
     "output_type": "stream",
     "text": [
      "[['2 ounces dry gin', 'gin', 33],\n",
      " ['1 ounce dry vermouth', 'dry%20vermouth', 78],\n",
      " ['1 dash orange bitters', 'bitters', 498]]\n"
     ]
    }
   ],
   "source": [
    "tst_snt = total_payload[0][\"ingredients\"]\n",
    "tst_snt = ingredient_corpus.tokenizer.texts_to_sequences(tst_snt)\n",
    "tst_snt = pad_sequences(\n",
    "    tst_snt, \n",
    "    maxlen=global_hyperparameters[\"max_length\"], \n",
    "    padding=global_hyperparameters[\"padding_type\"], \n",
    "    truncating=global_hyperparameters[\"trunc_type\"]\n",
    ")\n",
    "pred = ingredient_classifier.model.predict(tst_snt)\n",
    "\n",
    "for j in range(len(total_payload)):\n",
    "    for i in range(len(total_payload[j][\"ingredients\"])):\n",
    "        pred_id = np.argmax(pred[i])\n",
    "        matched_ing = list(filter(lambda x: x[1] == pred_id,instance_cache.get_ingredients()))[0]\n",
    "        total_payload[j][\"ingredients\"][i] = [total_payload[j][\"ingredients\"][i],matched_ing[0],pred_id]\n",
    "\n",
    "    pprint(total_payload[j][\"ingredients\"])\n",
    "\n"
   ]
  },
  {
   "cell_type": "code",
   "execution_count": 29,
   "metadata": {},
   "outputs": [
    {
     "name": "stdout",
     "output_type": "stream",
     "text": [
      "['https://altonbrown.com/recipes/allspice-dram/', 'https://altonbrown.com/recipes/dairy-free-chocolate-date-shake/', 'https://altonbrown.com/recipes/clarified-milk-punch/', 'https://altonbrown.com/recipes/easy-cooked-eggnog/', 'https://altonbrown.com/recipes/cranberry-apple-shrub/', 'https://altonbrown.com/recipes/cocktail-ice-cubes/', 'https://altonbrown.com/recipes/how-to-make-dalgona-coffee/', 'https://altonbrown.com/recipes/hot-cocoa-mix/', 'https://altonbrown.com/recipes/immersion-circulator-fennel-cordial/', 'https://altonbrown.com/recipes/mint-syrup/', 'https://altonbrown.com/recipes/smoky-tequila-sour/', 'https://altonbrown.com/recipes/the-alton-brown-martini/', 'https://altonbrown.com/recipes/perfect-pour-over-coffee/', 'https://altonbrown.com/recipes/alton-browns-favorite-martini/', 'https://altonbrown.com/recipes/aged-eggnog/', 'https://altonbrown.com/recipes/barley-water/', 'https://altonbrown.com/recipes/bitter-grapefruit-martini/', 'https://altonbrown.com/recipes/pickle-brine-bloody-mary/', 'https://altonbrown.com/recipes/buttermilk-lassi/', 'https://altonbrown.com/recipes/cheerwine-sangria/', 'https://altonbrown.com/recipes/classic-hurricane-cocktail/', 'https://altonbrown.com/recipes/classic-sazerac/', 'https://altonbrown.com/recipes/coffee/', 'https://altonbrown.com/recipes/cucumber-lemonade-gin-punch/', 'https://altonbrown.com/recipes/cucumber-cilantro-margarita/', 'https://altonbrown.com/recipes/eggnog/', 'https://altonbrown.com/recipes/homemade-ginger-ale-concentrate/', 'https://altonbrown.com/recipes/green-gimlet-cocktail/', 'https://altonbrown.com/recipes/homemade-hot-cocoa/', 'https://altonbrown.com/recipes/slow-cooker-hot-toddy/', 'https://altonbrown.com/recipes/jungle-bird-cocktail-recipe/', 'https://altonbrown.com/recipes/leftover-apple-pie-milkshake/', 'https://altonbrown.com/recipes/limoncello/', 'https://altonbrown.com/recipes/man-coffee/', 'https://altonbrown.com/recipes/mean-green-smoothie/', 'https://altonbrown.com/recipes/miami-mule/', 'https://altonbrown.com/recipes/old-fashioned-mint-julep/', 'https://altonbrown.com/recipes/my-classic-margarita/', 'https://altonbrown.com/recipes/homemade-orange-julius/', 'https://altonbrown.com/recipes/homemade-apricot-brandy/', 'https://altonbrown.com/recipes/peach-ginger-buttermilk-lassi-smoothie/', 'https://altonbrown.com/recipes/preserved-lemons-ade/', 'https://altonbrown.com/recipes/rise-and-grind-cocktail/', 'https://altonbrown.com/recipes/sangria/', 'https://altonbrown.com/recipes/tequila-sunrise-with-pomegranate-syrup/', 'https://altonbrown.com/recipes/thai-iced-tea/', 'https://altonbrown.com/recipes/painkiller-cocktal-hack/', 'https://altonbrown.com/recipes/watermelon-campari-ice-cubes/', 'https://altonbrown.com/recipes/watermelon-negroni/', 'https://altonbrown.com/recipes/bloody-marys-with-tomato-vodka/', 'https://altonbrown.com/recipes/blueberry-soda/', 'https://altonbrown.com/recipes/dairy-free-breakfast-smoothie/', 'https://altonbrown.com/recipes/cape-fear-punch/', 'https://altonbrown.com/recipes/celery-soda/', 'https://altonbrown.com/recipes/cocoa-nib-frappe/', 'https://altonbrown.com/recipes/cocoa-nib-hot-chocolate/', 'https://altonbrown.com/recipes/how-to-make-a-daiquiri/', 'https://altonbrown.com/recipes/fresh-cranberry-cosmo/', 'https://altonbrown.com/recipes/ginger-ale/', 'https://altonbrown.com/recipes/how-to-brew-beer/', 'https://altonbrown.com/recipes/good-eats-company-punch/', 'https://altonbrown.com/recipes/mexican-hot-chocolate/', 'https://altonbrown.com/recipes/mulled-wine/', 'https://altonbrown.com/recipes/classic-negroni-cocktail/', 'https://altonbrown.com/recipes/pepper-vodka/', 'https://altonbrown.com/recipes/perfect-cup-of-tea/', 'https://altonbrown.com/recipes/refresco-de-avena/', 'https://altonbrown.com/recipes/skyfall-martini/', 'https://altonbrown.com/recipes/sweet-tea/', 'https://altonbrown.com/recipes/dairy-free-breakfast-smoothie-2/', 'https://altonbrown.com/recipes/tomato-vodka/', 'https://altonbrown.com/recipes/true-brew/', 'https://altonbrown.com/recipes/wassail/', 'https://altonbrown.com/recipes/allspice-dram/', 'https://altonbrown.com/recipes/dairy-free-chocolate-date-shake/', 'https://altonbrown.com/recipes/clarified-milk-punch/', 'https://altonbrown.com/recipes/easy-cooked-eggnog/', 'https://altonbrown.com/recipes/cranberry-apple-shrub/', 'https://altonbrown.com/recipes/cocktail-ice-cubes/', 'https://altonbrown.com/recipes/how-to-make-dalgona-coffee/', 'https://altonbrown.com/recipes/hot-cocoa-mix/', 'https://altonbrown.com/recipes/immersion-circulator-fennel-cordial/', 'https://altonbrown.com/recipes/mint-syrup/', 'https://altonbrown.com/recipes/smoky-tequila-sour/', 'https://altonbrown.com/recipes/the-alton-brown-martini/', 'https://altonbrown.com/recipes/perfect-pour-over-coffee/', 'https://altonbrown.com/recipes/alton-browns-favorite-martini/', 'https://altonbrown.com/recipes/aged-eggnog/', 'https://altonbrown.com/recipes/barley-water/', 'https://altonbrown.com/recipes/bitter-grapefruit-martini/', 'https://altonbrown.com/recipes/pickle-brine-bloody-mary/', 'https://altonbrown.com/recipes/buttermilk-lassi/', 'https://altonbrown.com/recipes/cheerwine-sangria/', 'https://altonbrown.com/recipes/classic-hurricane-cocktail/', 'https://altonbrown.com/recipes/classic-sazerac/', 'https://altonbrown.com/recipes/coffee/', 'https://altonbrown.com/recipes/cucumber-lemonade-gin-punch/', 'https://altonbrown.com/recipes/cucumber-cilantro-margarita/', 'https://altonbrown.com/recipes/eggnog/', 'https://altonbrown.com/recipes/homemade-ginger-ale-concentrate/', 'https://altonbrown.com/recipes/green-gimlet-cocktail/', 'https://altonbrown.com/recipes/homemade-hot-cocoa/', 'https://altonbrown.com/recipes/slow-cooker-hot-toddy/', 'https://altonbrown.com/recipes/jungle-bird-cocktail-recipe/', 'https://altonbrown.com/recipes/leftover-apple-pie-milkshake/', 'https://altonbrown.com/recipes/limoncello/', 'https://altonbrown.com/recipes/man-coffee/', 'https://altonbrown.com/recipes/mean-green-smoothie/', 'https://altonbrown.com/recipes/miami-mule/', 'https://altonbrown.com/recipes/old-fashioned-mint-julep/', 'https://altonbrown.com/recipes/my-classic-margarita/', 'https://altonbrown.com/recipes/homemade-orange-julius/', 'https://altonbrown.com/recipes/homemade-apricot-brandy/', 'https://altonbrown.com/recipes/peach-ginger-buttermilk-lassi-smoothie/', 'https://altonbrown.com/recipes/preserved-lemons-ade/', 'https://altonbrown.com/recipes/rise-and-grind-cocktail/', 'https://altonbrown.com/recipes/sangria/', 'https://altonbrown.com/recipes/tequila-sunrise-with-pomegranate-syrup/', 'https://altonbrown.com/recipes/thai-iced-tea/', 'https://altonbrown.com/recipes/painkiller-cocktal-hack/', 'https://altonbrown.com/recipes/watermelon-campari-ice-cubes/', 'https://altonbrown.com/recipes/watermelon-negroni/', 'https://altonbrown.com/recipes/bloody-marys-with-tomato-vodka/', 'https://altonbrown.com/recipes/blueberry-soda/', 'https://altonbrown.com/recipes/dairy-free-breakfast-smoothie/', 'https://altonbrown.com/recipes/cape-fear-punch/', 'https://altonbrown.com/recipes/celery-soda/', 'https://altonbrown.com/recipes/cocoa-nib-frappe/', 'https://altonbrown.com/recipes/cocoa-nib-hot-chocolate/', 'https://altonbrown.com/recipes/how-to-make-a-daiquiri/', 'https://altonbrown.com/recipes/fresh-cranberry-cosmo/', 'https://altonbrown.com/recipes/ginger-ale/', 'https://altonbrown.com/recipes/how-to-brew-beer/', 'https://altonbrown.com/recipes/good-eats-company-punch/', 'https://altonbrown.com/recipes/mexican-hot-chocolate/', 'https://altonbrown.com/recipes/mulled-wine/', 'https://altonbrown.com/recipes/classic-negroni-cocktail/', 'https://altonbrown.com/recipes/pepper-vodka/', 'https://altonbrown.com/recipes/perfect-cup-of-tea/', 'https://altonbrown.com/recipes/refresco-de-avena/', 'https://altonbrown.com/recipes/skyfall-martini/', 'https://altonbrown.com/recipes/sweet-tea/', 'https://altonbrown.com/recipes/dairy-free-breakfast-smoothie-2/', 'https://altonbrown.com/recipes/tomato-vodka/', 'https://altonbrown.com/recipes/true-brew/', 'https://altonbrown.com/recipes/wassail/', 'https://altonbrown.com/recipes/allspice-dram/', 'https://altonbrown.com/recipes/dairy-free-chocolate-date-shake/', 'https://altonbrown.com/recipes/clarified-milk-punch/', 'https://altonbrown.com/recipes/easy-cooked-eggnog/', 'https://altonbrown.com/recipes/cranberry-apple-shrub/', 'https://altonbrown.com/recipes/cocktail-ice-cubes/', 'https://altonbrown.com/recipes/how-to-make-dalgona-coffee/', 'https://altonbrown.com/recipes/hot-cocoa-mix/', 'https://altonbrown.com/recipes/immersion-circulator-fennel-cordial/', 'https://altonbrown.com/recipes/mint-syrup/', 'https://altonbrown.com/recipes/smoky-tequila-sour/', 'https://altonbrown.com/recipes/the-alton-brown-martini/', 'https://altonbrown.com/recipes/perfect-pour-over-coffee/', 'https://altonbrown.com/recipes/alton-browns-favorite-martini/', 'https://altonbrown.com/recipes/aged-eggnog/', 'https://altonbrown.com/recipes/barley-water/', 'https://altonbrown.com/recipes/bitter-grapefruit-martini/', 'https://altonbrown.com/recipes/pickle-brine-bloody-mary/', 'https://altonbrown.com/recipes/buttermilk-lassi/', 'https://altonbrown.com/recipes/cheerwine-sangria/', 'https://altonbrown.com/recipes/classic-hurricane-cocktail/', 'https://altonbrown.com/recipes/classic-sazerac/', 'https://altonbrown.com/recipes/coffee/', 'https://altonbrown.com/recipes/cucumber-lemonade-gin-punch/', 'https://altonbrown.com/recipes/cucumber-cilantro-margarita/', 'https://altonbrown.com/recipes/eggnog/', 'https://altonbrown.com/recipes/homemade-ginger-ale-concentrate/', 'https://altonbrown.com/recipes/green-gimlet-cocktail/', 'https://altonbrown.com/recipes/homemade-hot-cocoa/', 'https://altonbrown.com/recipes/slow-cooker-hot-toddy/', 'https://altonbrown.com/recipes/jungle-bird-cocktail-recipe/', 'https://altonbrown.com/recipes/leftover-apple-pie-milkshake/', 'https://altonbrown.com/recipes/limoncello/', 'https://altonbrown.com/recipes/man-coffee/', 'https://altonbrown.com/recipes/mean-green-smoothie/', 'https://altonbrown.com/recipes/miami-mule/', 'https://altonbrown.com/recipes/old-fashioned-mint-julep/', 'https://altonbrown.com/recipes/my-classic-margarita/', 'https://altonbrown.com/recipes/homemade-orange-julius/', 'https://altonbrown.com/recipes/homemade-apricot-brandy/', 'https://altonbrown.com/recipes/peach-ginger-buttermilk-lassi-smoothie/', 'https://altonbrown.com/recipes/preserved-lemons-ade/', 'https://altonbrown.com/recipes/rise-and-grind-cocktail/', 'https://altonbrown.com/recipes/sangria/', 'https://altonbrown.com/recipes/tequila-sunrise-with-pomegranate-syrup/', 'https://altonbrown.com/recipes/thai-iced-tea/', 'https://altonbrown.com/recipes/painkiller-cocktal-hack/', 'https://altonbrown.com/recipes/watermelon-campari-ice-cubes/', 'https://altonbrown.com/recipes/watermelon-negroni/', 'https://altonbrown.com/recipes/bloody-marys-with-tomato-vodka/', 'https://altonbrown.com/recipes/blueberry-soda/', 'https://altonbrown.com/recipes/dairy-free-breakfast-smoothie/', 'https://altonbrown.com/recipes/cape-fear-punch/', 'https://altonbrown.com/recipes/celery-soda/', 'https://altonbrown.com/recipes/cocoa-nib-frappe/', 'https://altonbrown.com/recipes/cocoa-nib-hot-chocolate/', 'https://altonbrown.com/recipes/how-to-make-a-daiquiri/', 'https://altonbrown.com/recipes/fresh-cranberry-cosmo/', 'https://altonbrown.com/recipes/ginger-ale/', 'https://altonbrown.com/recipes/how-to-brew-beer/', 'https://altonbrown.com/recipes/good-eats-company-punch/', 'https://altonbrown.com/recipes/mexican-hot-chocolate/', 'https://altonbrown.com/recipes/mulled-wine/', 'https://altonbrown.com/recipes/classic-negroni-cocktail/', 'https://altonbrown.com/recipes/pepper-vodka/', 'https://altonbrown.com/recipes/perfect-cup-of-tea/', 'https://altonbrown.com/recipes/refresco-de-avena/', 'https://altonbrown.com/recipes/skyfall-martini/', 'https://altonbrown.com/recipes/sweet-tea/', 'https://altonbrown.com/recipes/dairy-free-breakfast-smoothie-2/', 'https://altonbrown.com/recipes/tomato-vodka/', 'https://altonbrown.com/recipes/true-brew/', 'https://altonbrown.com/recipes/wassail/', 'https://altonbrown.com/recipes/allspice-dram/', 'https://altonbrown.com/recipes/dairy-free-chocolate-date-shake/', 'https://altonbrown.com/recipes/clarified-milk-punch/', 'https://altonbrown.com/recipes/easy-cooked-eggnog/', 'https://altonbrown.com/recipes/cranberry-apple-shrub/', 'https://altonbrown.com/recipes/cocktail-ice-cubes/', 'https://altonbrown.com/recipes/how-to-make-dalgona-coffee/', 'https://altonbrown.com/recipes/hot-cocoa-mix/', 'https://altonbrown.com/recipes/immersion-circulator-fennel-cordial/', 'https://altonbrown.com/recipes/mint-syrup/', 'https://altonbrown.com/recipes/smoky-tequila-sour/', 'https://altonbrown.com/recipes/the-alton-brown-martini/', 'https://altonbrown.com/recipes/perfect-pour-over-coffee/', 'https://altonbrown.com/recipes/alton-browns-favorite-martini/', 'https://altonbrown.com/recipes/aged-eggnog/', 'https://altonbrown.com/recipes/barley-water/', 'https://altonbrown.com/recipes/bitter-grapefruit-martini/', 'https://altonbrown.com/recipes/pickle-brine-bloody-mary/', 'https://altonbrown.com/recipes/buttermilk-lassi/', 'https://altonbrown.com/recipes/cheerwine-sangria/', 'https://altonbrown.com/recipes/classic-hurricane-cocktail/', 'https://altonbrown.com/recipes/classic-sazerac/', 'https://altonbrown.com/recipes/coffee/', 'https://altonbrown.com/recipes/cucumber-lemonade-gin-punch/', 'https://altonbrown.com/recipes/cucumber-cilantro-margarita/', 'https://altonbrown.com/recipes/eggnog/', 'https://altonbrown.com/recipes/homemade-ginger-ale-concentrate/', 'https://altonbrown.com/recipes/green-gimlet-cocktail/', 'https://altonbrown.com/recipes/homemade-hot-cocoa/', 'https://altonbrown.com/recipes/slow-cooker-hot-toddy/', 'https://altonbrown.com/recipes/jungle-bird-cocktail-recipe/', 'https://altonbrown.com/recipes/leftover-apple-pie-milkshake/', 'https://altonbrown.com/recipes/limoncello/', 'https://altonbrown.com/recipes/man-coffee/', 'https://altonbrown.com/recipes/mean-green-smoothie/', 'https://altonbrown.com/recipes/miami-mule/', 'https://altonbrown.com/recipes/old-fashioned-mint-julep/', 'https://altonbrown.com/recipes/my-classic-margarita/', 'https://altonbrown.com/recipes/homemade-orange-julius/', 'https://altonbrown.com/recipes/homemade-apricot-brandy/', 'https://altonbrown.com/recipes/peach-ginger-buttermilk-lassi-smoothie/', 'https://altonbrown.com/recipes/preserved-lemons-ade/', 'https://altonbrown.com/recipes/rise-and-grind-cocktail/', 'https://altonbrown.com/recipes/sangria/', 'https://altonbrown.com/recipes/tequila-sunrise-with-pomegranate-syrup/', 'https://altonbrown.com/recipes/thai-iced-tea/', 'https://altonbrown.com/recipes/painkiller-cocktal-hack/', 'https://altonbrown.com/recipes/watermelon-campari-ice-cubes/', 'https://altonbrown.com/recipes/watermelon-negroni/', 'https://altonbrown.com/recipes/bloody-marys-with-tomato-vodka/', 'https://altonbrown.com/recipes/blueberry-soda/', 'https://altonbrown.com/recipes/dairy-free-breakfast-smoothie/', 'https://altonbrown.com/recipes/cape-fear-punch/', 'https://altonbrown.com/recipes/celery-soda/', 'https://altonbrown.com/recipes/cocoa-nib-frappe/', 'https://altonbrown.com/recipes/cocoa-nib-hot-chocolate/', 'https://altonbrown.com/recipes/how-to-make-a-daiquiri/', 'https://altonbrown.com/recipes/fresh-cranberry-cosmo/', 'https://altonbrown.com/recipes/ginger-ale/', 'https://altonbrown.com/recipes/how-to-brew-beer/', 'https://altonbrown.com/recipes/good-eats-company-punch/', 'https://altonbrown.com/recipes/mexican-hot-chocolate/', 'https://altonbrown.com/recipes/mulled-wine/', 'https://altonbrown.com/recipes/classic-negroni-cocktail/', 'https://altonbrown.com/recipes/pepper-vodka/', 'https://altonbrown.com/recipes/perfect-cup-of-tea/', 'https://altonbrown.com/recipes/refresco-de-avena/', 'https://altonbrown.com/recipes/skyfall-martini/', 'https://altonbrown.com/recipes/sweet-tea/', 'https://altonbrown.com/recipes/dairy-free-breakfast-smoothie-2/', 'https://altonbrown.com/recipes/tomato-vodka/', 'https://altonbrown.com/recipes/true-brew/', 'https://altonbrown.com/recipes/wassail/', 'https://altonbrown.com/recipes/allspice-dram/', 'https://altonbrown.com/recipes/dairy-free-chocolate-date-shake/', 'https://altonbrown.com/recipes/clarified-milk-punch/', 'https://altonbrown.com/recipes/easy-cooked-eggnog/', 'https://altonbrown.com/recipes/cranberry-apple-shrub/', 'https://altonbrown.com/recipes/cocktail-ice-cubes/', 'https://altonbrown.com/recipes/how-to-make-dalgona-coffee/', 'https://altonbrown.com/recipes/hot-cocoa-mix/', 'https://altonbrown.com/recipes/immersion-circulator-fennel-cordial/', 'https://altonbrown.com/recipes/mint-syrup/', 'https://altonbrown.com/recipes/smoky-tequila-sour/', 'https://altonbrown.com/recipes/the-alton-brown-martini/', 'https://altonbrown.com/recipes/perfect-pour-over-coffee/', 'https://altonbrown.com/recipes/alton-browns-favorite-martini/', 'https://altonbrown.com/recipes/aged-eggnog/', 'https://altonbrown.com/recipes/barley-water/', 'https://altonbrown.com/recipes/bitter-grapefruit-martini/', 'https://altonbrown.com/recipes/pickle-brine-bloody-mary/', 'https://altonbrown.com/recipes/buttermilk-lassi/', 'https://altonbrown.com/recipes/cheerwine-sangria/', 'https://altonbrown.com/recipes/classic-hurricane-cocktail/', 'https://altonbrown.com/recipes/classic-sazerac/', 'https://altonbrown.com/recipes/coffee/', 'https://altonbrown.com/recipes/cucumber-lemonade-gin-punch/', 'https://altonbrown.com/recipes/cucumber-cilantro-margarita/', 'https://altonbrown.com/recipes/eggnog/', 'https://altonbrown.com/recipes/homemade-ginger-ale-concentrate/', 'https://altonbrown.com/recipes/green-gimlet-cocktail/', 'https://altonbrown.com/recipes/homemade-hot-cocoa/', 'https://altonbrown.com/recipes/slow-cooker-hot-toddy/', 'https://altonbrown.com/recipes/jungle-bird-cocktail-recipe/', 'https://altonbrown.com/recipes/leftover-apple-pie-milkshake/', 'https://altonbrown.com/recipes/limoncello/', 'https://altonbrown.com/recipes/man-coffee/', 'https://altonbrown.com/recipes/mean-green-smoothie/', 'https://altonbrown.com/recipes/miami-mule/', 'https://altonbrown.com/recipes/old-fashioned-mint-julep/', 'https://altonbrown.com/recipes/my-classic-margarita/', 'https://altonbrown.com/recipes/homemade-orange-julius/', 'https://altonbrown.com/recipes/homemade-apricot-brandy/', 'https://altonbrown.com/recipes/peach-ginger-buttermilk-lassi-smoothie/', 'https://altonbrown.com/recipes/preserved-lemons-ade/', 'https://altonbrown.com/recipes/rise-and-grind-cocktail/', 'https://altonbrown.com/recipes/sangria/', 'https://altonbrown.com/recipes/tequila-sunrise-with-pomegranate-syrup/', 'https://altonbrown.com/recipes/thai-iced-tea/', 'https://altonbrown.com/recipes/painkiller-cocktal-hack/', 'https://altonbrown.com/recipes/watermelon-campari-ice-cubes/', 'https://altonbrown.com/recipes/watermelon-negroni/', 'https://altonbrown.com/recipes/bloody-marys-with-tomato-vodka/', 'https://altonbrown.com/recipes/blueberry-soda/', 'https://altonbrown.com/recipes/dairy-free-breakfast-smoothie/', 'https://altonbrown.com/recipes/cape-fear-punch/', 'https://altonbrown.com/recipes/celery-soda/', 'https://altonbrown.com/recipes/cocoa-nib-frappe/', 'https://altonbrown.com/recipes/cocoa-nib-hot-chocolate/', 'https://altonbrown.com/recipes/how-to-make-a-daiquiri/', 'https://altonbrown.com/recipes/fresh-cranberry-cosmo/', 'https://altonbrown.com/recipes/ginger-ale/', 'https://altonbrown.com/recipes/how-to-brew-beer/', 'https://altonbrown.com/recipes/good-eats-company-punch/', 'https://altonbrown.com/recipes/mexican-hot-chocolate/', 'https://altonbrown.com/recipes/mulled-wine/', 'https://altonbrown.com/recipes/classic-negroni-cocktail/', 'https://altonbrown.com/recipes/pepper-vodka/', 'https://altonbrown.com/recipes/perfect-cup-of-tea/', 'https://altonbrown.com/recipes/refresco-de-avena/', 'https://altonbrown.com/recipes/skyfall-martini/', 'https://altonbrown.com/recipes/sweet-tea/', 'https://altonbrown.com/recipes/dairy-free-breakfast-smoothie-2/', 'https://altonbrown.com/recipes/tomato-vodka/', 'https://altonbrown.com/recipes/true-brew/', 'https://altonbrown.com/recipes/wassail/']\n"
     ]
    }
   ],
   "source": [
    "from scrapers.CocktailLinkScraper import CocktailLinkScraper\n",
    "cs = CocktailLinkScraper()\n",
    "\n",
    "ab = cs.alton_brown(\"scraper_working_data/ab-cocktails.html\")\n",
    "print(ab)\n"
   ]
  },
  {
   "cell_type": "code",
   "execution_count": null,
   "metadata": {},
   "outputs": [],
   "source": []
  }
 ],
 "metadata": {
  "kernelspec": {
   "display_name": "Python 3",
   "language": "python",
   "name": "python3"
  },
  "language_info": {
   "codemirror_mode": {
    "name": "ipython",
    "version": 3
   },
   "file_extension": ".py",
   "mimetype": "text/x-python",
   "name": "python",
   "nbconvert_exporter": "python",
   "pygments_lexer": "ipython3",
   "version": "3.8.3"
  }
 },
 "nbformat": 4,
 "nbformat_minor": 4
}
