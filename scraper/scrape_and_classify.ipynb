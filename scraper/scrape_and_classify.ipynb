{
 "cells": [
  {
   "cell_type": "code",
   "execution_count": 1,
   "metadata": {},
   "outputs": [],
   "source": [
    "from model.Corpus import Corpus\n",
    "from model.Model import Model\n",
    "from model.Embeddings import Embeddings\n",
    "from tensorflow.keras.preprocessing.sequence import pad_sequences\n",
    "import numpy as np\n",
    "\n",
    "from pprint import pprint\n",
    "import csv\n",
    "from scrapers.ScraperResult import ScraperResult\n",
    "from page_processors import *\n",
    "\n",
    "\n",
    "global_hyperparameters = {\n",
    "    \"embedding_dim\": 100, # Dimensions in the GloVe embedding\n",
    "    \"max_length\": 60, # Enforced max and min length of an example\n",
    "    \"trunc_type\": \"post\",\n",
    "    \"padding_type\": \"post\",\n",
    "    \"oov_tok\": \"<OOV>\",\n",
    "    \"test_portion\": 0.1\n",
    "}\n",
    "\n",
    "embedding_dim = 100\n",
    "max_length = 60\n",
    "\n",
    "trunc_type='post'\n",
    "padding_type='post'\n",
    "oov_tok = \"<OOV>\"\n",
    "test_portion = 0.1\n"
   ]
  },
  {
   "cell_type": "code",
   "execution_count": 2,
   "metadata": {},
   "outputs": [
    {
     "name": "stdout",
     "output_type": "stream",
     "text": [
      "Epoch 1/6\n",
      "2518/2518 [==============================] - 72s 29ms/step - loss: 1.3860 - accuracy: 0.7246 - val_loss: 0.1891 - val_accuracy: 0.9474\n",
      "Epoch 2/6\n",
      "2518/2518 [==============================] - 75s 30ms/step - loss: 0.1961 - accuracy: 0.9464 - val_loss: 0.1110 - val_accuracy: 0.9686\n",
      "Epoch 3/6\n",
      "2518/2518 [==============================] - 73s 29ms/step - loss: 0.1242 - accuracy: 0.9635 - val_loss: 0.0779 - val_accuracy: 0.9754\n",
      "Epoch 4/6\n",
      "2518/2518 [==============================] - 73s 29ms/step - loss: 0.1049 - accuracy: 0.9676 - val_loss: 0.0647 - val_accuracy: 0.9782\n",
      "Epoch 5/6\n",
      "2518/2518 [==============================] - 73s 29ms/step - loss: 0.0910 - accuracy: 0.9715 - val_loss: 0.0570 - val_accuracy: 0.9808\n",
      "Epoch 6/6\n",
      "2518/2518 [==============================] - 73s 29ms/step - loss: 0.0802 - accuracy: 0.9738 - val_loss: 0.0727 - val_accuracy: 0.9777\n"
     ]
    }
   ],
   "source": [
    "# should tokenize the labels; there aren't 1191 unique ones\n",
    "num_epochs_i = 6\n",
    "training_size_i = 89500\n",
    "\n",
    "ingredients_hyperparameters = {\n",
    "    \"num_epochs\": 6,\n",
    "    \"training_size\": 89500\n",
    "}\n",
    "\n",
    "ingredient_corpus = Corpus(\n",
    "    \"training_data/augmented_classified_ingredients.csv\",\n",
    "    global_hyperparameters,\n",
    "    ingredients_hyperparameters\n",
    ").initialize()\n",
    "\n",
    "ingredient_embeddings = Embeddings(\n",
    "    \"glove.6B.100d.txt\",\n",
    "    #embedding_dim,\n",
    "    ingredient_corpus,\n",
    "    global_hyperparameters\n",
    ").activate()\n",
    "\n",
    "ingredient_classifier = Model(\n",
    "    ingredient_corpus,\n",
    "    ingredient_embeddings,\n",
    "    global_hyperparameters,\n",
    "    ingredients_hyperparameters,\n",
    "    #max_length,\n",
    "    #num_epochs_i,\n",
    "    1191\n",
    ").run()\n"
   ]
  },
  {
   "cell_type": "code",
   "execution_count": 5,
   "metadata": {},
   "outputs": [
    {
     "name": "stdout",
     "output_type": "stream",
     "text": [
      "Epoch 1/4\n",
      "2138/2138 [==============================] - 53s 25ms/step - loss: 0.0644 - accuracy: 0.9789 - val_loss: 0.0341 - val_accuracy: 0.9883\n",
      "Epoch 2/4\n",
      "2138/2138 [==============================] - 55s 26ms/step - loss: 0.0268 - accuracy: 0.9916 - val_loss: 0.0255 - val_accuracy: 0.9918\n",
      "Epoch 3/4\n",
      "2138/2138 [==============================] - 53s 25ms/step - loss: 0.0205 - accuracy: 0.9932 - val_loss: 0.0192 - val_accuracy: 0.9941\n",
      "Epoch 4/4\n",
      "2138/2138 [==============================] - 53s 25ms/step - loss: 0.0181 - accuracy: 0.9939 - val_loss: 0.0241 - val_accuracy: 0.9933\n"
     ]
    }
   ],
   "source": [
    "num_epochs_r = 4\n",
    "training_size_r = 76000\n",
    "\n",
    "recipes_hyperparameters = {\n",
    "    \"num_epochs\": 4,\n",
    "    \"training_size\": 76000\n",
    "}\n",
    "\n",
    "recipe_corpus = Corpus(\n",
    "    \"training_data/augmented_training_labels.csv\",\n",
    "    global_hyperparameters,\n",
    "    recipes_hyperparameters\n",
    ").initialize()\n",
    "\n",
    "recipe_embeddings = Embeddings(\n",
    "    \"glove.6B.100d.txt\",\n",
    "    recipe_corpus,\n",
    "    global_hyperparameters\n",
    ").activate()\n",
    "\n",
    "recipe_classifier = Model(\n",
    "    recipe_corpus,\n",
    "    recipe_embeddings,\n",
    "    global_hyperparameters,\n",
    "    recipes_hyperparameters,\n",
    "    5\n",
    ").run()\n"
   ]
  },
  {
   "cell_type": "code",
   "execution_count": 76,
   "metadata": {},
   "outputs": [
    {
     "name": "stdout",
     "output_type": "stream",
     "text": [
      "https://www.bbcgoodfood.com/recipes/espresso-martini\n",
      "utf-8\n"
     ]
    }
   ],
   "source": [
    "total_payload = []\n",
    "\n",
    "new_links = [\n",
    "    \"https://www.bbcgoodfood.com/recipes/espresso-martini\"\n",
    "]\n",
    "\n",
    "with open('newlabels.csv', 'w', newline='') as csvfile:\n",
    "    writer = csv.writer(csvfile, delimiter=',')\n",
    "    for link in new_links:\n",
    "        print(link)\n",
    "        try:\n",
    "            data = process_page(\n",
    "                link,\n",
    "                writer,\n",
    "                recipe_classifier,\n",
    "                recipe_corpus,\n",
    "                max_length,\n",
    "                padding_type,\n",
    "                trunc_type\n",
    "            )\n",
    "            this_recipe = ScraperResult(\n",
    "                link.split(\"/\")[-1],\n",
    "                list(map(lambda x: x[0], lasso_inward(data,4,6,1,7)[0])),\n",
    "                list(map(lambda x: x[0], lasso_inward(data,4,6,2,7)[0])),\n",
    "                list(map(lambda x: x[0], lasso_inward(data,4,6,3,7)[0])),\n",
    "                list(map(lambda x: x[0], lasso_inward(data,4,6,4,7)[0]))\n",
    "            )\n",
    "            this_payload = this_recipe.get_payload()\n",
    "            total_payload.append(this_recipe.get_payload())\n",
    "\n",
    "        except:\n",
    "            print(\"link \" + link + \" could not be opened\")\n",
    "\n",
    "\n"
   ]
  },
  {
   "cell_type": "code",
   "execution_count": 77,
   "metadata": {},
   "outputs": [
    {
     "ename": "NameError",
     "evalue": "name 'ingredient_cache' is not defined",
     "output_type": "error",
     "traceback": [
      "\u001b[0;31m---------------------------------------------------------------------------\u001b[0m",
      "\u001b[0;31mNameError\u001b[0m                                 Traceback (most recent call last)",
      "\u001b[0;32m<ipython-input-77-1a419553d2fc>\u001b[0m in \u001b[0;36m<module>\u001b[0;34m\u001b[0m\n\u001b[1;32m     12\u001b[0m     \u001b[0;32mfor\u001b[0m \u001b[0mi\u001b[0m \u001b[0;32min\u001b[0m \u001b[0mrange\u001b[0m\u001b[0;34m(\u001b[0m\u001b[0mlen\u001b[0m\u001b[0;34m(\u001b[0m\u001b[0mtotal_payload\u001b[0m\u001b[0;34m[\u001b[0m\u001b[0mj\u001b[0m\u001b[0;34m]\u001b[0m\u001b[0;34m[\u001b[0m\u001b[0;34m\"ingredients\"\u001b[0m\u001b[0;34m]\u001b[0m\u001b[0;34m)\u001b[0m\u001b[0;34m)\u001b[0m\u001b[0;34m:\u001b[0m\u001b[0;34m\u001b[0m\u001b[0;34m\u001b[0m\u001b[0m\n\u001b[1;32m     13\u001b[0m         \u001b[0mpred_id\u001b[0m \u001b[0;34m=\u001b[0m \u001b[0mnp\u001b[0m\u001b[0;34m.\u001b[0m\u001b[0margmax\u001b[0m\u001b[0;34m(\u001b[0m\u001b[0mpred\u001b[0m\u001b[0;34m[\u001b[0m\u001b[0mi\u001b[0m\u001b[0;34m]\u001b[0m\u001b[0;34m)\u001b[0m\u001b[0;34m\u001b[0m\u001b[0;34m\u001b[0m\u001b[0m\n\u001b[0;32m---> 14\u001b[0;31m         \u001b[0mmatched_ing\u001b[0m \u001b[0;34m=\u001b[0m \u001b[0mlist\u001b[0m\u001b[0;34m(\u001b[0m\u001b[0mfilter\u001b[0m\u001b[0;34m(\u001b[0m\u001b[0;32mlambda\u001b[0m \u001b[0mx\u001b[0m\u001b[0;34m:\u001b[0m \u001b[0mx\u001b[0m\u001b[0;34m[\u001b[0m\u001b[0;36m1\u001b[0m\u001b[0;34m]\u001b[0m \u001b[0;34m==\u001b[0m \u001b[0mpred_id\u001b[0m\u001b[0;34m,\u001b[0m\u001b[0mingredient_cache\u001b[0m\u001b[0;34m)\u001b[0m\u001b[0;34m)\u001b[0m\u001b[0;34m[\u001b[0m\u001b[0;36m0\u001b[0m\u001b[0;34m]\u001b[0m\u001b[0;34m\u001b[0m\u001b[0;34m\u001b[0m\u001b[0m\n\u001b[0m\u001b[1;32m     15\u001b[0m         \u001b[0mtotal_payload\u001b[0m\u001b[0;34m[\u001b[0m\u001b[0mj\u001b[0m\u001b[0;34m]\u001b[0m\u001b[0;34m[\u001b[0m\u001b[0;34m\"ingredients\"\u001b[0m\u001b[0;34m]\u001b[0m\u001b[0;34m[\u001b[0m\u001b[0mi\u001b[0m\u001b[0;34m]\u001b[0m \u001b[0;34m=\u001b[0m \u001b[0;34m[\u001b[0m\u001b[0mtotal_payload\u001b[0m\u001b[0;34m[\u001b[0m\u001b[0mj\u001b[0m\u001b[0;34m]\u001b[0m\u001b[0;34m[\u001b[0m\u001b[0;34m\"ingredients\"\u001b[0m\u001b[0;34m]\u001b[0m\u001b[0;34m[\u001b[0m\u001b[0mi\u001b[0m\u001b[0;34m]\u001b[0m\u001b[0;34m,\u001b[0m\u001b[0mmatched_ing\u001b[0m\u001b[0;34m[\u001b[0m\u001b[0;36m0\u001b[0m\u001b[0;34m]\u001b[0m\u001b[0;34m,\u001b[0m\u001b[0mpred_id\u001b[0m\u001b[0;34m]\u001b[0m\u001b[0;34m\u001b[0m\u001b[0;34m\u001b[0m\u001b[0m\n\u001b[1;32m     16\u001b[0m \u001b[0;34m\u001b[0m\u001b[0m\n",
      "\u001b[0;31mNameError\u001b[0m: name 'ingredient_cache' is not defined"
     ]
    }
   ],
   "source": [
    "tst_snt = total_payload[0][\"ingredients\"]\n",
    "tst_snt = ingredient_corpus.tokenizer.texts_to_sequences(tst_snt)\n",
    "tst_snt = pad_sequences(\n",
    "    tst_snt, \n",
    "    maxlen=max_length, \n",
    "    padding=padding_type, \n",
    "    truncating=trunc_type\n",
    ")\n",
    "pred = ingredient_classifier.model.predict(tst_snt)\n",
    "\n",
    "for j in range(len(total_payload)):\n",
    "    for i in range(len(total_payload[j][\"ingredients\"])):\n",
    "        pred_id = np.argmax(pred[i])\n",
    "        matched_ing = list(filter(lambda x: x[1] == pred_id,ingredient_cache))[0]\n",
    "        total_payload[j][\"ingredients\"][i] = [total_payload[j][\"ingredients\"][i],matched_ing[0],pred_id]\n",
    "\n",
    "    pprint(total_payload[j][\"ingredients\"])\n",
    "\n"
   ]
  },
  {
   "cell_type": "code",
   "execution_count": null,
   "metadata": {},
   "outputs": [],
   "source": [
    "from database.Query import Query\n",
    "ingredient_cache = Query(\"select singular_name, id from ingredient;\").get_data()"
   ]
  },
  {
   "cell_type": "code",
   "execution_count": null,
   "metadata": {},
   "outputs": [],
   "source": [
    "from scrapers.CocktailLinkScraper import CocktailLinkScraper\n",
    "cs = CocktailLinkScraper()\n",
    "\n",
    "ab = cs.alton_brown(\"scraper_working_data/ab-cocktails.html\")\n",
    "\n"
   ]
  },
  {
   "cell_type": "code",
   "execution_count": null,
   "metadata": {},
   "outputs": [],
   "source": [
    "print(ab)"
   ]
  },
  {
   "cell_type": "code",
   "execution_count": 62,
   "metadata": {},
   "outputs": [
    {
     "name": "stderr",
     "output_type": "stream",
     "text": [
      "Some characters could not be decoded, and were replaced with REPLACEMENT CHARACTER.\n"
     ]
    },
    {
     "name": "stdout",
     "output_type": "stream",
     "text": [
      "utf-8\n",
      "{'title': 'cocktails-manhattan-recipe.html', 'steps': [''], 'ingredients': [''], 'yield': [''], 'timing': ['']}\n"
     ]
    }
   ],
   "source": [
    "link = \"https://www.seriouseats.com/recipes/2008/01/cocktails-manhattan-recipe.html\"\n",
    "data = process_page(\n",
    "    link,\n",
    "    recipe_classifier,\n",
    "    recipe_corpus,\n",
    "    max_length,\n",
    "    padding_type,\n",
    "    trunc_type\n",
    ")\n",
    "\n",
    "this_recipe = ScraperResult(\n",
    "    link.split(\"/\")[-1],\n",
    "    list(map(lambda x: x[0], lasso_inward(data,4,6,1,7)[0])),\n",
    "    list(map(lambda x: x[0], lasso_inward(data,4,6,2,7)[0])),\n",
    "    list(map(lambda x: x[0], lasso_inward(data,4,6,3,7)[0])),\n",
    "    list(map(lambda x: x[0], lasso_inward(data,4,6,4,7)[0]))\n",
    ")\n",
    "#print(data)\n",
    "print(this_recipe.get_payload())"
   ]
  },
  {
   "cell_type": "code",
   "execution_count": 63,
   "metadata": {},
   "outputs": [
    {
     "name": "stdout",
     "output_type": "stream",
     "text": [
      "[['�\\x08\\x00�H�`\\x02���v�F���m\\x18dJ}\\x1a�1 u��\\x1a�/\\x16�V#c{N\\x03|X��յa\\x19�,9 Z.\\x16A\\x18�9��\\x1b,#jǑ9\\x0e��0\\x18�؍=:|m�3;�m� \\x06���v=��\\x05% �\\x11�H�C̓\\x1a/����F\\x07څK/�\\x11\\x05�K\\u05c9g\\x03�^�cj�\\x17���\\x1b��gDcۣ\\x03ˬ�.y�\\x7fNf!� 4$Hԯ�.//� µ�!\\x14�\\x1a��^�n��\\x02�ȘK� ^��Q�HH��6���w�A������Ǘn Ӱ?�CGA>Z��vx}��ᔞ�s[R��j���`�tV���,h\\x18_\\x0f�`�g 4 Tꬥ>�9۬C�q�.b 7�\\x15\\x08�3 Jƞ E�H��dn;�\\x00�3\\x12^S�D���䂆�`��a��@�\\x13��i)��h�w�^_\\x06�\\x13)�$�\\x11�\\x04� W>Ri���\\x13��\\\\e�k�\\x16��7\\x1bM#e/`��k�Ҏ�s�ՠX�ʲ\\x1am��b� �e�}\"Bw�o�$\\x133��\\x01f�c��\\x14�!�Y��g\\x02Z~�L�`��Q�N�}\\x05tqh`,B�ӿ_�\\x13��8�,C��\\x05�\\x07��� D\\x0e�yΣ�Q�%�\\x07֚�g\\x06�*����\\x07�\\x13�gtn�A 8�tQ\\x08Aa�7�����\\x194��hb�*�d �_\\x00^CxY� �\\x01\\x14� �k� *���,\\\\\\x18�\\x10��o�V^��� �О߱�5 L���\\x04\\x05Ú\\x18e 6Ȭ�)�h�lW�|�ؐ��?z���H\\x14_{4\\x12K^��s�\\x01 GQmʀ�s�7���ŠQ\\x07�a 5�b���@�i\\x1bl�pcx�c�� nO��\\x18gK��!\\x0e�?�������;����西XƯi< �C> wv���`���<7������\\x0f\\x17vH� �D ����8�n�� ŷ���֪��ɥ\\x00���hzl�\\x11��{Sǥ�UF\\x15�� x�� �\\\\ϩ��� d�xV���V��~� B�1�yE�ľ`KU ,�3�xʳ\\x0e�\\x7f\\x06\\x1a�x\\x19�\\x12���\\x17�֠9�`X�+��DA�)���`�\\x18�,\\x08]\\x00\\x07����\\x12���h�Y{ L��\\x0f��Ќ\\x00�\\x10�ڍ+�\\x7f�Hq�\\x0fA�\\x01�jl�R �}�� \\x12��UWrЖ��*æ\\x13.�[[O�о6 A�\\x03�\\x01\\x02~� Ak������C\\'���\\x15ZQ%W^�d\\x05M\\x07 � i?\\x01 �0 YA`�K�\\x1b �\\x1bU�Y\\x18\\\\\\x12�^�c��< ����a�F܈`I\\x12��\\x0fb��uv�����\\x0e\\x01�\\x00��L�\\x19T��%���1��`@wv,`wj����W�\\x17��\\x00�.A`�;�\\x0f\\x1aH ��B\\x17��}�E\\x16|��\\x11u� xT�䱣7�~��.L�J|� ���UR\\x7f��\\x13�.���� l`A����� K�6���\\x15�c��c��a 28 n�O�\\x08��\\x15cl��J�dd�� \\x03�w\\x0f�p�w =��!`sk?0)�R��Á���㶥\\x07�*.qh 5�� \\x02��)�\\'�U��)\\x060��Z\\x0f\\x00q�C�\\x0e�� k��\\x01�U����Ҡ� �b�� \\x10/1� �����Ҝ�\\x18ݫ˘:G� =�� �7 Z �\\x02��D�t��Ce��<���F�vjF��f� �*j 2��\\\\��4� �ƅ�#M\\x18 PP�N�\\x05/_~�\\x12� �T���>_��+\\x17\\x03m鋥5])�f 6�p�\\x00���\\x03\\x08�>JY �\\x00{Z��r�k`\\x19\\x07�\\x15�X\\x154�� �3 h��cl\\x04\\x16������q��e\\x14Vb�\\x08$v�Y�Wl�ǉ�]�*̟�_�\\x12�V� �/�\\x10\\x16x��\\'˽R �{@tV �T��\\x02�+Ѫ��#6&\\x13\\x170\\x07���`��k�|T\\x14m>�h\\x13���+< pT�/|L� 0��T\\x1b���8 Z 3 s��fB�a�B���\\x14\\x18�@�\\x0f��}M�izN �q\\x06�8� �ypAa�T����o\\x0ee���\\x15.��A��N\\x07y�\\x07b�d� 9��2��|Dqy� 7 Zx�5��\\'}\\x0e���ǬD�,R�\\x06q ̓ �*�^!K� |\\x11����,�`o:X l��d�����溰����e\\x15&�Ƥ�1��nl�V/�E�:𩚔���c\\x01,�٩�/\\'.�R�\\x08�Dr�q��� �I��#%�\\x14j�$�����$�\\uf5a5�M����+\\x15��ٕ�fi+Ǝ��TL!�\\x16�;wc�\"�\\x18bN�G\\x19\\x15�\\x18��w��bΣ,O\\x05�� z�����~#���\\\\d�*\\x07�4_�rcP��eW���Ǘ5 F̓�ʱ&c��\\x1a��8�\\x0e�%�m k�G�ks��=��\\'���9 hV�\\x0fѥ+T�� Q tQI�S�\\x02)�\\x12\\x0e\\x15��D�) \"�\\x7fY!.�X)&]��$�$�f/�@\\x13\\x12D��_uK��]R�.��\\x12\\x1bB���\\x0e�hL����p�ʭ�:', 0.9999995, 2.6684978e-07, 1.6377285e-08, 6.9662526e-08, 6.954105e-08, 0, 0, 'https://www.seriouseats.com/recipes/2008/01/cocktails-manhattan-recipe.html'], ['��En:���kF�UGT�b�4\\x14�ijܹ�I�*�\\x02F\\x19� � 09�S�� ��W�St\\x110��\\x03#� ��L�\\x16!h ۰���xS 0 e�\\x04ԪU�e ��\\x0eK�\\x1b��=�Y�\\x19���������v|R?\\x15��\\x07� �V�c� ̤c�>zTE����&T���Cj�n\\x05k\\x17Qa襸��mw f 0 u�\\x01�Ru�1�z�\\x02�$�9�ݓ8 iu����d>dF 2\\x19�@��|� k\\x18\\x18��KX��/Gd���j�_\\x11)��S�� �uN', 0.99999416, 1.3146678e-06, 7.101136e-07, 1.2905278e-06, 2.5445042e-06, 0, 1, 'https://www.seriouseats.com/recipes/2008/01/cocktails-manhattan-recipe.html'], ['\\x0f�OS\\x0e� \\x07�\\x01���L�Xȴ ����\\x01�.�|�p� �5 C\"�\\u038d\\x03�O���3�K\\x02p��?��\\x11�d�kl 8 K\\x0f�,�5�\\x15�&F���\\x03���ɥ�:�\\x06vuU�\\x14\\x02O\\x18�U��ٲ� ��G\\x05%�w�2�R�9 f#ʪ�\\x19��|ACt��\"`ɔ\\x15x���u����z���4�\\\\ !��V 57 J���O��n+��\\x10�|���)��a\\x16�R?`ҵ��\\x15�rԋf�\\\\��pc\"���O�ȇ\\x11� ;^k �n ��xG �1�/ � _U� �2��Cj�\\x16[���̍��FZ�ﯔ�B�Z�7�n�\\x17iY�v�q#Xx|�9\\x02\"Ҁ�� ��\\x17wp�:�!qɔ��)\\x01\\x02 \\x14<Ǘ���aA]\\x16a�&\\x11�\\u07b5��\\x024 s��\\x1a��*G�3�sF��kf����\\x02Hju���L �+�ߢG��9�\\x17�b����\\x18�\\x7fs~�̈́�������?U����D�P�y�K&}�`�t 1 Zб;�m H\\\\�i�E\\x18�\\x012 z̅\\x01\\uf708�P|��Ă�X¸��I�\\x14e�T� g�\\x7f>~DED��\\x01�Iޛ��d�\\x16��U���Y!J�z�)���5�L c�� \\x7f\\\\Z\\x07��ٻ�AV��\\x04�ҕ�@��|\\x13\\x08��t+S=����0�/]l`�\\x7f��;�ez��\\x13�e�\\x00�$_�\\x0eK ���K\\x1at� �~\\x7f��?5 �|ú\\uf6bc\\x7f�\\x1a��`�QNiƤ\\x06�5\\x05�\\x05�=�Q\\x7f �}O�\\x00��S>4�M�b�t�h�����77Ė:\\x15 \\x0f\\u4dbb�����i���I!�F�|V�B� ��� �}\\x03#�h�0]W\\x18\\x19���8 s)�x�2����%�^� � \\x07�\\x12\"�9\\x04���G� ��\\x03� $!����R��A�\\x01���1 t�tb�@ɮЃ\\x12cܯ\\x10�)Fʴ�x 6 ��c`�`\\x19���n�*j��\\x00 ��\\x0f(H 1����R�W��T�, �mL�\\x05#��_D�h\\x14u�^+������N� ��dC 4�|��R�?�E�\\x11_+WU�}\\x00�jDSb�]��\\x02�}H�+�=� Qߏ�I\\x15V c���r\\x18q F\\x17����ZѠ�#t��\\x18\\x05�`�w\\\\�H��ފ�Cc �N\\x10S��0�\\'��>��^ Y��&\\x18���\\x07J��P�*B%�ځ���Λhpj���/�\\x02�Q:\\x12eNU 9 P��t :����̧�.?O�{���}\\x17th�� \\x05K\\x00��6 v\\x1a��(P �,��\\x0e#O\\x10ŏ�O�%�\\x0eS � /� �U�٧�\\x18 ?h���z\\x04;\\x7f \\x00;��\\u07be�y�F�p��� �G�;�\\x7f��cv���<�[o 5 z�0{ \\\\=�(����s���sD\\x06�2>~$�\\x18���,�/Se ��H�\\x06�ҰJ\\x06��N\\x01', 0.9999982, 1.4232736e-06, 3.7729433e-09, 1.2781932e-07, 2.2503443e-07, 0, 2, 'https://www.seriouseats.com/recipes/2008/01/cocktails-manhattan-recipe.html'], ['\"VU^�\\x0es�RO�Q\\x04U��F\\x15PkX\\x13��\\x04,@ JgZ��y��B��K_\\x15A\"\\x13\\x13� s�d���s<���d���U�uA�\\x10��\\x05�L���0ԕ&\\x13��sԫ4�Uym@�x��j�a\\x11\\x05rw\\x05\\x14\\x0f��~�&�p��\\x06���k�Qrz�� l\\x07�b���i� �H 6���l 9 b� Cfc��0 X.j)���2�\\x12�f� �AB���3 O\\'/Dq�#�ׁBc\\x13ʾ~yLPE�#j� j�� �����3[\\x14��8�S�C 8 r[����A\\x03��?_\\x14��\\x01Ȏ�b���FO�\\x1bV�\\x11�y��=\\x03߾p�v �;;Z /�gҾ��_]m�� g�$%ĭ�|$\\x04��\\x04\\x12�I�\\x10V��� �x��\\'�|��^\\x15�\\x19lW��Yn��\\x08�BZE^\\x0f�ׂ\\\\6�z\\x18�,�^�.����ߪ�s�� ��\\x03P���C`����/��\\x12\\x18�\\x04��\\x1aԵ�ڄ���! � ��p\\x07��\\x10\\x08{g������7�<�\"�K S;\\x04�~N�0���e�\\x0e\\x13\\x1a��Z\\x15��P�zhRQ �Xx O�Wvq%8�A�~��>��v��]�%�@\\x11�U\\x07i� �р��> lDٮo�2\\x10,�G:��y�\\x04��8}��f���\\x01~\\x07��s �#� \\x10�� >qN��1 h�З�\\x11K�\\x04�,\\x15�Yl����V$~��R���7����˗�镓���>�֪:L`��:\\x05Y? 8 t K�/�^�� � ,�6� ��x�8�\\x1a�V \\x8a$`\\x04\\x00��q{�/\\x18t>\\x02!��l�\\x0f�\\x7f�\\x07c\\x11�\\x11HY��\\x1b��ʌ\\x03\\x06��Ҵ�� dl�*Đ�,�|�`�4��D\\xad\\x17����̇\"�\\x122�{B ���� �\\x11��\\x03�a�����Ou�&N 9�\\x12� ��099�[%��\\x08�S���Y�ҕ=J�w(mX�3\\x17 ���l�+v�\\x05�\\x0ey� \\x12�ļ�%��d�S�Q�%ꝃ�N��\\x0e\\x08\\x00�?�t[�|� B�J��2��9�.�H\\x17``1\\x18D�J 2��}ĆR:YNY\\x14���ׯ~�5� ����\\x15\\x03\\x1aޠw\\x18R\\x07j��\\x17��� �a��+ڏϏ5��AC��>\\x02�g��v}\\x01� C\\x17�e 2�,@ +++ג\\x18U���N\\x05u\\x14Uؕ�� gF�\\x11#��%', 0.999998, 1.9986333e-06, 4.923649e-10, 3.140231e-08, 4.0712527e-09, 0, 3, 'https://www.seriouseats.com/recipes/2008/01/cocktails-manhattan-recipe.html'], ['\\x10dk�A� ��*��}\\x12�>\\x05Evk 5�\"\\x05�kP �\\x12� q�_�\\x07��l�\\x00di��q 4��]�[��:����E 8�\\x15\\x02����\\x18��\\x19�K�O*N�ٷ�n�]\\\\b�˰�\\x10\\ued72B�� l\\x11tfU��6$ ����l��ga�����J���q�� /�dw�\\x0e2 W@���Q��� �\\x0e0 � �� ^�SQ�\\x13���5 H �\\x7fU� %?�L��\\\\E 8�4�.X��\\x03z�ը�\\x7fU 4 Wӓۖ@=�PPT��N�\\x14��r�l 90���0�\\\\�\\x0f+���������\"7\\x17�o�p��S�O�y\\x11�O�\\\\)�E�y�ӵ�\\x02Az�*�Jx\\x17���b�u��еZmlڌ�\\x06 �ݔ�[i�W 0�Xu ���RG��Q�R�K���\\x14�$\\x17k\\x001 uH�I�+2 I 4�s\\x07�fߡ �[*ೈ>Qݜ�]�� �\\x1ay �x�z��M��B� C 5�c�蟚�u ɔL�\\x00f&��\\x01�I����\\x0e�W��b��+ \\'\\x02ӕb���2�{� ��z&��&�]1 yw�̕���ր��[:��Μ ��\\x00\\x18���\\x12�r���ɭ��\\x18^�� ��8͋�9�� �\"�tS 8� ��\\x1a 5\\x1b�=kc�9\\x04+ԧޚ���n��� 9�h� �Ú6�\\x06�zI\\x07�&E��˳�ɹ��M�\\x01���,|�?\\x05s��\\x1b/\\x13� ����L��ɇ��\\'� ��/6:�Qq���\\x14��Ͷ�~L\\\\��lV�\\x17Z�$����1��Ѝ\\x7f�\\x02�\\x0e\\x06�F 5��\\x00;����~�W�\\x02�.�H ���:��;t�\\x08#>���X\\x01#�\\x052 u��$\\x7f��{���mY�O� ���ċˠ�7α��\\x05X\\x08��,���n\\x04�a��A��\\x02/�} ��e�QR� �;\\x14�e�H\\x08F�Jdj�vC�wl\\x18AX�Jk�y 㜗����=wɓ� JN&Ə�}]\\x06��R� KM�T\\x06�[{�C/7�\\x19\",���+ � �l��\\x0e��ڍ0טcn��, G ���*�5 ���fk���lXUB\\x10le�X��`�����', 0.9999062, 8.3338535e-05, 3.428091e-06, 5.2584296e-06, 1.8072301e-06, 0, 4, 'https://www.seriouseats.com/recipes/2008/01/cocktails-manhattan-recipe.html'], ['����t�\\x08n=݂�v n{ �&\\x16\\x08\\x04��p���i�JF[~D�\\x1a+��h������aE��\\x02W���\\x05�, �߉ G\\x04���@>t/�p�$�v��=h�R\\x19a�\\\\G\\x11�\\x05\\x19a\"\\x03Vn!�R�\\x14��\\\\\\x0e\\\\I�%��)�`�\\x15�&aA&�p\\x0fğf$KR`��> �&Yt���$s� ��Bq 9���d\\'�*��~\\x17{�u�RzU�)Z�\"ӂ\\x10����M����\\x08\\x10�k\\x11��C�/����\\x02�w \\x10�����} ������=\\x03�h U\\x13�.A�\\x08}�U\\x13� X�&�\\x0f����Tb 1\\x10�B ��\\x17��X\\x01���V \\x06h\\x03wU}��)�\\x06�/�kl\\x15fIY�d�y��Jf�ݣW� �\\x15��7�}�>�>��� ��G��,�Y\\x15�\\x0eʖ�S�^�DY�Rw�V.�\\x04xbA�8ӂ �wsʦ\\x14� �\\x0ev��) \\x1aK 8�E���S�r� \\x12V 7\"6��S���\\x01��������B����*]�&~\\x12 �>�\\x130�cUp��r�Pn��}s�~s�~s��\\x07;Gӳ�\\\\,� �� �3�щ���S \\\\�}Ϯ[�.�DĈ�ed��\\'jV�)*��hs\\x00�A��B��\\x15LF�\\x12���\\x01D�n���\\x15W�;��\\x0e�\\x12C�\"\\x7f\\x04bd�$��>)� S����r� �! 6�c�����=Uu�$� 眧U', 0.9996774, 1.4322385e-05, 0.000276408, 3.0421343e-05, 1.5160259e-06, 0, 5, 'https://www.seriouseats.com/recipes/2008/01/cocktails-manhattan-recipe.html'], ['\"�\\x18�ᛖ�:\\x13B�)�[R{(\\x12\\x12?�\\x05�\\x04~���T�\"�Zf\\x04X�\\x18z �\\x02\\x049��q�簾Q}\\x14Ŕ�\\x19��\\x03(O�_Bu�Z�\\x152��\\x11~\\x0e�\\x19�(���a[��??\\x061 qc \\x03!��h[\\x13� E t\"���SY%���\\x06z~*�9 J�|�\\x17\\x1a2 jf\\x19ǁ\\x7f�\\x16I��\\x11{��\\x167�e\"�S��ȝl \\x02���x�b\\x18� Vv 1��\\x02s #J��', 0.98865706, 6.1181463e-06, 0.011323794, 1.2333163e-05, 5.410293e-07, 0, 6, 'https://www.seriouseats.com/recipes/2008/01/cocktails-manhattan-recipe.html'], [\"$���%\\x13�8\\x02'r*Fک ?\\x17����\\x19X\\x17P 0��Fi�U%?�X z���~��wxr\\x02���\\x18q�TdC\\x07��8�I氤�j 5��q؏@xTp \\x15l\\x7fw�|���k &� �y\\x19��\\x16[\\x00n�)#\\x1a �M~M�\\x1bع\\x15�ӄqn �\\x12n�wt��jQ�~cF�\\x14:F�|[��;^�V�mTa�j����j��*����ǿ�x�\\x13��Ϻ�{����~������;������� rY�sZ��S�\\x03�ħ9\\x07I��]\\x10������\\\\�\\x13�g�?�'�\\x05���'Ls�N\\x15�\\x1aK\\x15���i�G��u�E�\\x0eǳd�\\x01ɞ��G�Y�$\\x13�;�= D�T 0\\x1au m\\x02w\\x18�\\x00��M 0��J�S.yo 0�f��0 R�\\x97'(�g� �9 Oj��jQɈ���\", 0.99718624, 0.0005328017, 0.0019293267, 0.00028574155, 6.5856e-05, 0, 7, 'https://www.seriouseats.com/recipes/2008/01/cocktails-manhattan-recipe.html'], ['JȪم\\x11\\x03�U\\x01�䚠���,8�]�\\x05�uE�aF�Q\\x04�b]oUK�>s@lv[ݶ�\\x12�j��\\x04�}�9 m�ɪ�\\x19��}� ��Y��JW\"N\\ued56њ:�vwP�\\x12!�p��Sf��3��:�K\\x13e 1�g�\\x03�E\\x146�i�\\x06V�4 e\\x0e��B��_��}E\\x13�#��N���wId�p]kY��h��\\x02\\x18 �:\\x08� ɵ\\x15j?0��\\x18\\x06A� J�E�.We�>\\x0e� �fH\\x11�ș,\\x11f �*\\x01Kp\\x0fM���}QR 2� ���R�r)����*�b�V�+�mM�\\x10�N]I�|q 0�zҍ$\\x07��U\\x15� �\\u05cb*�}ѿ]t�\\x12e�3���]�\\x07�\\x7fNl��� %\\x13U =\\x10)�\\x03Ut�u�y 0�ҹtR%{\\x11�\\x1b�\\x1bi \\x04v\\x11i><8 Q 93��u 6�P�ﭸ�9��[\\x1b�1�O`\\x01Z�;�r;D�\\x19\\x04溃\\x19�6�d���R��3?\\x14�8��`�|���N��ŭ�K\\x1a��I\\x04\"��7 T�\\x12bG���ៜ/�\\x12_�P\\x14�� \\x05�m�`Z)4�P�\\x04~��S#� �|\\x05T 4�}#\\x06NS��\\x08>�H 3\\x07\\x1a�q�t�d\\'C \\x07�7�\\x16e�M��f� \\x05�X�4)�q\\x03Q��\\x05����`�o���DL\\x03�c�ݮ&��\\x7f\\x02���˓W\\x19j���� ��\\'�!�� �Y\\x0f\\x15�R ���\\x12Jg`h\\x05\\x18�UM�����\\x013�\\x7f�%\\x07V�/rg�J!��gl��<����Hv e���Q�x�`P������ Q��Ӧ�!���?\\x7fR�E����~kf�՛U_��|\\x17� �ܘΣ�\\x05 �P��l *�!��:SzF� �}+�+�z�\\x02�L\\x01�3�ߙ�]��Q��G ��f 7����8�k�2\\\\ ��u?��\\x16\\x15�ؗ�Yԓ�~2�*���~I���~�v�ʕ� ���i��\\x02��S 4 9\\x16', 0.948764, 0.00014987329, 0.050778326, 0.00029349278, 1.4266905e-05, 0, 8, 'https://www.seriouseats.com/recipes/2008/01/cocktails-manhattan-recipe.html'], ['�\\x13v�\\x13:T�n �S��?ٳ\\x14 6 TZ�줁A�*�\\x07�E��@ =r��m�\\x15?�:�9_��\\\\WUq�Ռ�MR�!#\\x07� Vs���g|w �������\\x05\\x1b�\\x19���\\x0e\\\\���s ����\\x19f\\x16\"�ό�`�����5\\x02%}n�M���\\x14C�X�)^A 7\\x0e��\\x18�\\x16@!�)�s }�q�X�Y��P��K��e�\\x1a��\\x03�\\x19e}b岰���2�\\x08 ����W�$�P���2.�ݺ\\x02��U��?�b���� !�7�.L��|��j�\\x06V[[�K��?����J�Z ,�qT�S�[O�ץ�\\x7f@b 6�\\x181 k�梵4}�&�\\x0fH�֗�jM�,j }\\x0f�\\x17�\\x03����H\\\\Kn�ZG�_�\\x15� �>U ��z{���S 2]f�l��� ��\\x14�$��ed\"i�k۟��x��Әd+����� ﯀*xq�Q��f�ز��z��P �\\x0e ��cQ��\\x19���h ����n�e%e)�?�\\x12\\x14����z^\\x17�\\x0f�y\\x10�ҷ�ٷo&D : �����^���� c!�U�|\\x02��\\x0fJ�l*\\x19�\\x13�m܅\\x0fY��� ���[��l 4��\\x19 v\\x14�`gq@�\\x14�d��o}�&����F��%���W�N�K 4\\x05��W��e��i��Z�ޗh���j�S�q*�ҞNC:�9���\\x00��z 5��x�2 W*Q��>\\x0f��\\x15+��gq�\\x08fY�aq�T� \\x02�i\\x10^gf���\\x19Dy�\\x7f����zn���� ��O\\x14|�\\x03ƎKy� �\\x16\\x01|�P 1��$\\x15�ZC�G���� � ��� x\"�ğ�Ѷ m 2 rc�� ��h�>�%�K�D� ���\\x03�\\x02 ѱP�\\x05��F��70��}P��Spy �49\\'�R��F;�\\x18����Vg�I G�\\x12 @<��+�3���\"�y *�\\x18�15�Q�!U~ � D�CQ�E 3 .���\\x1b��Ğ�\\x1b?q� �L F�\\x0e��\\x186�#�5��� Ϙ���T�S\"7\\x19�`ђg��\\x02 0 B���ơ ���] I�+0�;)\\x12�3 j���\\x10wξ�\\x12S�\\x1a��N\\x00 ���ҳ�@F<ܪ.[b�P�\\x0f&�Ԗ���>\\x18 � ì�L���h���\\x00�FAp^�^X�1\\x1b ƗllY�?+\\x05�l�_՞�]c�c\\x19��\\x11�\\x18��=H\\x05I\\x14��9 OŃG� {�̍� �\\x1bW� $\\x13� ��\\x02K�\\'� �\\x18������[��~���Q�$`������\\x1b!ی��E��\\u070eb�=.I�e�e 4�2闉ۃ�(`` #F�o��\\x05f�%~o���l���Ӊ�U���A �\\x1a\\x12x\\x98 �\\x13 ���\\x03�1Ħ�', 0.99997795, 3.0968931e-06, 3.1901354e-08, 1.8645833e-05, 3.6102685e-07, 0, 9, 'https://www.seriouseats.com/recipes/2008/01/cocktails-manhattan-recipe.html'], ['~<9��\\x07q���4���\"���\\x16�g?c���A\\x0f<�T���B��{ ������`�\\x05��g}�� \\x7fkzT� o�m\\x0fv�q�}��� v y������\\x1ai�|�.��ڽ�� ���#����O��*�^���\\x03��u��&w]�I�MGiW���q\\x05^\\x1b��3�7���Xp\\x03\"\\x17����\\\\\\x1bc ������ �]\\x11�� \\x05%\\x14�cח�\\x02;t�\\x19B���ւ�� ;J��PPF[Fl�d�Y��\\x16�g� f�.kC�T\\x10��\\x11 �\\x02�3\\x1a�j@IJL�5�R����� \"j\\\\a\\x14 ;+4и��UZ�\\x10��� 8 b 3�� Q�]L%\\x0f,\\x02��5 Xn�\\'�\\x17\\x08��~\\x1a\\\\ v�N� �\\x07�5 e��@�Q �n��K.�\\x19�]���@\\x02�\\x01j���AX��\\x08O 1\\x03�\\x02��Q��&V\\x07�U 5 r=ЬV\"�� �H�\\x05���@kh�\"�hl{�bXx�.�Y\\'`\\x17��F��pkS�t�b \\x13P�/��`Ư�\\x174\\'�\\u0558�;S�#k\\x06�<h%�r|\\x0e@\\x03��\\x08׀�1�:b?�\\x17gg�\\x00D 5\\x04', 0.99999857, 4.076333e-07, 2.3538475e-07, 6.9399715e-07, 6.923012e-08, 0, 10, 'https://www.seriouseats.com/recipes/2008/01/cocktails-manhattan-recipe.html'], ['ȶ��\\x11{�PO��_F%8�\\x07E\\x0ek�\\x1a\\x7f6��\\x18\\uf714�� �B\\x14z\\x1a9 L�6/�k�Z\"\\x0e\\x0e���z��9�+��g�u 3]{\\u074c��2 �,��A\\x17�c� ��s��K����H\\x0e ��H̀ ��Ϧ\\x10ĸ�M��` 1�dC�}&�*A�sjTͯ�Q .�x\\x19�o��7 e�2���L�������Y�\\x05P#\\x07Tn\"nfU��O��1 f@ vNc#xg@\\x0e_�\\x1b���m\\x12�h�R\\x7f\\\\�u{o�%H��\\x11\\x7f�\\x10� v��� �¿�\\x14��\\x0eߊ\\x04�%l\\x08�8�/�g 8��νl\\x06� ��1{\\'�������\\x15l��\\x12 �J��&Y���%,�\\x1b�� L��/��Ў�1�׆�将G��O\\x7f� z�Iq�\\x08\\x7fN������g�!˿\\x0f�Mu���~S]��TW����(��A�\\x07�p\\x0e�\\x10��O��\\x03e��o', 0.99989593, 3.7799712e-06, 1.4031886e-05, 7.183719e-05, 1.4343096e-05, 0, 11, 'https://www.seriouseats.com/recipes/2008/01/cocktails-manhattan-recipe.html'], ['9��ĭr�\\x03�e�h���o��g�J��1\\x0e�m\\x06��zZo 3]�\\x1aG�6�7_���f��\\x05\\x0f�m\\x06�~B������ ���9��99�u\\x0e�= �\\x7f�Sy 7 k�\")��$���8�w���\\x07�3\\x12ڽN�m@��c Bz`\\x17�� �\\x07��Ŏ =\\x10�/\\x7f�衄��\\x07� ��é�{ �4�� ��\\x13F�@\\U0005c03b�!�/\"����Y<�\\x07_���C��:\\', �\\'_�xŃ��Y�V<\\x14��x�\\u2068�[���\\u05ca�D����=�� �^Hh�:��EV�� D�@��|\\x04�&\\x10����\\x0fD�+Ǝ?\\x10�\\x158�P�\\x7f���M��\\x0e\\x19\\x7f Ο5^�a��;\\x04��k 9��:�\\x08 ��H�\\x07.�\\x02�}�ο�r�e\\x02c ��珊}\\x18~_6$�a�~�x؇��\\x05�a ��\\x17��} �_6 �a�~�\\x18؇a�U\\x02` ��A��m A�\\x10�h�d�i\\x11\\\\vS�, 3� �Ţ\\x180[~��u� \\x11 [���]�t��꒐�/ J\\x1b� ����,���P��cu��\\x17n�V\\x121��Y:\\x00�f\\x1a��QK�:\\\\\\x1bj��ϝ�\\x01�c��\\x0e�\\x16���\\x01~�E\"��|�\\x04��$�^@)�H\\x16�iڋOY\\x10 J 3Ц\\x18�\\x12��r 4 wc�ő\\x14�\\x11KO>��Ud\\x00��\\x16`� l ���,�gg�\\x12c���\\' \\x04��8�����x\\x12 �3���\\\\�o��a쎙�5 k�ˡ', 0.98264205, 1.1707925e-05, 0.016890537, 0.00044980712, 5.8291525e-06, 0, 12, 'https://www.seriouseats.com/recipes/2008/01/cocktails-manhattan-recipe.html'], ['UG�=��\\x13+Fݬ��t\"������nZf��m��s�l��{�\\x0e��Ƴ�m�cAr J�:V�G\\x0e��^��n��tk��Z���^�4�f��kB�nu�V�ޭ��� ���NP˔��٫w� �G\\x1a\\x16T�5\\x1a�= �\\x04�; l��:��ôR&]yV��\\x02\\x015)m��BO_\\x15R�Y<�� XO ��]$� �Ha\\x05[� \" #ZN�4\\x12\\x11�\\x19�� �\\x135��\\x00}\\x1b,� ���4�2�ΚY�K�\\x13\\x103�$!�� �^^���[ ��!\\x1b̘)�a�jމ̞\\x04\\x16�vC��6�� q��@|�|�[��rE\\x13�6��A�s���\\x1b����\\x1b����\\x1b����\\x1b����\\x1b����\\x1b��Ht:� ��Y�G�=��\\x17�E\\x10\\x02�6 m�~ c�C\\x1aa\\u05cc�� ��� ��\\x07��\\x18g ����`���u�Y�ϳ��l 0� ���1�Dܿ\\x04!��/I[\\x11*\\\\�#��k�%����q�#P�0\\x08�( \\x15>��S\\x1a�#����c��(��i��r*}S/��^���Ed�� Qo��%���\\x04\\x05w������T�G��K� \\u0530U�z\\x10�Cw\\x11����C��� \\'3 n(=�Ȁ8�x��L��� �ǧ�/��n��[�/\\x07¶K\\x19�\\x12�濖4��\\x01\\x07�\\x04ae�m��\\x05u���O�\\x0e\\u061d���ۖk� �������\"�ƚ�,}��O\\x14&��\\x0fb��Zc�� \\x04�\\x19�9�Q��x� *;@�(p��X�ë`|nR g��$�R\\x02U���?�W�g<�� �� c�aQ\\x19�\\x02E�\\x04 wB*98Я', 0.99938524, 0.00017099429, 0.00031135103, 0.00012225342, 1.02927615e-05, 0, 13, 'https://www.seriouseats.com/recipes/2008/01/cocktails-manhattan-recipe.html'], ['Y\\x11� J�W�5 ��2�U>$\\x13�M�X�\\x13mj?g�z��\\x04\\x11��nVD�*�x�\\x05�abF���\\x11�x\\x0e JYe\\x10 /Q�$@&�\\x17Q��\\x12DX\\x15�8���\\x0e45\\x17!��3:�AC�$t�f>�\"�*�Q&�e\\x01B���bcෘ0���K��\\x13\\x7f7�fX���\\x06˸R���P�읺�Ay]����)��T_�Q�Kp�R\\x16Z\\x17����\\x7f Kġ;�TU�X+Mo��Y��W:3�\\x12q$\\x1bŹ.ʢ����Ӄ�\\\\��H��������}\\x02\\'��L 4 Q�PF�\\x0f@\\x0f�m�\\\\��L�Ob�Z � A\\x11��Fi��,��6�T\\\\ms�\\x7fb��\\\\�q�HS��!�E�\\x13�D�\\x15�N�Ǐ�.�S�F��\\x18����1�)\\x04�E���X�8 \\x13�wc*:\\x08�d� [�&���\\x06\\x06�R ����Svfa �G�O g \\x08`��yJ\\x12Nb��;\\x1a/C?\"���3�\\x04��$��\\x1a�q/Lq]�1�]��?�v\\x12\\x00 ��T���![`<��kjU\\x13K�J 34�\\x125\"�#\\x00E�%LT��+�\\x10`�V�[XY 0 ML����E��G�/� �\\x14� K\\x00�= ��C�[p\\x1bv� o&\\x130\\x16��PY 0�\\x0e*K`\\x03Ikf��\\x03�� � \\x02GW�\\x06��n\\x15غ^�\\x18�\\x19b&p��\\x12!\\x1b4�G*�d��!�%\\x00���B�~s��#\\x15�L�/Ȑ|�r�ɑߴa������]]Ef�z�4ǵ\\x07�OV�tʏ��z*��\\x05��[�Rx:\\x07�DF��\\x01��\\x1aH\\x10X��u�L�%�\\x0f�\\x0ekKߡ0 p�ѐ�\\x02��3\\x19\\x0eo\\x05�e�8`�t\\x0f!a\\x07��s��d�NA�Lu��\\x12��A�H��:��DN��U��^Ht�8ǩ餴�y�K�\\x04]��r 2��\\x0e��� Z�\\x02\\x1bO�F�`g�V=�눹\\x0e����+D�9\\x12x�\\x16hT �\\x0e��W%#;�ʖ\\x15v+A���\\x188\\u0557�EĎ�V�?\\x11h���\\x18���\\x10\\x1a�\\x12&�\\x16� yD\\x124��xf\\x08��`�b���', 0.99987996, 9.597061e-05, 5.223495e-06, 1.5469932e-05, 3.3605374e-06, 0, 14, 'https://www.seriouseats.com/recipes/2008/01/cocktails-manhattan-recipe.html'], ['6��d�X ��%\\x17� �\\x05C�\\x1a� �6 sd&��\\x16U%Ȟ���q�f�8\\\\�G\\x02�\\x12x��,|\\x0fo�cϊ!*\\U000984a9�\\x06L#9�����I 0\\x05A&�@5�~���w�;@���\\x15\\x00?�_�!�ڨ��{�[Hb�X 1ΪC; `�\\x16&\\x03O[]� o��6 p��\\x19�٪]�#�� ]��f\\x03Qj�5��f\\x13\\x00�ۓ,``�\\x01`�&�V�j\\x007���SM X\\x16O)\\x01R{0� ���:�驉�i�a�t��m HW\\x07\\x124{��0��M>>�N�\\x01S\\x0fR��.�\\x18\\x0e&P��F��.�Lƫ�p�V �\\x00@@?��z\\x17x �\\x04���i\\x03,S�I�h\\x00�Y��^��c]�� \\\\md�V�ف^��w��j�h�IVE�{%�X\\x0f�e�\\x16̂6 t�U 9 c���\\x1a�1^� �F���J��\\u074b\\x17�\\x0e��ˮ�S�J\\ue3da� ��x�\\'����.U >emfP�B���9\\x15JI*]t���t�F��\\x03)ܵ������ ���\\x13\\x11�@� �|}ǻ&\\x7f�a���Y��攖\\'Ͷ ��q��E�&1 �\\x10[Ty��`!1@� \\x06\\\\\\x18�Q�N&:��A\\x00k��g\\x11�\\x13\"�\\x13,�悆�\\x00�jܯ\\x14\\x17��c,��\\x0e$�q\\x132�M�oQf��ڳ��h 8\\x06\\x10=�IQH\\x05ٌCy�[�FA�8��% +ʷ�� ��e 4 A\\x07�/ �\\x0f�ab�#\\x05{\\x075,�\\x19�L#��;q���\\x15\\x06�����҆��Qo\\x1a�\\x06�?�T��\\x04S ͔zb��&�t\\x19&�@�݂[H�b\\x16�\\x01\\x10\\x19,g�C\\x032�Ѹa 3 r�N�=�\\x15�\\x05���0+��\\x03�]�W�d��h 5�Ugۉ�q�]���0�=D� ېwv�\\x04��\\x04�ٙ`F]� ^S]rer��.n��S� �gR�\\x10\\x017:w\\x17�=�\\x7f\\x0f\\x12AT�)��\\x1a)ĉ�A��|{���ޤ�;\\x0754 �M���>\\x10eV�Vo�_���H��\\x05�F��#�\\\\�lP�~\\x05kS�|�Ho.gL�a�\\x11: >#\\x02�,A$.u�9� Z�U��\\x12f��n �ƫv��Z����Z�Ѿjuz�5 x�̭5�a�u�\\x1a<_j��⛶�Sׄ \\x183�ԖS����\\x1b��r�H\\x19\\x7f�R�sG�4�� t\\x18TL�6 e������F\\x11R��{ї{�S���3�GMૂ\\x1a\\x00�\\\\�^*��\\x00?\\x12 �s;����j�Ҡ⑫ \\x18�/ ��2��b��8 k��\\x15���� \\x07��/ �*`�.]P 8 P���� �\\x0fv�+d��M�P\\x04�cL�C\\x11`�;\\x19}p��s� ��\\x03���{�j�Y�3\\\\��\\x18\\x18$ێH� ��ha��\\x12� �P�[�3��Z#@]\\'�о�� �?\\x02��X\\'s�\\x04\\x12�@\\\\\\x160͕7�=r\\x17 <6 e�w�F���8 Q�tVd����\\x00 ��\\'J��s�Rh�{���\\x0e}�}X��\\x02�\\x02�2���=7�&c\\x18 P���Fx�t� c����\\x15տ��\\x10ٺ���I\\x0fl��M�]w���> ̏\\\\��a���fGc\\x10f\\x01\\x17\\\\�{����jyBq�P�$�� al��Jb\\x11�~_\\x05�t�j�������\\x1a�0\\x18S\\x07T\\x02 /~!�كi�`�.k��\\x1b��\\x12va 5��0 M��We�~\\x04��X��]�MfX�@�Ը��b�\\x18G\\x10\\x0f�iC�,�N� aq�˚��� ���`\\x192 E@ڞ7.�� \\x05�L��+\\\\4�\\'w�� Vw���cX��b 7�u?\\x06�\\x1a D.,�x[Qנ��\\x06���s� \\x08��><\\x05ŜR��ʉ�8�ؐ��$�� \\x17�v�.r�pXAU��ܕ�B�#��\\x12C�fO\";��E� J�� &5�����\\x07�\\x16\\x14$w*PR�\\x19���Ot\\x08�S�2 Bsa�^\\x17[  �!�z�a�:FF�\\x03\\x1b���g`,��:��Y#Mg��\\x18�/#� �����4\\x0fF.ȭ�[\\x16ʮ�X�=5�u��.\\x0f`�P \\x1a��ZeyEv�Y��\\x01�F\\x15��L $V��1��_Q+�*� \\x19��^�����ur�xԖ6', 0.99981135, 0.00016303867, 2.1782525e-05, 2.464453e-06, 1.3292026e-06, 0, 15, 'https://www.seriouseats.com/recipes/2008/01/cocktails-manhattan-recipe.html'], ['�_���G 5�0 o�@6ȸ�\\x01�t�c\\x15k>:�T:�o�~�X��;*�Q�)�B[�@��h�ZNs��k 2 Rm ��n\\x12s/3 FpM�\\x00�/��]x���VQ����\\x13Jkʔ��0�`��>�\\x07�\\x1bEl��\\'�e\\x08�\\x0fƊ��b \\x12:\\x02\\x18`� �;�����w|�S\\x1b�\\x13�D�L!�\\x00��\\x1aG�̻i\\x13=V��}̉��d\\x15��GX��ಃ����Nn 4\\x04F� .�Xs��\\x1aH\\x12&\\x01pN�ԦH\\x132��\\x15M�������� ��7}�\\x01��TJ� �� N������]$��Q}� �ʮl:�a�\\x1a\\x17Z�j��Pt͂���5 w>��f\\x00\\x11s�Ow���v^�\\x19��� �9���ȝN�|��\"�Cr S 6 J 78\\x04�^��\\'��w@|��g�/\\x05� ŗ�\\x19�Z����m���c^�\\x13�*��H���ڞ', 0.9997446, 0.00011490342, 4.348015e-05, 8.03102e-05, 1.6710226e-05, 0, 16, 'https://www.seriouseats.com/recipes/2008/01/cocktails-manhattan-recipe.html'], ['%R_� >g�\\x06�[ �c��\\x06R;b�gT�\\u03a2���1�\"� \\x12l���q\\x15 B 2 n�wL� h��pg�/6��0�x�\\x01v��]O�t+=�T<���_�!���?�Q�v�\\x0e�l�`o��a@�ص١$�\\x082� ��S\\x18%R � ���\\x15[|\\x18}� �;�\\x05��j� ��A���{���qdQ�\\x7f���mrLђ|�\\x14�+���^��\\\\��|^�ڴ\\x04�L$QCRNܶ���=oq ��y�SU�\\x10 !Yr��9�{��XĥP.�.v�\\x18\\x07 \\x1a�w 1\\x1a�����*����T\\x10�F e[�4 .��RZ; �3 A{)~���G�d;��s\\x0eĭ2�� RfN�&�/��1 s�\\x19\\x03\\x1b��f���0�\\x11g�\\x1aP~[�9 y�[ ҤH%� ޣ\\x08��~�s[;\\x7f0��j�h 2�i�Ga������s|\\x0e3\\x185\\x16\\x00�����O_�p�J��y_�qg\\x18\\x07xDA�84���U�� �0�\\x0fO��Q �N\\x01�h\\x05\"��!q���[~l ]��&��U� m|�&* �U\\x01 �Ơ�\\x18K 1�ۑ�_�Ƞ?��!��kJІ[\\x0f$�GJ� ��[�����\\x18����\\x07_d ��\\x17��F/\\x12�4 E�h�E\\x10歇�S�]���w��h;~�w/\\x07l 4)�ty�\\x01��\\'�?a�\\x08s��\\x04�!��\\x19��x�|�\\x1b 4��8�E 6#�\"�\\x06N����e�S \\\\F����D�\\x10Y���=�95 rMt\\x04��k}|�O����9�KC�%�/K\\x7f\\x14\\x0e�5 w*�qt_7��% U=Û�� �\"�\\x10����_9�$|  O!+��', 0.9999994, 4.7489655e-07, 7.0153206e-08, 3.4954965e-08, 3.7556894e-08, 0, 17, 'https://www.seriouseats.com/recipes/2008/01/cocktails-manhattan-recipe.html'], [',�����W��y���\\x17�o��\\x15P\\x19\\x0e\\x12������ƨBY��b#��FO���\\x16��R\"� �`$�oS� �S � q�� P��\\' ��_a�\\x1a8�����1���\\x11{F��\\x047�A�J�\\x0f3�}���\\x13:���\\x0f\\x08�\\x02�Ҝ5�X\\x18����\\x0f��\\x08\\x03f�s����S�� o`>�lD^V>!#�W*U�\\x01�=:�>b��<�� r h\\x08��Av\\x07\\x0e�R�r���`\\x19��Y�n��1\\x08�,�d�@R�/�{j 5 \\x13��Ń�y\\\\�o|Ŏ˰<�w z��� q.�Q`<�9\\x07�\\'�� G.\\x14X�T\\x02\\x10ǣ\\x17\\x019���C���� ��\"���ɀ�oɮ��N���� \\x12 S�Sr�l�s��\\x12��o�Wq:u\\x1b�F<�\\x07��\\'�����v\\x01\\x0f��}P[A�� ����\\x18�.#`���ʯ%\"/�a�32�xN��C�sc�?����آo��\\x00\\x10����8 q}���`�.�\\x17�Ǡ�Y%���\\x17\\x12]�\\x164>\\x7f\\x08!�ׇ�4��� �`�Y \\x01�S� �\\'�鐅�� \\x12�\"�q%�n�k�*�X 6 Y�\"�o�S <�x\\x01��u��;I!ty�� ��7��V�\\x02\\x18F��|ƛ�����\\x179;\\x18,�����N�4�#��\\x06TD�Kj ���\\x1aO�j����8�B\\x12}q����Ẩ�a�Z�a|G`ʨ�9�� �t���\\x03f@�\\x11�Z<�?W\\x007 H 4\\x00杋3\\x06,�\\x05����\\x12\\x17bi�rt�\\x15O�) ��\\x0ePg�?`C���� ��\\x14j\\x0fU�P�q\\x0e\"0���\\x10&��t�\\x05;Z�3��ѫ��7�Ƿ�< � \\x02��>.�\\x7f�����`S 9 f_��Ё�Y\\x06��>�����O\\x16J|�a��XQ�\\x05�\"��ض� �@B\\x15Y|� P�����}Ut=� ���%&z.�q���`��\\x14�,\\x17/\"� � \\x19�c�>�\\x15p��U\\x1b5��\\x1b\\x15��FAw�SWk�*��y����� ��۷�y���\\x03]4 z 4\\x00��5���˟�>�\\x01r\\x03\\x12; M`��^ �Ͽ.q�䈒7ݨ+Y`��\\x17�n�}�$���>^L\\x03��r�\\x07,1�G�M����\\x7f �o�?v�Z 2�꺈����Y�ѥwoV\\\\U�D\\x14�!q�Đ�\\x12\\x03�O\\x07l��F�������h�����\\x0e�]>�#�b\\x08\\x1aq\\x02���8��F?� \\x1a�� �B\\x01{�!�\\x17�/��i�5�� �� �\\x14�.�Q\\x11F\\x111�K��$bЧ��χ1`�\\x06�U.V�\\x08�� �� \\x14O �\\x01>L�_�&/����_��� \\x7f\\x08�U%/����\\x00�ϧ��?�^�b��\\x14c 4��X\\x10J\\x10��n\\x00Qr��)��ߜ��,y�,}\\x14įp\\x1aϡN��\\'f] f=\\' ��s 6�\\x01�4\\x11J�䒯��]�M���^\\\\�شr����2 c}]��_� ���g � \\x07�) �\\x0f\\x0f�\\x04�P��\\x03�\\x19�\\x01�9焫L�\\x13�P�ˬ\\x00�G�R��Z��s�� Ob�I�KyX �6�c', 0.9999975, 2.5611114e-06, 2.7314547e-08, 3.382379e-08, 1.2325768e-09, 0, 18, 'https://www.seriouseats.com/recipes/2008/01/cocktails-manhattan-recipe.html'], ['��\\u07fb�K�oE�h \\x00� ��\\x00O�Pe鸟�t', 0.9686244, 0.0015287172, 0.028548837, 0.00093850156, 0.0003595975, 0, 19, 'https://www.seriouseats.com/recipes/2008/01/cocktails-manhattan-recipe.html'], ['�4\\x15:���,��\\x17�\"tHC�:ա\\x7f�o\\x17�� \\x1b\\x0e���פ�x�1�\\x0f��v�j\\x00�\\x03P\\x10�#3\\x11�\\x04�Ze!�h�ȱ�X\\x10\\x13��U%�88 �\\x1a\\x04)�\\x17@�ɝ\\x10N���Qt�y���K]n��lP\\x17ڜ}��W\\x046 O�ǁ 8����A���\\\\˂ �*�\\x11��,�P\\x15p){/�ۓ���%ż:�pͻ\\x16�3ڸ��\\x13^�\\x14\"�\" w Z�\\x1b���5�\\'>ˈ\\x10��� ���,��H�O{�/���=�u�+ �$�?�\\x10�\\x07a \\x05�Oc��]Xu���:5�w\\x14��4��T]�����sյ@��\\\\\\x17��Q���p=��,5 F��� `M\"�fI�D��>�\\x07�\\x1bJ\\x13�e� �Y���rށ o��\\\\\\x1aiR� =�\\x00�\\x17�\\x1b\\x0f\\x19=�7�=��\\x03,�j�{\\x05&S��G�\\x13�xH�\\x7f��\\x0e�.�\\x7f���o�p)cqs��8�U@�Y��\\x02���\\x15�B�\\x07�1�.b|\\x7f:���9�ʥM��\\'K�\\'y��CT��&�\\x7f`�B M,�u\\x12�1*҉|�<�����,�&\\x12ҳ3\\x18\\x0e,\\x11��f\\x13\\x03 >1�u 4 b��kc:�8���\\x08��Ы� `\\x7f���)�\\'�f��ۄ\\x15� )iw>��ŕ����\\x1b\\x7f��e��\\x04aA \\\\Uq\\x13�d}ݞ &� v:=� ��\\x07�x�G�y���f��;4 S��f���B=\\x18����r�t�G�\\x17\\x0el R�Q~�~Q�a� \\x19_77�\\'\\x01�\\x14�ôȣ�\\x1bv� \\x0e�����P 7 T���\\x07��H�1 e��\\x07�Wh\\x1a�!\\x7f����e 2�i�on�\\x16������>\\x16�\\x16�Y 5�0\\x16��\\x01 �Y: c\\x14��C�t�O�=P;\\x18��\\x08�� t�\\x1a�}\\x11_���}��\\x14.�d�4�`���� \\x02��Ӗ�cTl��on\\x07\\x06ޫ�M��g�Y �\\x03ҭ:�pċ���Go�8� �x��y�����ѫ�/܀��,[d 1�\\x7f�  �49 b\\x18\\x07 �F��p \\x17�帶��\\x07\\x03:�~%\\x00\\x01]�)�3 X 9�����ܪ�\\x16��+� �1��\\x189�Gn��oE�s\\x1b�H 3��B\\x1a���n���\\x03`F%\"��q~R��\\x07H\\x04�ô', 0.9999862, 1.36788485e-05, 1.1298041e-09, 1.17713086e-07, 8.593003e-09, 0, 20, 'https://www.seriouseats.com/recipes/2008/01/cocktails-manhattan-recipe.html'], ['�\\x12a 2����\\x10 �O}ǁ \\x06�E�\\x19JiS^��\\x0e@�\\x1b\\x0e� wX�}�N��mi�C�!�a�8 M��^? ��J Mի���,\\x0fݵ\\x087 e�\\x19I��ԋ���wx�� ZiD R�\\x01�t�|��ݟ #Xk�+�X���µe��!�\\x10Rn>��\\x10\\x019^)) 3� :�=v 7 Y�9 M��෯\\x16�\\x00��&�_�\\x05��n `\\'�j��pIfxԬ�[kO�L�3\\x06��k�%11 N f�:�@��{�jW�ߊ��BT 4<]Y���M��ED����I�� ��\\x0e��̏[�� �Q i%\\x11�������)�V��ϤW��6�ȀF��$�� �L\\x12 ���H��B � ��\\x7fMٔE�T�Z@�DhR �r� \\x03h� l\\x14^�K 6|���\\x02 ��\\x1a\\x0fQ��c�\\x0f����\\x0e1/4jD\\x13 nS���@V}�1?�E��K=\\x7f��\\x0f�T>�\\x0e�ժ �yŋ�0\\x17�N.�\\'\\x024�\\\\ h�j���ά<]_X\\x17O�ܠ�\\x03_��#���~3�i�V�.��$�\\x17�����x�۵���^�:��t�z��q�Z�J\\x7f/\\x19;�xAz�Vg�\\x01�Ar+\\x0e��@� �b ��m�ϑ\\x07\\x03^E 8 m< �uk)���w wc�r P��A�1 ��\\x1b�ǆ�on�Ѽ� {��\\x00���`$l 1 0~�*X��06����&O��1\\x02�as����&���X����wi^t*�E O��\\x17�x̆u�\"�Z��缤4��k�=\\x18\\x08��h� *X��\\x15�]\\x1a\\x7f.�\\x04���s<\\x1a�PDUM�r� &7��J�i?�<\\x14�*C�Q���K��#����\\x18\\x10T��*N��� ɧu� �R+���.�94 bK\\x10D�J/ \"�\\x12\\x15@\\x0eXV�\\x1a���yY �̴�{q\\x16\\x1b]\\'�尃��\\x01�#����v[\\x01y\\u2437<�]�B�� 52�率/x+����8�\\x15xr�n%�\\x06���\\x12�Wn�����0|\\x06\\x19��\\\\~���G�.\\'��O��%;t\\x03q�v�d�bt\\\\,�p���c*/\\x05\\x00���?�\\x7f�ᗣ7\\x7f\\x13 �;y�\\x15Xѡ&0%�tG�\\x0f�O \\x15kQ\\x14 #�\\'� UIG������/;6\\x05*N��i���\\x0e�TW]�+ډ�@\\x17\\x18���F�����t�^?���\\x13\\x03��D����{��\"��WF� Q���I 5 s:q����d��Ǐ�s(�eCdɟ\\x17��M:�E  �r@BZ\\x00�e����\\x02e�/7 e����j�\\x00/.b�%�\\x1b\\x03 ���>&\\'�d�Z�\\'H�\\x12RǍO�\\x7fӂ\\x01��\\x1bd��v ��\\x05E:�4�!;+�\\x0fű鸰��� 0^b\\x02\\x00�\\x0e�J��d���O`�[��77�#Ƀ��V( \\x17��x�����\\x00�8�\\x12�Mް���� �9��|\\x02k̆���,��\\x16<\"�l�\\x14��\\x1bLbZ�:����ڣrU\\x0e����i�ww\\x03���\\x19��P��Ȁ8;�WH�]wV� 7 UO\\x06 \\'�\\x19ҁ�M�^��mg\\x03�_J� ��B �����Ԭ\\x02�[a�us�8\\x08\\x7fm��O��\\'� ��4��Zl\\x1b5�a 3:�Z 85�m*��\\x17��(�I\\x06\\x10\\x02�hp�����$��/ \\x08�@����&fV�g�]sw\\x06', 0.99999785, 2.180439e-06, 8.412119e-10, 1.6874937e-08, 7.356522e-09, 0, 21, 'https://www.seriouseats.com/recipes/2008/01/cocktails-manhattan-recipe.html'], ['4�)�\\x16��\\x07b�\\u0557ٮo�q��0 R+�\\x0e���\\x12�ʃD\\x002�|��nK�xX}4����=U\\x1b\\x7f %����s:L�_��|�6`�\\x17|�����e\\x01.�RW��{\\x04�%�o��\\x17��a�oT 7���/\\x19�\\x16� \\x16�Nm�9�㗠3<�>� �Z᧿E�f�_�1&��G�\"\\x0f�� >�,�R� M��v\\x02���\\'\\x17�\\x17D�ɲ9 c̃��~� B�P�\\\\fUq;\\x1a��6�\\x19�: \\x15��\\x07H:�̗�,�Y������`� ��\\x05M%Γ~g����8 ZX�a �V{��\\x14��>\\x11��t(�j� E�yBN\\x18.���<�Z�����x�b�W�`�>�\\x1a���F^|�G���n��efCeƓW��\\x18;�ӌ�\\x00W<�\\x14:i�', 0.52801776, 5.333621e-05, 0.4718669, 5.669105e-05, 5.285273e-06, 0, 22, 'https://www.seriouseats.com/recipes/2008/01/cocktails-manhattan-recipe.html'], [\"w��Y����,�7 I�E� \\x07\\x17�Q�ȩz�e�P�� � !<\\x0e���]�\\x15܍� �� :�`�>z��d ���� ��̣� +�*'\\x04��;�� 6 Z��\\\\� �PQ mǦ�}��䤬z���A @�i����\\x0ez;���1:� v��L 3������\\x19z�\\x10���;~�{L�QU 6 N�\", 0.9993411, 0.00017670741, 0.000118241325, 0.00028918378, 7.4838325e-05, 0, 23, 'https://www.seriouseats.com/recipes/2008/01/cocktails-manhattan-recipe.html'], ['�V �LJ�i�mi� \\x02���n�����Z��eZ߶�� }[�Z���قַ�ֳeZ߱��# W�Z���\\x05��h�\\x0f�c�Ad�\\x13��\"��\\x18\\x1a��Pi��\\x11��e|�/\\x14^�;\\x03<.\\x14\\x12�b�T�����\\x17d\\x07 6���k���ӫ�dq\\x12i�6 b���%J�5 K ��%�疳�\\x04�\\x00s�\\x18�*g\\x0fEF�&ΰ tY�� �KQ���\\x0f�����\\x10 �R�s��� ��)/~ M��s �X��Y�ػ����Yt����n�T��d_�ҧ�\\x17��{����\\u05ffhS�4��G n����� m[k���| U��\\x11P������9 W�V�TԂ�>�k�˶��\\x05����o�Ze��t�ʩ_=A��2 p���t.Y 4�6 Q�t� ��5�\\x14��Qv�@C]g�=��v�Q=I�s��Qね4&/�!�<� � ]r� ]s��� \\x17���Ǭ�`�\\x15�u�o�\\x06(({�=�', 0.99997866, 1.8977587e-05, 2.57471e-07, 2.0436225e-06, 6.295431e-08, 0, 24, 'https://www.seriouseats.com/recipes/2008/01/cocktails-manhattan-recipe.html'], ['�ļ�\\x10\\x02���]ct������e\\x0f]����!�q���ᣎ��\\x0e\\x01����$\\x19t���n����>�9 h���vz����G{{�{���f{gϝuLx |\\x18�\\x01��od��,���V\\x0e\\x0eZ\\x07�ͽ��}��L#h����ֆ�\\x0fmrz�̙�\\x13�|E�\\x15`0�Rg\\x16�78 G���=0 Q �z 6 u=��\\x022�v�݆\\x193�@��S��v��d�Q�ǲ�\\x19�b�œf�SQ>r_��N�e�_\\x12��\\x14����\\'\\x10� w�0\\x08�\\x10�/\\x13 �l/� ��r�4��\\x08���������>��Em\\x1bc�e f���u\"\\x15�m�ˬ���\\x17[%\"V������kn ��\\x13����w[!�4֣���8��\\x0f�}gZ>�C\\x1be��D�)\\x04r?��\\x10ji��4 ܆��\\x18@\\x15��Q�����\\x19�1: �o ~ O�o�/� �\\x03����<q���\\x16\\'#V�J�s���s�\\'%\\x03�\\x05�ְ�\\x07��d��� z�r\\x07 6�[�k\\x10���\\x07�ya˓��ȄY =�� ��\\x10l� ���ӓ饻?#U\\x00�����Z.$9��\\\\�C��F��?�\\x0eX�*��P_���& J�K�\\x11E�\\x03�b�}�ԋ���m��� El�{\\x03�� �\\x00\\x19i\\x15�l��ګ��B@���CZ���)�R�V��4 Z\\x01=���������mn \\x02Foϐ�\"m@Ҕ�P�q*$H$ \\x02�R�T D\\x03�$\\x13.]�b���\\x12����\\x13Ez\\x00 �ʢ2�A���:\\x02�0<�͛\\x05 � w��V��\\\\����\\x7f��nrV��Ion��I�y�\\x17�>�i�a�\"��*Hs��[0�#� |�x\\x04ژ %�N~�ٺ�\\x11�g���c^܈�h�� *�\\x06\\x04��ˁ��Y��z 9�7� �c�FB�\\x0fK��Ϋ���{�:@�^��\\x12\\x11܄�����LoC:?���G�F�v� [ �\\x02~�;��:��Y\\x13�  ��@�\\\\ ��+{�;\"&�EUQ���(]���\"U�=��\\x14�8��9�ґÉ�#> :�H��h@\\x1aӢ�� X <��\\x07\\x14��\\x0fQ����M���;x ՜�����?2ӹ v���x�S{�\\x05\\x0f\\x01���\\x03\\x15K��B��A��ʣ\\' �1�k �s�w �pw E��\\x06p��ۖ\\x0e����\\x1br��t\\x00��D�T�\\x017�\\x1a�ګ\\x15C 1�_r���hZB�\\x11��\\x04\\x14���Y\\x7f0�9�\\x08o���GZBH���� ѫ�\\x1bK&�t������\"Q�\\x11�<������\\x1bȑ��xD�Y���W\\x15́\\x0f\"�5\\x13_�\\x08�\\x12  �Z�V�b�P+����pr�臓, R 2\\x10�&# ��� ��=\\x14�� ���=�y^m^i��䏗ʙUB�`�\"\"kY\\x01�����W��%t�U\\x0e��\\x06Vt�@V 0\\x1b�������\"���\\x0e7�Q\\x06O躈��� \\x04o�\\x00�e!�;[�p\\x11aXDA� ��&� �o�c��d 1�M �\\x17`�}�\\x18�K �&\\x06; 0عG �\\x15\\x06\\x14!K 1 S\\x03�A���J 5�\\x19?��7 j���!����{�\\x11l\\x08��J nήĘ#ӹ�0�}�~� �ޞ_��<�\\x04*��l�U$b� ��\\x05!R˚�\\x19t 5(萲� \\\\ic���}��\\x19��x�ٲȗ\\u058c�\\x1aZXWj���\\x92��\\x10j\\x04[�0 h ���n�}=q ��t o]�', 0.9999956, 4.450644e-06, 3.1966405e-09, 1.18087655e-08, 3.8287244e-09, 0, 25, 'https://www.seriouseats.com/recipes/2008/01/cocktails-manhattan-recipe.html'], [\"�&\\x05GW+�HO���������ٮ��\\x13e&7\\x15��, ެ~���\\x02`���3��H?]*=��N���q�w\\\\�D���c�N;\\x03�J]�%WiQ/!G�������J?\\x03��~��h,_���~d 9 l\\x019.�\\x12�ދ2[, � ��caf{a���ܝ2\\x17]W 7���D�<)���5��h*9.x�f|Qu��N��I��V'<�5&cc�HM/IvW���)�\\x05�\\u0530��� �\", 0.9999963, 2.898067e-06, 1.5458346e-08, 4.9809603e-07, 3.7950178e-07, 0, 26, 'https://www.seriouseats.com/recipes/2008/01/cocktails-manhattan-recipe.html'], [',�*��6�AH��x.?@5�~���?�\\x04���\\\\l�~��s\\x18�gx\\\\?�a�U\\x18� �&��\\x04�I^�桴��Qy\\x04���n��x�N�,;\"݃�\\x10H\\x06)\\x0f��a��IA�{��$��� ���\\\\ �n�>>\\x15)�]�]\\x10���K�si\\x19�������0\\x07хj�p�\\x1aA��9>��\\x13�q��\\'�n� �v�~P��I 0 N�\\x01q\\x142 ����X�� wM�l��;��6�~ZT��\\x03�!�\"��K\\\\f�\\x7f���w]��.���;�J\\x01�g�Po������= \\\\0 �{����~W\\x16�y\\x08ֱ��\\x16\\x13� ��;�9�� Üȝ�@Y\\x10M\\x18\"�X\\x06 <)sd�m�\\x1a���蚉J�n 71 F�x�n\\x18��摮ɡ��I����1_��8 K�\\x06m}\"����œ��X}f_{{`}i/�\\x13\\x00\\x02�ד\\x07e���̅\\x06q\\x02u�L\\x0fŕ;��t�DPs��\\x16b�X����\\x18���l�E�\\x06a�\\x118�\\x06 gk��O\\x1029Ѓ����\\x144�t 4\\x19�� �:z�jK� �^�)�\\x179�~A�b 4���iFQ� \\x11��A�7\\'\\x19C\\x06��P 0��\\\\�\\x1a�\\x10�K*\\x13��� ��xO� /េ>����\\x04�8 EvUIq`\\x17�\\x08\\x03Og}�� 2��R����a�#7 S�L\\x00��\\x00��ס�� \\x1b ,\\x13&@�\\\\��\\x19�XVcd�1 p��]���2 d�:����W 6 �y�Y\\x12� ��`��\\\\�S��O&,S��\\x015�\\x0e7[\\x12\\\\\\x00\\x7ff���˄�\\x055 Np�C,9{��ڊ\\x0fJ 8�$��>\\x0e\\x16�s�9�\\x13�>?�Ј\\x01�y�uyL� �� � I �ji�f! ��\\x13�ku������x\\\\+#�^�&\\x11Z,.��\\x07\\x0f�%�\\x05����Q�u�R�_���%�l�4�\\x0fzƄob\\x18\\x1b�\\x15��� �\\x04��;�|�\\x15LQ ���i������&V\\x14�N|����e{��ډgx 1 J�^��ϑU 9<����\\x18\\x7f\\x13 ��?�\\x16m@:��ѿ�x���f��p��4���f 1���p[�oE�<\\x07�����V������Cd�7�$wh l/�����x~��x]�QS���\\x06�M;�[AsY\\x00�;&� �F����\\x18���2��~[\\\\jB����wM��\\x05n�u+��Ǽ\\x1a�~7�j���\\x02�~�R;�.\\x17����է� A�J\\x05�\\x06�`���tX��[W�[M�\\x15հ�>u���H˫I��j�\\x14)�]*��E������ �j����\\x00�$�����\\x06Ϡ��qѹdY���a�4� ka � ɸk\\x07�@6�!�r��u\\x16,s���\\x1a�5 N�eͫ��˯8��6����g ��4]\\x0e�JTŷ����i 9 M�\\x1b\\x06It����b|��#<�6�Kxu�g��,�ŕ������F����~2� �;�f��� �k\\x1a��\\x15ӯn^�WI�kW�*T� [\\x03���V\\x13�9� �\\x02\\x1a�\\x03nS\\x15����\\x08�\\x10�i���uy@� � r�M�sۆ\\\\*�:��$\\x10o��t�xd鸰\\x18��K܅�m���s\\x1b�]�fX� 4���x�$~�3�\\x02��{��n��`{�����_���[��|�RG����r�J\\x05\\x13;����wR�v�\\x04������k \"ӂ.\\x1bpW�~�p�ós��٩\\x0e�*\\'gw \\x14@]�[�� w\\x1a\\x0e�c�R�о��AK�j��`#�qMq��U\\x06Y:\\x19�_ǁ��ףW��|�X\\x08�\\x08?�\\x12\\x0fS�\\x07�[[��t|��O 3 FnY�\\x01 �3`\\x05l���A%��| ,�Oɠ~�� Q��嘎yp��F�! <+ ���`z��C��Iԓq�\\x11Ā�N�;�HZw�r�\\x06y �˛�\\x0f�o\\x7f\\x06oy /�՟ËR�M;��P�\"�Ż��ڳx\\x0e�tga����0�i��\\x1a �Ǧ L�\\x07�_���8��{Pu�!���{����䝭  \\\\�ނ��\\\\&}�\\x0f����, �l��~��gۍ�~s��h?n 7��\\x06�G�X��l�H�77��[\\x1a�\\x0f�\\x00v\\x00�/�p̊��d�� E��/Y ���\\x16�\\x14� ���~�\\x0e�[0� |����e.H>|�ni���\\x11� ��4\\x05������\\x039�c���Y�s%�}\\'z\"�u��&�����\\x03\\x1b���6 B\\x0e���L@��z\\x02�\\x06�\\x1b`\\x16\\x7f: z\\x1b�̒A 9=�\\x03�� �9 Z{\\x0e$r\\x07y�{\\x12��!w 5��Ų\\x02�\\x13�_v� ˢ� #OqΆ��k��J�J�! 76��%0�5?\"8\\x02�Q\\x02�@�w��y�S��\"\\x000 JG� � �ȡ��3�矲!tyCr�ׯfLi�c^�\\x10\\x04,�\\x16���:L�Q��i�y�=��/^T�ě��\\x7f�\\x13\\x7f���y\\x18Ɵ�o��\\x00\\x02wJ��)�=�P����< O 6�LJ��̤��\\x12�3`]ty 5 x�#t|R �5 ~A��\\x155\\x0f`����*��\\x0e�*�D���\\x10�6�Pu 8 D�!\\x01\\x01���ȷ`�%+\\x7f�f�E�xzH�fl,�\\x03�j�\\x15h\\x0f��e;\\x18�\\x0ey�y��k�U��P#�l��iVx^ �\\x12����Ϩ�x�������4 c>�IZ��^@ky���\\x08\\x17�\\x02��6 A�\\'��\\x06@8���ч������.\"�n�+� \\x19�ݥ*�Z� �/�d�`�`J cH\\x12���\\x13?�l��\\'��pj̃\\\\\\x16��wD�Y�2� ;�}d i칂&\\x18E\\x05�Q �?$���y�Q ���\\x14&���e�` �~�H�X�\\x13s�ɿ�\\x14\\'��y\\x7fRآ_�~�%6�)t�|\\x08�8\\x14y�\\x0e�p����\\x03\\x0f\\x1b �\\x04�\\'.�\\x14z�$�P ���_��V�i�M�����R j�= L�^ ��;\\x14\\x0fs�� \\x01�9� ��\\x0f\\x001��E��� �H��Z�\\x0fJAD\\x03�x��\\x06\\u05ee\\x08d�|:r;%�77 P��\\'7 p? 9�x� �6���x|>���q_��r\"P��_�g�e�y�=\\x11�\\x13��{\\x04K 7����\\x07��^�)��j����\\x04�\\x18�⿐�\\x7f�������2�_�\\x07F b��k=K\\x07W���A ��c,�*Q���܇��\\x01��E�\"< �F\\x18�\\x06(N��W`f^��,��_�P 8�1� �1/4� r�@}�{\\x04��U ٢�\\x12��S �\\x04:!jB�bx���\\x16\\x17�\\x03 ;4\\x1b4���+TG �\\x11���ݤlʹ�\\x01gG�m\\x00\\x1a\\x05ԋ�A��\\x18:���ʨg\\x12\\x08�^�\\x07���+�\\x00\\x08�B 6\\x1bŰ Q��$��` C�#��Q<��4 y�m��P ��1~hK���\\x19s�b\\x07\\x145��W�1\\x11�', 0.99985075, 0.00014548823, 1.9411875e-06, 1.2052257e-06, 6.032801e-07, 0, 27, 'https://www.seriouseats.com/recipes/2008/01/cocktails-manhattan-recipe.html'], ['�q�� ]\\x7f8\\x05�\\x17\\x03w���a\\x14#��tI�;�.��\\x10�C\\x19�\\x08\\x03c�!��֛�X\\x00\\x10�\\x12UX 3���\\x1a*9��oI�]�N;3 ZP \\x15Ʋ�<\\x06�~��|x�����Y����yw�很\\x12\"�3���`qL\\x18� �CD.�9��% �>����^<� �%�A���^\\x13\\x06/�a�L 0\\x12\\x17 y 9 PP 7�(�\\x7f\\x11\\'L', 0.99973756, 4.8214556e-06, 6.160199e-06, 0.0002433066, 8.158899e-06, 0, 28, 'https://www.seriouseats.com/recipes/2008/01/cocktails-manhattan-recipe.html'], [\"�E�qf��Z'wI* �\\x17��Pl�_\\x08�!H 3�7�`H�v��D�ȹ5��\\x06fm�A\\x049�z �+�J|Gޡ����\", 0.99906296, 1.3430936e-05, 0.0008169311, 0.00010068698, 6.1135966e-06, 0, 29, 'https://www.seriouseats.com/recipes/2008/01/cocktails-manhattan-recipe.html'], ['_\\x04��[m?�\\x06yġ`��AT� /x\"��yG�y�&I� ���� P=���\\x14\\x16�9��l�Q<\\x15�_T�FES\\x17�H 5^PM�\\u0382�� /yqĮ���� �@ǀ%\\x14c��D#> =�KB�J��\\\\\\x15S�m>\\x0e�x:�H�d C�SG��\\x00��� �.~� ��x\\x12Nd��\\x11M\\x07Ur��LS�U� �|: t��J\\x19�B�\\x18��\\x00�\\x18D\\x16C����6�\"r�dn��\\x03���,a� t �x;�@|��\\x12\\x13_�[+�\"? \\x13B 8\\x04\\x12M\\x0eB�*�\\x10�ɪ\\x03F]����}Ge 5�Ŷo����1 t�L&|\\x05\\x03D�8��\\x05�| �ŏ���E `4 q�\\x7f�����.�ּ8�\\x08���\\x03N�\\x13 � ��4 R��zI�&~���.>��lt �� �[9סi�3� M ��d�\\x07�O oQ O 6���\\x12�H� \\x14 ]x�ő\\'\\x03��jPSHk\\x1a\\x0e\\x16\\x046Ѭ\\x0fk\\x1aYѻ\\x06�.}+b�=��\\x16��4�\\x0fT���\\x8d�x�^6�\\x12\\x10�c��G�Eʇ_�=��C 2 V;E���3 T�+y�\\x1a��$�\\x13ӝ��9��L�\"�\\x15�\\x01�xi�\\x10�\\x19ϼ,;!�w\\x00t�\\x05\\x1a3 h���c\\x0f����C pt�b�W�@\\\\���L\\x12\\x0f),�\\x1bЩF�N\\x14���<��5\\x01\\x03�_�F�\\x05\\x14��Sj�Pރ\\x04�wL�������*�@ \\x17�', 0.9999896, 4.0948746e-07, 2.7395126e-06, 6.9346133e-06, 3.5680452e-07, 0, 30, 'https://www.seriouseats.com/recipes/2008/01/cocktails-manhattan-recipe.html'], [\"'��\\\\d��B\\x06M�\\x14|Z\\x13�\\x06� \\x120����(�^_7�A��@\\x00�99�%:ta (O�J�@�֚>'�k���\\x11 ��% 2 n@�\\x0f�\", 0.99997103, 5.52303e-06, 6.070723e-06, 2.4461572e-06, 1.4882403e-05, 0, 31, 'https://www.seriouseats.com/recipes/2008/01/cocktails-manhattan-recipe.html'], ['=�\\x07l�v��c�� a\\x03{z����i�@_� �4��.]�\\x02t ���\\x05 �u���\\x14\\'x��X_o>�>�J\\x02� 5�1��k�V\\x04\\x16:����AZI 2>ߤe �!_��S 6���i/��B�\\x0f��ބ\\x12��e��$KǸ�aK�ЮP\\'63��1�7 cP\\x07 \\x07�\\x02 ��&���.�i�+:lu��\\\\\\x00>žC�\"��/��\\\\�2_�k�[�d,��\\x1a\\x18\\x109 U��*�&h\\x02�Ԓ+2}�J��^,P ���\\x10 Zu�\\x14E���M`�V���` w랡*ʝ�h���? t�c�\\x01B=� ���P\\x1aQS[k���JA<��\\x0e\\'V�\"RB?��ȑ�?+�^�zY�Pk��#��H���\\x06���\\x0e� e�s�b \\u05ec�z�F S=n��c 9 AiI.��\\x19 ^N�\\x16H�5 \\x08_�踍\\x16��� � \\x1b�2%���͍>R��szi�l��\\x00wC{��O�v����0�+\\x07\\\\�N猑���RY����X�4 b��\\x150/�4��4]j\\x15���v 4)���\\x15%烞\\x05�\\x15q�ƞ��UgK�z�r�)���\\\\�Y�/�`�� �[ \\x1bn�H�\\x0f \\x02����R\\x00���8\\x10C���@���1 �\\x19�����3�]��c�0�LVSԖ��ԙ)�p� C�<�Ы`����KI �\\x0et\\x00�Z bQ\\x05\\x01�֊ߑ�ai������Y\\x0f�����nn�&:���lF.O�\\x06\\x04����_�<�q m[�2 W�1 YY�', 0.9999945, 4.5622837e-06, 2.9711774e-07, 6.9009576e-07, 5.853235e-08, 0, 32, 'https://www.seriouseats.com/recipes/2008/01/cocktails-manhattan-recipe.html'], ['�[ \\x06{}y�t:>/�{ C \\x06j�v��a~9����j\\x1b�n\\x0f�\\x06����� �� n�l������c���7�!��@�x���Wk�s��Z \\x12<�\"!� ��c/`�\\x10 ��X�o�����#�\\x11���/��B��� sA:m \\x15�U�p]\\x7f�\\x0f���Yר*�c�$�$�O\\x0fua\\x05�� @yu��\\x08\\x1a\\x03\\x00�&\\x11V�\\x07.�Wv\\x13\\x13\\x01P���g���.� �\\x0f�aKa !�+�@o�cxFlC�\\x17�9\\x1bU�uuX���EW�݇|�3�\\x18(�ϗQ��H&xJo�V��\\x0f=��/\\x14� ;H[����+���F�x�_ �qs\\x17 �/�w 8\\x15� ��;�c 4 s<���3��e\\x1aVb\\x0f o�]�\\x13���FO�?�/<� G\\x03\\x00', 0.999995, 1.9236804e-06, 1.2268199e-06, 1.4756389e-06, 4.2322782e-07, 0, 33, 'https://www.seriouseats.com/recipes/2008/01/cocktails-manhattan-recipe.html']]\n"
     ]
    }
   ],
   "source": [
    "print(data)"
   ]
  },
  {
   "cell_type": "code",
   "execution_count": 75,
   "metadata": {},
   "outputs": [
    {
     "name": "stderr",
     "output_type": "stream",
     "text": [
      "Some characters could not be decoded, and were replaced with REPLACEMENT CHARACTER.\n"
     ]
    }
   ],
   "source": [
    "import re\n",
    "import urllib\n",
    "from bs4 import BeautifulSoup, Comment\n",
    "from tensorflow.keras.preprocessing.sequence import pad_sequences\n",
    "\n",
    "url = \"https://www.seriouseats.com/recipes/2008/01/cocktails-manhattan-recipe.html\"\n",
    "\n",
    "#soup = BeautifulSoup(open(url, 'r'),\"html.parser\",from_encoding=\"iso-8859-1\")\n",
    "\n",
    "\n",
    "\n",
    "\n",
    "user_agent = 'Mozilla/5.0 (Windows; U; Windows NT 5.1; en-US; rv:1.9.0.7) Gecko/2009021910 Firefox/3.0.7'\n",
    "headers={'User-Agent':user_agent,}\n",
    "\n",
    "request = urllib.request.Request(url,None,headers)\n",
    "f = urllib.request.urlopen(request)\n",
    "file = f.read()\n",
    "soup = BeautifulSoup(file,'html.parser')\n",
    "\n"
   ]
  },
  {
   "cell_type": "code",
   "execution_count": null,
   "metadata": {},
   "outputs": [],
   "source": []
  }
 ],
 "metadata": {
  "kernelspec": {
   "display_name": "Python 3",
   "language": "python",
   "name": "python3"
  },
  "language_info": {
   "codemirror_mode": {
    "name": "ipython",
    "version": 3
   },
   "file_extension": ".py",
   "mimetype": "text/x-python",
   "name": "python",
   "nbconvert_exporter": "python",
   "pygments_lexer": "ipython3",
   "version": "3.8.3"
  }
 },
 "nbformat": 4,
 "nbformat_minor": 4
}
