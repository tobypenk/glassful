{
 "cells": [
  {
   "cell_type": "code",
   "execution_count": null,
   "metadata": {},
   "outputs": [],
   "source": [
    "from pprint import pprint\n",
    "\n",
    "user_agent = 'Mozilla/5.0 (Windows; U; Windows NT 5.1; en-US; rv:1.9.0.7) Gecko/2009021910 Firefox/3.0.7'\n",
    "headers={'User-Agent':user_agent,} \n",
    "      \n",
    "    \n",
    "new_test_links = [\n",
    "    #\"https://www.vegrecipesofindia.com/dal-makhani-restaurant-style-recipe/\",\n",
    "    #\"https://www.indianhealthyrecipes.com/veg-kurma-recipe-vegetable-korma-recipe/\"\n",
    "    \"https://www.thespruceeats.com/50-50-gin-martini-recipe-759550\"\n",
    "]\n",
    "    \n",
    "#links = scrape_bbc_vb_links()\n",
    "#links = scrape_google_search(\"scraper_working_data/google-michelada.html\")\n",
    "\n",
    "total_payload = []\n",
    "\n",
    "with open('newlabels.csv', 'w', newline='') as csvfile:\n",
    "    writer = csv.writer(csvfile, delimiter=',')\n",
    "    total = {}\n",
    "    counter = 0\n",
    "    for link in se_cocktail_links[1:4]:\n",
    "        print(link)\n",
    "        try:\n",
    "            data = process_page(link,writer)\n",
    "            this_recipe = Recipe(\n",
    "                link.split(\"/\")[-1],\n",
    "                list(map(lambda x: x[0], lasso_inward(data,4,6,1,7)[0])),\n",
    "                list(map(lambda x: x[0], lasso_inward(data,4,6,2,7)[0])),\n",
    "                list(map(lambda x: x[0], lasso_inward(data,4,6,3,7)[0])),\n",
    "                list(map(lambda x: x[0], lasso_inward(data,4,6,4,7)[0]))\n",
    "            )\n",
    "            total_payload.append(this_recipe.get_payload())\n",
    "            payload = {\n",
    "                \"title\": link,\n",
    "                \"steps\": list(map(lambda x: x[0], lasso_inward(data,4,6,1,7)[0])),\n",
    "                \"ingredients\": list(map(lambda x: x[0], lasso_inward(data,4,6,2,7)[0])),\n",
    "                \"yield\": list(map(lambda x: x[0], lasso_inward(data,4,6,3,7)[0])),\n",
    "                \"timing\": list(map(lambda x: x[0], lasso_inward(data,4,6,4,7)[0]))\n",
    "            }\n",
    "            total[str(counter)] = payload\n",
    "            counter += 1\n",
    "        except:\n",
    "            print(\"link \" + link + \" could not be opened\")\n",
    "\n"
   ]
  }
 ],
 "metadata": {
  "kernelspec": {
   "display_name": "Python 3",
   "language": "python",
   "name": "python3"
  },
  "language_info": {
   "codemirror_mode": {
    "name": "ipython",
    "version": 3
   },
   "file_extension": ".py",
   "mimetype": "text/x-python",
   "name": "python",
   "nbconvert_exporter": "python",
   "pygments_lexer": "ipython3",
   "version": "3.8.3"
  }
 },
 "nbformat": 4,
 "nbformat_minor": 4
}
