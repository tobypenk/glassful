{
 "cells": [
  {
   "cell_type": "code",
   "execution_count": null,
   "metadata": {},
   "outputs": [],
   "source": [
    "#import json\n",
    "#import random\n",
    "#import re\n",
    "#import numpy as np\n",
    "#import tensorflowjs as tfjs\n",
    "#from tensorflow.keras.utils import to_categorical\n",
    "#from tensorflow.keras import regularizers"
   ]
  },
  {
   "cell_type": "code",
   "execution_count": 34,
   "metadata": {
    "id": "hmA6EzkQJ5jt"
   },
   "outputs": [],
   "source": [
    "from model.Corpus import Corpus\n",
    "from model.Model import Model\n",
    "from model.Embeddings import Embeddings\n",
    "\n",
    "# Dimensions in the GloVe embedding\n",
    "embedding_dim = 100\n",
    "# Enforced max and min length of an example\n",
    "max_length = 60\n",
    "\n",
    "trunc_type='post'\n",
    "padding_type='post'\n",
    "oov_tok = \"<OOV>\"\n",
    "\n",
    "num_epochs = 4\n",
    "training_size= 69000\n",
    "test_portion=.1\n",
    "\n",
    "corpus = Corpus(\n",
    "    \"training_data/augmented_training_labels.csv\",\n",
    "    training_size,\n",
    "    max_length,\n",
    "    padding_type,\n",
    "    trunc_type,\n",
    "    test_portion\n",
    ").initialize()\n",
    "\n",
    "embeddings = Embeddings(\n",
    "    \"glove.6B.100d.txt\",\n",
    "    embedding_dim,\n",
    "    corpus\n",
    ").activate()"
   ]
  },
  {
   "cell_type": "code",
   "execution_count": 35,
   "metadata": {},
   "outputs": [
    {
     "name": "stdout",
     "output_type": "stream",
     "text": [
      "Epoch 1/4\n",
      "1941/1941 [==============================] - 49s 25ms/step - loss: 0.0622 - accuracy: 0.9795 - val_loss: 0.0262 - val_accuracy: 0.9929\n",
      "Epoch 2/4\n",
      "1941/1941 [==============================] - 51s 26ms/step - loss: 0.0254 - accuracy: 0.9918 - val_loss: 0.0230 - val_accuracy: 0.9929\n",
      "Epoch 3/4\n",
      "1941/1941 [==============================] - 52s 27ms/step - loss: 0.0202 - accuracy: 0.9931 - val_loss: 0.0232 - val_accuracy: 0.9926\n",
      "Epoch 4/4\n",
      "1941/1941 [==============================] - 52s 27ms/step - loss: 0.0160 - accuracy: 0.9942 - val_loss: 0.0213 - val_accuracy: 0.9939\n"
     ]
    }
   ],
   "source": [
    "classifier = Model(\n",
    "    corpus,\n",
    "    embeddings,\n",
    "    max_length,\n",
    "    num_epochs,\n",
    "    5\n",
    ").run()\n"
   ]
  },
  {
   "cell_type": "code",
   "execution_count": 40,
   "metadata": {},
   "outputs": [
    {
     "name": "stdout",
     "output_type": "stream",
     "text": [
      "https://www.acouplecooks.com/gin-fizz-cocktail/\n"
     ]
    }
   ],
   "source": [
    "from pprint import pprint\n",
    "import csv\n",
    "from scrapers.ScraperResult import ScraperResult\n",
    "from page_processors import *\n",
    "\n",
    "total_payload = []\n",
    "new_links = [\n",
    "    \"https://www.acouplecooks.com/gin-fizz-cocktail/\"\n",
    "]\n",
    "\n",
    "with open('newlabels.csv', 'w', newline='') as csvfile:\n",
    "    writer = csv.writer(csvfile, delimiter=',')\n",
    "    total = {}\n",
    "    counter = 0\n",
    "    for link in new_links:\n",
    "        print(link)\n",
    "        #try:\n",
    "        data = process_page(link,writer,classifier,corpus,max_length,padding_type,trunc_type)\n",
    "        this_recipe = ScraperResult(\n",
    "            link.split(\"/\")[-1],\n",
    "            list(map(lambda x: x[0], lasso_inward(data,4,6,1,7)[0])),\n",
    "            list(map(lambda x: x[0], lasso_inward(data,4,6,2,7)[0])),\n",
    "            list(map(lambda x: x[0], lasso_inward(data,4,6,3,7)[0])),\n",
    "            list(map(lambda x: x[0], lasso_inward(data,4,6,4,7)[0]))\n",
    "        )\n",
    "        total_payload.append(this_recipe.get_payload())\n",
    "        payload = {\n",
    "            \"title\": link,\n",
    "            \"steps\": list(map(lambda x: x[0], lasso_inward(data,4,6,1,7)[0])),\n",
    "            \"ingredients\": list(map(lambda x: x[0], lasso_inward(data,4,6,2,7)[0])),\n",
    "            \"yield\": list(map(lambda x: x[0], lasso_inward(data,4,6,3,7)[0])),\n",
    "            \"timing\": list(map(lambda x: x[0], lasso_inward(data,4,6,4,7)[0]))\n",
    "        }\n",
    "        total[str(counter)] = payload\n",
    "        counter += 1\n",
    "        #except:\n",
    "        #    print(\"link \" + link + \" could not be opened\")\n",
    "\n",
    "\n"
   ]
  },
  {
   "cell_type": "code",
   "execution_count": 37,
   "metadata": {
    "scrolled": true
   },
   "outputs": [
    {
     "name": "stdout",
     "output_type": "stream",
     "text": [
      "235\n",
      "236\n"
     ]
    }
   ],
   "source": [
    "clean_payload = list(filter(lambda x: x[\"ingredients\"] != [''] and x[\"steps\"] != [''],total_payload))\n",
    "print(len(clean_payload))\n",
    "print(len(total_payload))\n",
    "import json\n",
    "with open('bbc_cocktails_json.txt', 'w') as output_file:\n",
    "    json.dump(clean_payload, output_file)\n",
    "    "
   ]
  },
  {
   "cell_type": "code",
   "execution_count": 41,
   "metadata": {},
   "outputs": [
    {
     "name": "stdout",
     "output_type": "stream",
     "text": [
      "[{'ingredients': ['2 ounces  gin',\n",
      "                  '3/4 ounce  lemon juice',\n",
      "                  '1/2 ounce  simple syrup or maple syrup',\n",
      "                  '1 egg white*',\n",
      "                  'Garnish with lemon twist',\n",
      "                  'Soda water'],\n",
      "  'steps': ['How to make a Gin Fizz? You’ll shake together the gin, fresh '\n",
      "            'lemon juice, syrup, and egg white in a cocktail shaker without '\n",
      "            'ice first, then add ice and pour it into two glasses.',\n",
      "            'The trick to the foam topping: a dry shake!',\n",
      "            'Shake the drink ingredients without ice first. This lets the '\n",
      "            'protein in the egg begin to form foam, instead of being diluted '\n",
      "            'by the ice.',\n",
      "            'Then add ice and shake again. This cools the drink and '\n",
      "            'strengthens the foam. Strain it into the glass and you’ll get a '\n",
      "            'thick, white frothy layer.',\n",
      "            'Since 2 tablespoons of aquafaba equal 1 egg white, you can use 2 '\n",
      "            'tablespoons of aquafaba in this recipe as an equivalent to the '\n",
      "            'actual egg white. It makes for the same type of foam!',\n",
      "            'What’s a substitute for a cocktail shaker? Well if you’re in a '\n",
      "            'pinch, you can use a glass mason jar instead! Place the cocktail '\n",
      "            'in the jar and fill it with ice. Put on the top and shake away! '\n",
      "            'When pouring out the cocktail, you’ll need to use a strainer or '\n",
      "            'some other mesh to keep the ice inside the mason jar.'],\n",
      "  'timing': ['Prep Time: 5 minutes',\n",
      "             'Cook Time: 0 minutes',\n",
      "             'Total Time: 5 minutes'],\n",
      "  'title': '',\n",
      "  'yield': ['Yield: 1 drink 1 x']}]\n"
     ]
    }
   ],
   "source": [
    "from scrapers.CocktailLinkScraper import CocktailLinkScraper\n",
    "cs = CocktailLinkScraper()\n"
   ]
  }
 ],
 "metadata": {
  "accelerator": "GPU",
  "colab": {
   "name": "NLP Course - Week 3 Exercise Answer.ipynb",
   "provenance": [],
   "toc_visible": true
  },
  "kernelspec": {
   "display_name": "Python 3",
   "language": "python",
   "name": "python3"
  },
  "language_info": {
   "codemirror_mode": {
    "name": "ipython",
    "version": 3
   },
   "file_extension": ".py",
   "mimetype": "text/x-python",
   "name": "python",
   "nbconvert_exporter": "python",
   "pygments_lexer": "ipython3",
   "version": "3.8.3"
  }
 },
 "nbformat": 4,
 "nbformat_minor": 1
}
